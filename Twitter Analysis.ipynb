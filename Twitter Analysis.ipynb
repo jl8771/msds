{
 "cells": [
  {
   "cell_type": "markdown",
   "metadata": {},
   "source": [
    "# Introduction\n",
    "\n",
    "This project involves using deep learning techniques such as RNNs and LSTMs for sequential data analysis in order to determine whether or not a tweet is related to a real disaster. This is a natural language processing (NLP) intense workload and primarily uses Keras for model building, and sklearn and nltk in addition to Keras for text pre-processing.\n",
    "\n",
    "Data consists of 160-character tweets, along with location and keyword if available. Training set contains 7613 tweets, and the test set contains 3263 tweets."
   ]
  },
  {
   "cell_type": "code",
   "execution_count": 99,
   "metadata": {},
   "outputs": [],
   "source": [
    "#First load up any packages that will be needed\n",
    "import os\n",
    "import math\n",
    "import matplotlib.pyplot as plt\n",
    "import pandas as pd\n",
    "import numpy as np\n",
    "import sklearn as sk\n",
    "import statsmodels.api as sm\n",
    "import seaborn as sns\n",
    "from pathlib import Path\n",
    "\n",
    "from nltk import sent_tokenize, word_tokenize, regexp_tokenize\n",
    "from nltk.stem import PorterStemmer, WordNetLemmatizer\n",
    "from nltk.corpus import stopwords, wordnet\n",
    "import re\n",
    "from sklearn.feature_extraction.text import TfidfVectorizer\n",
    "from sklearn.model_selection import train_test_split\n",
    "\n",
    "import tf2onnx\n",
    "import onnx\n",
    "from tensorflow.keras.optimizers import Adam, RMSprop\n",
    "from tensorflow.keras.preprocessing.text import Tokenizer\n",
    "from tensorflow.keras.preprocessing.sequence import pad_sequences\n",
    "from tensorflow.keras.models import Sequential\n",
    "from tensorflow.keras.layers import Dense, Dropout, LSTM, Bidirectional, Flatten, GlobalMaxPool1D, BatchNormalization, Embedding"
   ]
  },
  {
   "cell_type": "code",
   "execution_count": 2,
   "metadata": {},
   "outputs": [],
   "source": [
    "#nltk.download('stopwords')\n",
    "#nltk.download('punkt')\n",
    "#nltk.download('wordnet')"
   ]
  },
  {
   "cell_type": "markdown",
   "metadata": {},
   "source": [
    "Load data into dataframes"
   ]
  },
  {
   "cell_type": "code",
   "execution_count": 3,
   "metadata": {},
   "outputs": [
    {
     "data": {
      "text/html": [
       "<div>\n",
       "<style scoped>\n",
       "    .dataframe tbody tr th:only-of-type {\n",
       "        vertical-align: middle;\n",
       "    }\n",
       "\n",
       "    .dataframe tbody tr th {\n",
       "        vertical-align: top;\n",
       "    }\n",
       "\n",
       "    .dataframe thead th {\n",
       "        text-align: right;\n",
       "    }\n",
       "</style>\n",
       "<table border=\"1\" class=\"dataframe\">\n",
       "  <thead>\n",
       "    <tr style=\"text-align: right;\">\n",
       "      <th></th>\n",
       "      <th>id</th>\n",
       "      <th>keyword</th>\n",
       "      <th>location</th>\n",
       "      <th>text</th>\n",
       "      <th>target</th>\n",
       "    </tr>\n",
       "  </thead>\n",
       "  <tbody>\n",
       "    <tr>\n",
       "      <th>0</th>\n",
       "      <td>1</td>\n",
       "      <td>NaN</td>\n",
       "      <td>NaN</td>\n",
       "      <td>Our Deeds are the Reason of this #earthquake M...</td>\n",
       "      <td>1</td>\n",
       "    </tr>\n",
       "    <tr>\n",
       "      <th>1</th>\n",
       "      <td>4</td>\n",
       "      <td>NaN</td>\n",
       "      <td>NaN</td>\n",
       "      <td>Forest fire near La Ronge Sask. Canada</td>\n",
       "      <td>1</td>\n",
       "    </tr>\n",
       "    <tr>\n",
       "      <th>2</th>\n",
       "      <td>5</td>\n",
       "      <td>NaN</td>\n",
       "      <td>NaN</td>\n",
       "      <td>All residents asked to 'shelter in place' are ...</td>\n",
       "      <td>1</td>\n",
       "    </tr>\n",
       "    <tr>\n",
       "      <th>3</th>\n",
       "      <td>6</td>\n",
       "      <td>NaN</td>\n",
       "      <td>NaN</td>\n",
       "      <td>13,000 people receive #wildfires evacuation or...</td>\n",
       "      <td>1</td>\n",
       "    </tr>\n",
       "    <tr>\n",
       "      <th>4</th>\n",
       "      <td>7</td>\n",
       "      <td>NaN</td>\n",
       "      <td>NaN</td>\n",
       "      <td>Just got sent this photo from Ruby #Alaska as ...</td>\n",
       "      <td>1</td>\n",
       "    </tr>\n",
       "  </tbody>\n",
       "</table>\n",
       "</div>"
      ],
      "text/plain": [
       "   id keyword location                                               text  \\\n",
       "0   1     NaN      NaN  Our Deeds are the Reason of this #earthquake M...   \n",
       "1   4     NaN      NaN             Forest fire near La Ronge Sask. Canada   \n",
       "2   5     NaN      NaN  All residents asked to 'shelter in place' are ...   \n",
       "3   6     NaN      NaN  13,000 people receive #wildfires evacuation or...   \n",
       "4   7     NaN      NaN  Just got sent this photo from Ruby #Alaska as ...   \n",
       "\n",
       "   target  \n",
       "0       1  \n",
       "1       1  \n",
       "2       1  \n",
       "3       1  \n",
       "4       1  "
      ]
     },
     "execution_count": 3,
     "metadata": {},
     "output_type": "execute_result"
    }
   ],
   "source": [
    "root = Path('twitter')\n",
    "file = 'train.csv'\n",
    "df_train = pd.read_csv(root / file)\n",
    "file = 'test.csv'\n",
    "df_test = pd.read_csv(root / file)\n",
    "\n",
    "df_train.head()"
   ]
  },
  {
   "cell_type": "markdown",
   "metadata": {},
   "source": [
    "It appears from this output, there are numerous `NaN` values in the `keyword` and `location` features."
   ]
  },
  {
   "cell_type": "code",
   "execution_count": 4,
   "metadata": {},
   "outputs": [
    {
     "data": {
      "text/plain": [
       "(7613, 5)"
      ]
     },
     "execution_count": 4,
     "metadata": {},
     "output_type": "execute_result"
    }
   ],
   "source": [
    "df_train.shape"
   ]
  },
  {
   "cell_type": "code",
   "execution_count": 5,
   "metadata": {},
   "outputs": [
    {
     "data": {
      "text/plain": [
       "(3263, 4)"
      ]
     },
     "execution_count": 5,
     "metadata": {},
     "output_type": "execute_result"
    }
   ],
   "source": [
    "df_test.shape"
   ]
  },
  {
   "cell_type": "code",
   "execution_count": 6,
   "metadata": {},
   "outputs": [
    {
     "name": "stdout",
     "output_type": "stream",
     "text": [
      "Total missing values 2594\n",
      "Location missing values 2533\n",
      "Keyword missing values 61\n"
     ]
    },
    {
     "data": {
      "image/png": "[encoded data removed]",
      "text/plain": [
       "<Figure size 432x288 with 2 Axes>"
      ]
     },
     "metadata": {
      "needs_background": "light"
     },
     "output_type": "display_data"
    }
   ],
   "source": [
    "sns.heatmap(df_train.isna());\n",
    "print(\"Total missing values\", df_train.isna().values.sum())\n",
    "print(\"Location missing values\", df_train['location'].isna().sum())\n",
    "print(\"Keyword missing values\", df_train['keyword'].isna().sum())"
   ]
  },
  {
   "cell_type": "markdown",
   "metadata": {},
   "source": [
    "Look at distribution of target data."
   ]
  },
  {
   "cell_type": "code",
   "execution_count": 7,
   "metadata": {},
   "outputs": [
    {
     "data": {
      "image/png": "[encoded data removed]",
      "text/plain": [
       "<Figure size 432x288 with 1 Axes>"
      ]
     },
     "metadata": {
      "needs_background": "light"
     },
     "output_type": "display_data"
    }
   ],
   "source": [
    "sns.countplot(x=df_train['target']);"
   ]
  },
  {
   "cell_type": "markdown",
   "metadata": {},
   "source": [
    "It appears 2533 of the 2594 total missing values are in the `location` feature. The remaining 61 missing values are in the `keyword` feature. A large number of these just happen to appear in tweets low `id` values and as such many of the values appear as `NaN` when called by the `head()` function.\n",
    "\n",
    "Looking at the data, there also appears to be issues with `keyword` data as it is URI encoded and has replaced spaces in between keywords with a `%20`. This should be removed."
   ]
  },
  {
   "cell_type": "code",
   "execution_count": 8,
   "metadata": {},
   "outputs": [
    {
     "data": {
      "text/plain": [
       "fatalities               45\n",
       "deluge                   42\n",
       "armageddon               42\n",
       "sinking                  41\n",
       "damage                   41\n",
       "                         ..\n",
       "forest%20fire            19\n",
       "epicentre                12\n",
       "threat                   11\n",
       "inundation               10\n",
       "radiation%20emergency     9\n",
       "Name: keyword, Length: 221, dtype: int64"
      ]
     },
     "execution_count": 8,
     "metadata": {},
     "output_type": "execute_result"
    }
   ],
   "source": [
    "df_train['keyword'].value_counts()"
   ]
  },
  {
   "cell_type": "code",
   "execution_count": 9,
   "metadata": {},
   "outputs": [],
   "source": [
    "df_train['keyword']  = df_train['keyword'].str.replace('%20',' ') #Replace URI encoded spaces with actual spaces"
   ]
  },
  {
   "cell_type": "code",
   "execution_count": 10,
   "metadata": {},
   "outputs": [
    {
     "data": {
      "text/plain": [
       "fatalities             45\n",
       "deluge                 42\n",
       "armageddon             42\n",
       "sinking                41\n",
       "damage                 41\n",
       "                       ..\n",
       "forest fire            19\n",
       "epicentre              12\n",
       "threat                 11\n",
       "inundation             10\n",
       "radiation emergency     9\n",
       "Name: keyword, Length: 221, dtype: int64"
      ]
     },
     "execution_count": 10,
     "metadata": {},
     "output_type": "execute_result"
    }
   ],
   "source": [
    "df_train['keyword'].value_counts()"
   ]
  },
  {
   "cell_type": "markdown",
   "metadata": {},
   "source": [
    "Look at text lengths"
   ]
  },
  {
   "cell_type": "code",
   "execution_count": 11,
   "metadata": {},
   "outputs": [
    {
     "data": {
      "image/png": "[encoded data removed]",
      "text/plain": [
       "<Figure size 432x288 with 1 Axes>"
      ]
     },
     "metadata": {
      "needs_background": "light"
     },
     "output_type": "display_data"
    }
   ],
   "source": [
    "df_analyze = df_train.copy()\n",
    "df_analyze['length'] = df_analyze['text'].str.len()\n",
    "df_analyze['length'].hist();"
   ]
  },
  {
   "cell_type": "code",
   "execution_count": 12,
   "metadata": {},
   "outputs": [
    {
     "data": {
      "text/html": [
       "<div>\n",
       "<style scoped>\n",
       "    .dataframe tbody tr th:only-of-type {\n",
       "        vertical-align: middle;\n",
       "    }\n",
       "\n",
       "    .dataframe tbody tr th {\n",
       "        vertical-align: top;\n",
       "    }\n",
       "\n",
       "    .dataframe thead th {\n",
       "        text-align: right;\n",
       "    }\n",
       "</style>\n",
       "<table border=\"1\" class=\"dataframe\">\n",
       "  <thead>\n",
       "    <tr style=\"text-align: right;\">\n",
       "      <th></th>\n",
       "      <th>id</th>\n",
       "      <th>keyword</th>\n",
       "      <th>location</th>\n",
       "      <th>text</th>\n",
       "      <th>target</th>\n",
       "      <th>length</th>\n",
       "      <th>sentences</th>\n",
       "      <th>sent_count</th>\n",
       "      <th>tokens_long</th>\n",
       "      <th>tokens</th>\n",
       "      <th>word_count</th>\n",
       "      <th>words_per_sent</th>\n",
       "    </tr>\n",
       "  </thead>\n",
       "  <tbody>\n",
       "    <tr>\n",
       "      <th>0</th>\n",
       "      <td>1</td>\n",
       "      <td>NaN</td>\n",
       "      <td>NaN</td>\n",
       "      <td>Our Deeds are the Reason of this #earthquake M...</td>\n",
       "      <td>1</td>\n",
       "      <td>69</td>\n",
       "      <td>[Our Deeds are the Reason of this #earthquake ...</td>\n",
       "      <td>1</td>\n",
       "      <td>[our, deeds, are, the, reason, of, this, earth...</td>\n",
       "      <td>[deeds, reason, earthquake, may, allah, forgiv...</td>\n",
       "      <td>13</td>\n",
       "      <td>13.0</td>\n",
       "    </tr>\n",
       "    <tr>\n",
       "      <th>1</th>\n",
       "      <td>4</td>\n",
       "      <td>NaN</td>\n",
       "      <td>NaN</td>\n",
       "      <td>Forest fire near La Ronge Sask. Canada</td>\n",
       "      <td>1</td>\n",
       "      <td>38</td>\n",
       "      <td>[Forest fire near La Ronge Sask., Canada]</td>\n",
       "      <td>2</td>\n",
       "      <td>[forest, fire, near, la, ronge, sask, canada]</td>\n",
       "      <td>[forest, fire, near, la, ronge, sask, canada]</td>\n",
       "      <td>7</td>\n",
       "      <td>3.5</td>\n",
       "    </tr>\n",
       "    <tr>\n",
       "      <th>2</th>\n",
       "      <td>5</td>\n",
       "      <td>NaN</td>\n",
       "      <td>NaN</td>\n",
       "      <td>All residents asked to 'shelter in place' are ...</td>\n",
       "      <td>1</td>\n",
       "      <td>133</td>\n",
       "      <td>[All residents asked to 'shelter in place' are...</td>\n",
       "      <td>2</td>\n",
       "      <td>[all, residents, asked, to, in, place, are, be...</td>\n",
       "      <td>[residents, asked, place, notified, officers, ...</td>\n",
       "      <td>21</td>\n",
       "      <td>10.5</td>\n",
       "    </tr>\n",
       "    <tr>\n",
       "      <th>3</th>\n",
       "      <td>6</td>\n",
       "      <td>NaN</td>\n",
       "      <td>NaN</td>\n",
       "      <td>13,000 people receive #wildfires evacuation or...</td>\n",
       "      <td>1</td>\n",
       "      <td>65</td>\n",
       "      <td>[13,000 people receive #wildfires evacuation o...</td>\n",
       "      <td>1</td>\n",
       "      <td>[people, receive, wildfires, evacuation, order...</td>\n",
       "      <td>[people, receive, wildfires, evacuation, order...</td>\n",
       "      <td>7</td>\n",
       "      <td>7.0</td>\n",
       "    </tr>\n",
       "    <tr>\n",
       "      <th>4</th>\n",
       "      <td>7</td>\n",
       "      <td>NaN</td>\n",
       "      <td>NaN</td>\n",
       "      <td>Just got sent this photo from Ruby #Alaska as ...</td>\n",
       "      <td>1</td>\n",
       "      <td>88</td>\n",
       "      <td>[Just got sent this photo from Ruby #Alaska as...</td>\n",
       "      <td>1</td>\n",
       "      <td>[just, got, sent, this, photo, from, ruby, ala...</td>\n",
       "      <td>[got, sent, photo, ruby, alaska, smoke, wildfi...</td>\n",
       "      <td>16</td>\n",
       "      <td>16.0</td>\n",
       "    </tr>\n",
       "  </tbody>\n",
       "</table>\n",
       "</div>"
      ],
      "text/plain": [
       "   id keyword location                                               text  \\\n",
       "0   1     NaN      NaN  Our Deeds are the Reason of this #earthquake M...   \n",
       "1   4     NaN      NaN             Forest fire near La Ronge Sask. Canada   \n",
       "2   5     NaN      NaN  All residents asked to 'shelter in place' are ...   \n",
       "3   6     NaN      NaN  13,000 people receive #wildfires evacuation or...   \n",
       "4   7     NaN      NaN  Just got sent this photo from Ruby #Alaska as ...   \n",
       "\n",
       "   target  length                                          sentences  \\\n",
       "0       1      69  [Our Deeds are the Reason of this #earthquake ...   \n",
       "1       1      38          [Forest fire near La Ronge Sask., Canada]   \n",
       "2       1     133  [All residents asked to 'shelter in place' are...   \n",
       "3       1      65  [13,000 people receive #wildfires evacuation o...   \n",
       "4       1      88  [Just got sent this photo from Ruby #Alaska as...   \n",
       "\n",
       "   sent_count                                        tokens_long  \\\n",
       "0           1  [our, deeds, are, the, reason, of, this, earth...   \n",
       "1           2      [forest, fire, near, la, ronge, sask, canada]   \n",
       "2           2  [all, residents, asked, to, in, place, are, be...   \n",
       "3           1  [people, receive, wildfires, evacuation, order...   \n",
       "4           1  [just, got, sent, this, photo, from, ruby, ala...   \n",
       "\n",
       "                                              tokens  word_count  \\\n",
       "0  [deeds, reason, earthquake, may, allah, forgiv...          13   \n",
       "1      [forest, fire, near, la, ronge, sask, canada]           7   \n",
       "2  [residents, asked, place, notified, officers, ...          21   \n",
       "3  [people, receive, wildfires, evacuation, order...           7   \n",
       "4  [got, sent, photo, ruby, alaska, smoke, wildfi...          16   \n",
       "\n",
       "   words_per_sent  \n",
       "0            13.0  \n",
       "1             3.5  \n",
       "2            10.5  \n",
       "3             7.0  \n",
       "4            16.0  "
      ]
     },
     "execution_count": 12,
     "metadata": {},
     "output_type": "execute_result"
    }
   ],
   "source": [
    "stop_words = set(stopwords.words(\"english\"))\n",
    "df_analyze['sentences'] = df_analyze['text'].apply(lambda x: sent_tokenize(x))\n",
    "df_analyze['sent_count'] = df_analyze['sentences'].apply(lambda x: len(x))\n",
    "df_analyze['tokens_long'] = df_analyze['text'].apply(lambda x: word_tokenize(x))\n",
    "df_analyze['tokens_long'] = df_analyze['tokens_long'].apply(lambda x: [word.lower() for word in x if word.isalpha()])\n",
    "df_analyze['tokens'] = df_analyze['tokens_long'].apply(lambda x: [word for word in x if not word in stop_words])\n",
    "df_analyze['word_count'] = df_analyze['tokens_long'].apply(lambda x: len(x))\n",
    "df_analyze['words_per_sent'] = df_analyze['word_count'] / df_analyze['sent_count']\n",
    "df_analyze.head()"
   ]
  },
  {
   "cell_type": "code",
   "execution_count": 13,
   "metadata": {},
   "outputs": [
    {
     "data": {
      "image/png": "[encoded data removed]",
      "text/plain": [
       "<Figure size 432x288 with 1 Axes>"
      ]
     },
     "metadata": {
      "needs_background": "light"
     },
     "output_type": "display_data"
    }
   ],
   "source": [
    "df_analyze['sent_count'].hist();"
   ]
  },
  {
   "cell_type": "code",
   "execution_count": 14,
   "metadata": {},
   "outputs": [
    {
     "data": {
      "image/png": "[encoded data removed]",
      "text/plain": [
       "<Figure size 432x288 with 1 Axes>"
      ]
     },
     "metadata": {
      "needs_background": "light"
     },
     "output_type": "display_data"
    }
   ],
   "source": [
    "df_analyze['word_count'].hist();"
   ]
  },
  {
   "cell_type": "code",
   "execution_count": 15,
   "metadata": {},
   "outputs": [
    {
     "data": {
      "image/png": "[encoded data removed]",
      "text/plain": [
       "<Figure size 432x288 with 1 Axes>"
      ]
     },
     "metadata": {
      "needs_background": "light"
     },
     "output_type": "display_data"
    }
   ],
   "source": [
    "df_analyze['words_per_sent'].hist();"
   ]
  },
  {
   "cell_type": "markdown",
   "metadata": {},
   "source": [
    "# Data Cleaning\n",
    "\n",
    "Before data cleaning, there are symbols, punctuation, hashtags, a mix of uppercase and lowercase letters. It will be much simpler to remove these through data cleaning."
   ]
  },
  {
   "cell_type": "code",
   "execution_count": 16,
   "metadata": {},
   "outputs": [
    {
     "data": {
      "text/plain": [
       "0    Our Deeds are the Reason of this #earthquake M...\n",
       "1               Forest fire near La Ronge Sask. Canada\n",
       "2    All residents asked to 'shelter in place' are ...\n",
       "3    13,000 people receive #wildfires evacuation or...\n",
       "4    Just got sent this photo from Ruby #Alaska as ...\n",
       "Name: text, dtype: object"
      ]
     },
     "execution_count": 16,
     "metadata": {},
     "output_type": "execute_result"
    }
   ],
   "source": [
    "df_train['text'].head()"
   ]
  },
  {
   "cell_type": "markdown",
   "metadata": {},
   "source": [
    "The result can be seen after cleaning:"
   ]
  },
  {
   "cell_type": "code",
   "execution_count": 23,
   "metadata": {},
   "outputs": [
    {
     "data": {
      "text/plain": [
       "7608    two giant cranes holding a bridge collapse int...\n",
       "7609    aria ahrary thetawniest the out of control wil...\n",
       "7610                        m1 94 5km s of volcano hawaii\n",
       "7611    police investigating after an e bike collided ...\n",
       "7612    the latest more homes razed by northern califo...\n",
       "Name: text_clean, dtype: object"
      ]
     },
     "execution_count": 23,
     "metadata": {},
     "output_type": "execute_result"
    }
   ],
   "source": [
    "def clean_text(text):\n",
    "    stop_words = set(stopwords.words(\"english\"))\n",
    "    \n",
    "    text = text.lower()\n",
    "    text = re.sub(\"\\'\", \"\", text)\n",
    "    text = re.sub('https?://\\S+|www\\.\\S+', '', text)\n",
    "    text = re.sub('http?://\\S+|www\\.\\S+', '', text)\n",
    "    text = re.sub('\\[.*?\\]', '', text)\n",
    "    text = re.sub(\"[^A-Za-z0-9 ]\",\" \",text)\n",
    "    text = re.sub('\\n', '', text)\n",
    "    text = re.sub(r'\\s+', ' ', text)\n",
    "    words = regexp_tokenize(text, r'\\w+')\n",
    "    filtered_words = [word for word in words if word not in stop_words]\n",
    "    stemmer = PorterStemmer()\n",
    "    lemmatizer = WordNetLemmatizer()\n",
    "    filtered_words = [stemmer.stem(word) for word in filtered_words]\n",
    "    filtered_words = [lemmatizer.lemmatize(word, pos=wordnet.VERB) for word in filtered_words]\n",
    "    return \" \".join(words)\n",
    "\n",
    "df_train['text_clean'] = df_train['text'].apply(clean_text)\n",
    "df_test['text_clean'] = df_test['text'].apply(clean_text)\n",
    "df_train['text_clean'].tail()"
   ]
  },
  {
   "cell_type": "markdown",
   "metadata": {},
   "source": [
    "Use keras Tokenizer to tokenize cleaned text into a sequence of words, chunks of words and special tokens to have a clear divide of even tokens for processing.\n",
    "\n",
    "Then perform word embedding to convert the tokens to numbers that can be used to train the weights and biases of the model."
   ]
  },
  {
   "cell_type": "code",
   "execution_count": 28,
   "metadata": {},
   "outputs": [
    {
     "name": "stdout",
     "output_type": "stream",
     "text": [
      "Vocab length: 17081\n"
     ]
    }
   ],
   "source": [
    "texts = df_train['text_clean'].values\n",
    "targets = df_train['target'].values\n",
    "\n",
    "tokenizer = Tokenizer()\n",
    "tokenizer.fit_on_texts(texts)\n",
    "vocab_len = len(tokenizer.word_index) + 1\n",
    "print(f'Vocab length: {vocab_len}')"
   ]
  },
  {
   "cell_type": "code",
   "execution_count": 63,
   "metadata": {},
   "outputs": [
    {
     "data": {
      "text/plain": [
       "array([[ 114, 4539,   21, ...,    0,    0,    0],\n",
       "       [ 185,   42,  222, ...,    0,    0,    0],\n",
       "       [  38, 1741, 1613, ...,    0,    0,    0],\n",
       "       ...,\n",
       "       [2804, 2389, 1602, ...,    0,    0,    0],\n",
       "       [  75, 1140,   39, ...,    0,    0,    0],\n",
       "       [   1,  209,   51, ...,    0,    0,    0]])"
      ]
     },
     "execution_count": 63,
     "metadata": {},
     "output_type": "execute_result"
    }
   ],
   "source": [
    "def embed(corpus): \n",
    "    return tokenizer.texts_to_sequences(corpus)\n",
    "\n",
    "longest_train = max(texts, key=lambda sent: len(word_tokenize(sent)))\n",
    "length_long_sentence = len(word_tokenize(longest_train))\n",
    "\n",
    "texts_padded = pad_sequences(embed(texts), length_long_sentence, padding='post')\n",
    "pred_text = pad_sequences(embed(df_test['text_clean'].values), length_long_sentence, padding='post')\n",
    "\n",
    "texts_padded"
   ]
  },
  {
   "cell_type": "markdown",
   "metadata": {},
   "source": [
    "Load GloVe, which uses aggregated global word-word coccurance statistics from the entire collection of tweets."
   ]
  },
  {
   "cell_type": "code",
   "execution_count": 44,
   "metadata": {},
   "outputs": [
    {
     "data": {
      "text/plain": [
       "array([[ 0.        ,  0.        ,  0.        , ...,  0.        ,\n",
       "         0.        ,  0.        ],\n",
       "       [-0.038194  , -0.24487001,  0.72812003, ..., -0.1459    ,\n",
       "         0.82779998,  0.27061999],\n",
       "       [-0.27085999,  0.044006  , -0.02026   , ..., -0.4923    ,\n",
       "         0.63687003,  0.23642001],\n",
       "       ...,\n",
       "       [ 0.19814   , -0.33517   , -0.13950001, ..., -0.070356  ,\n",
       "        -0.18391   ,  0.62439001],\n",
       "       [-0.25161999,  0.73246998,  0.30792999, ..., -0.89315999,\n",
       "         1.29760003, -0.04898   ],\n",
       "       [-0.17609   , -0.049419  ,  0.28481001, ..., -1.47909999,\n",
       "         0.53746998, -0.64883   ]])"
      ]
     },
     "execution_count": 44,
     "metadata": {},
     "output_type": "execute_result"
    }
   ],
   "source": [
    "embeddings_dictionary = dict()\n",
    "embedding_dim = 100\n",
    "\n",
    "# Load GloVe 100D embeddings\n",
    "with open('glove.6B.100d.txt', encoding='utf8') as f:\n",
    "    for line in f.readlines():\n",
    "        records = line.split()\n",
    "        word = records[0]\n",
    "        vector_dimensions = np.asarray(records[1:], dtype=np.float32)\n",
    "        embeddings_dictionary [word] = vector_dimensions\n",
    "\n",
    "embedding_matrix = np.zeros((vocab_len, embedding_dim))\n",
    "\n",
    "for word, index in tokenizer.word_index.items():\n",
    "    embedding_vector = embeddings_dictionary.get(word)\n",
    "    if embedding_vector is not None:\n",
    "        embedding_matrix[index] = embedding_vector\n",
    "        \n",
    "embedding_matrix"
   ]
  },
  {
   "cell_type": "markdown",
   "metadata": {},
   "source": [
    "Split data into training and validation sets with a 15% validation set stratifed on target."
   ]
  },
  {
   "cell_type": "code",
   "execution_count": 31,
   "metadata": {},
   "outputs": [],
   "source": [
    "X_train, X_val, y_train, y_val = train_test_split(texts_padded, targets, test_size=0.15, random_state=1, stratify=df_train['target'])"
   ]
  },
  {
   "cell_type": "code",
   "execution_count": 32,
   "metadata": {},
   "outputs": [
    {
     "data": {
      "text/plain": [
       "array([[ 1190,   245,  1505, ...,     0,     0,     0],\n",
       "       [16900,     8, 16901, ...,     0,     0,     0],\n",
       "       [14609,   369,    57, ...,     0,     0,     0],\n",
       "       ...,\n",
       "       [ 3436,    44,    29, ...,     0,     0,     0],\n",
       "       [  194,   695,    72, ...,     0,     0,     0],\n",
       "       [  528,  1964,  1693, ...,     0,     0,     0]])"
      ]
     },
     "execution_count": 32,
     "metadata": {},
     "output_type": "execute_result"
    }
   ],
   "source": [
    "X_train"
   ]
  },
  {
   "cell_type": "code",
   "execution_count": 33,
   "metadata": {},
   "outputs": [
    {
     "data": {
      "text/plain": [
       "array([0, 1, 1, ..., 0, 1, 1], dtype=int64)"
      ]
     },
     "execution_count": 33,
     "metadata": {},
     "output_type": "execute_result"
    }
   ],
   "source": [
    "y_train"
   ]
  },
  {
   "cell_type": "code",
   "execution_count": 34,
   "metadata": {},
   "outputs": [
    {
     "data": {
      "text/plain": [
       "array([[   13,   557,   294, ...,     0,     0,     0],\n",
       "       [ 2527,  2685,    73, ...,     0,     0,     0],\n",
       "       [   95,  1828,  1361, ...,     0,     0,     0],\n",
       "       ...,\n",
       "       [  172,  1411,  4750, ...,     0,     0,     0],\n",
       "       [ 1410,     5,   903, ...,     0,     0,     0],\n",
       "       [15236,    29,   466, ...,     0,     0,     0]])"
      ]
     },
     "execution_count": 34,
     "metadata": {},
     "output_type": "execute_result"
    }
   ],
   "source": [
    "X_val"
   ]
  },
  {
   "cell_type": "code",
   "execution_count": 35,
   "metadata": {},
   "outputs": [
    {
     "data": {
      "text/plain": [
       "array([0, 0, 0, ..., 1, 0, 1], dtype=int64)"
      ]
     },
     "execution_count": 35,
     "metadata": {},
     "output_type": "execute_result"
    }
   ],
   "source": [
    "y_val"
   ]
  },
  {
   "cell_type": "code",
   "execution_count": 100,
   "metadata": {},
   "outputs": [
    {
     "name": "stdout",
     "output_type": "stream",
     "text": [
      "Model: \"BidirectionLSTM\"\n",
      "_________________________________________________________________\n",
      " Layer (type)                Output Shape              Param #   \n",
      "=================================================================\n",
      " embedding_12 (Embedding)    (None, 33, 100)           1708100   \n",
      "                                                                 \n",
      " bidirectional_16 (Bidirect  (None, 33, 66)            35376     \n",
      " ional)                                                          \n",
      "                                                                 \n",
      " bidirectional_17 (Bidirect  (None, 33, 66)            26400     \n",
      " ional)                                                          \n",
      "                                                                 \n",
      " global_max_pooling1d_11 (G  (None, 66)                0         \n",
      " lobalMaxPooling1D)                                              \n",
      "                                                                 \n",
      " batch_normalization_11 (Ba  (None, 66)                264       \n",
      " tchNormalization)                                               \n",
      "                                                                 \n",
      " dropout_33 (Dropout)        (None, 66)                0         \n",
      "                                                                 \n",
      " dense_33 (Dense)            (None, 33)                2211      \n",
      "                                                                 \n",
      " dropout_34 (Dropout)        (None, 33)                0         \n",
      "                                                                 \n",
      " dense_34 (Dense)            (None, 33)                1122      \n",
      "                                                                 \n",
      " dropout_35 (Dropout)        (None, 33)                0         \n",
      "                                                                 \n",
      " dense_35 (Dense)            (None, 1)                 34        \n",
      "                                                                 \n",
      "=================================================================\n",
      "Total params: 1773507 (6.77 MB)\n",
      "Trainable params: 1773375 (6.76 MB)\n",
      "Non-trainable params: 132 (528.00 Byte)\n",
      "_________________________________________________________________\n"
     ]
    }
   ],
   "source": [
    "def get_model():\n",
    "    optimizer = RMSprop(momentum=0.1)\n",
    "    model = Sequential(name='BidirectionLSTM')\n",
    "    model.add(Embedding(input_dim=embedding_matrix.shape[0], output_dim=embedding_matrix.shape[1], weights=[embedding_matrix], input_length=length_long_sentence))\n",
    "    model.add(Bidirectional(LSTM(length_long_sentence, return_sequences=True, recurrent_dropout=0.3)))\n",
    "    model.add(Bidirectional(LSTM(length_long_sentence, return_sequences=True, recurrent_dropout=0.3)))\n",
    "    model.add(GlobalMaxPool1D())\n",
    "    model.add(BatchNormalization())\n",
    "    model.add(Dropout(0.5))\n",
    "    model.add(Dense(length_long_sentence, activation = \"relu\"))\n",
    "    model.add(Dropout(0.5))\n",
    "    model.add(Dense(length_long_sentence, activation = \"relu\"))\n",
    "    model.add(Dropout(0.5))\n",
    "    model.add(Dense(1, activation = 'sigmoid'))\n",
    "    model.compile(optimizer='Adam', loss='binary_crossentropy', metrics=['accuracy'])\n",
    "    return model\n",
    "\n",
    "model = get_model()\n",
    "model.summary()"
   ]
  },
  {
   "cell_type": "markdown",
   "metadata": {},
   "source": [
    "Tried changing number of layers, adding LSTM units, removing LSTM units. Initial increase in number of units actually decreased performance.\n",
    "\n",
    "Also tried using different number of epochs for training from 5-25 to find an optimal stopping point.\n",
    "\n",
    "Finally, tried tuning with different optimizers and the optimizer hyperparameters for increasing performance."
   ]
  },
  {
   "cell_type": "code",
   "execution_count": 101,
   "metadata": {},
   "outputs": [
    {
     "name": "stdout",
     "output_type": "stream",
     "text": [
      "Epoch 1/7\n",
      "102/102 [==============================] - 10s 43ms/step - loss: 0.6835 - accuracy: 0.6373 - val_loss: 0.6531 - val_accuracy: 0.7898\n",
      "Epoch 2/7\n",
      "102/102 [==============================] - 4s 41ms/step - loss: 0.5452 - accuracy: 0.7449 - val_loss: 0.5906 - val_accuracy: 0.8109\n",
      "Epoch 3/7\n",
      "102/102 [==============================] - 4s 40ms/step - loss: 0.4889 - accuracy: 0.7866 - val_loss: 0.4984 - val_accuracy: 0.8319\n",
      "Epoch 4/7\n",
      "102/102 [==============================] - 4s 38ms/step - loss: 0.4330 - accuracy: 0.8258 - val_loss: 0.4433 - val_accuracy: 0.8310\n",
      "Epoch 5/7\n",
      "102/102 [==============================] - 4s 37ms/step - loss: 0.3842 - accuracy: 0.8516 - val_loss: 0.4202 - val_accuracy: 0.8266\n",
      "Epoch 6/7\n",
      "102/102 [==============================] - 4s 37ms/step - loss: 0.3239 - accuracy: 0.8804 - val_loss: 0.4028 - val_accuracy: 0.8380\n",
      "Epoch 7/7\n",
      "102/102 [==============================] - 4s 37ms/step - loss: 0.2708 - accuracy: 0.9034 - val_loss: 0.4490 - val_accuracy: 0.8109\n"
     ]
    }
   ],
   "source": [
    "history = model.fit(X_train, y_train, epochs = 7, batch_size = 64, validation_data = (X_val, y_val))"
   ]
  },
  {
   "cell_type": "code",
   "execution_count": 104,
   "metadata": {},
   "outputs": [
    {
     "data": {
      "text/plain": [
       "Text(0, 0.5, 'Accuracy')"
      ]
     },
     "execution_count": 104,
     "metadata": {},
     "output_type": "execute_result"
    },
    {
     "data": {
      "image/png": "[encoded data removed]",
      "text/plain": [
       "<Figure size 1440x360 with 2 Axes>"
      ]
     },
     "metadata": {
      "needs_background": "light"
     },
     "output_type": "display_data"
    }
   ],
   "source": [
    "fig, ax = plt.subplots(1, 2, figsize=(20, 5))\n",
    "ax[0].plot(history.history['loss'])\n",
    "ax[0].plot(history.history['val_loss'])\n",
    "ax[0].legend(['loss', 'val_loss'],fontsize=15)\n",
    "ax[0].set_xlabel('Epoch',fontsize=16)\n",
    "ax[0].set_ylabel('Loss',fontsize=16)\n",
    "ax[1].plot(history.history['accuracy'])\n",
    "ax[1].plot(history.history['val_accuracy'])\n",
    "ax[1].legend(['acc', 'val_acc'],fontsize=15)\n",
    "ax[1].set_xlabel('Epoch',fontsize=16)\n",
    "ax[1].set_ylabel('Accuracy',fontsize=16)"
   ]
  },
  {
   "cell_type": "code",
   "execution_count": 96,
   "metadata": {},
   "outputs": [
    {
     "name": "stdout",
     "output_type": "stream",
     "text": [
      "102/102 [==============================] - 1s 8ms/step\n"
     ]
    },
    {
     "data": {
      "text/html": [
       "<div>\n",
       "<style scoped>\n",
       "    .dataframe tbody tr th:only-of-type {\n",
       "        vertical-align: middle;\n",
       "    }\n",
       "\n",
       "    .dataframe tbody tr th {\n",
       "        vertical-align: top;\n",
       "    }\n",
       "\n",
       "    .dataframe thead th {\n",
       "        text-align: right;\n",
       "    }\n",
       "</style>\n",
       "<table border=\"1\" class=\"dataframe\">\n",
       "  <thead>\n",
       "    <tr style=\"text-align: right;\">\n",
       "      <th></th>\n",
       "      <th>id</th>\n",
       "      <th>keyword</th>\n",
       "      <th>location</th>\n",
       "      <th>text</th>\n",
       "      <th>text_clean</th>\n",
       "      <th>target</th>\n",
       "    </tr>\n",
       "  </thead>\n",
       "  <tbody>\n",
       "    <tr>\n",
       "      <th>0</th>\n",
       "      <td>0</td>\n",
       "      <td>NaN</td>\n",
       "      <td>NaN</td>\n",
       "      <td>Just happened a terrible car crash</td>\n",
       "      <td>just happened a terrible car crash</td>\n",
       "      <td>1</td>\n",
       "    </tr>\n",
       "    <tr>\n",
       "      <th>1</th>\n",
       "      <td>2</td>\n",
       "      <td>NaN</td>\n",
       "      <td>NaN</td>\n",
       "      <td>Heard about #earthquake is different cities, s...</td>\n",
       "      <td>heard about earthquake is different cities sta...</td>\n",
       "      <td>1</td>\n",
       "    </tr>\n",
       "    <tr>\n",
       "      <th>2</th>\n",
       "      <td>3</td>\n",
       "      <td>NaN</td>\n",
       "      <td>NaN</td>\n",
       "      <td>there is a forest fire at spot pond, geese are...</td>\n",
       "      <td>there is a forest fire at spot pond geese are ...</td>\n",
       "      <td>1</td>\n",
       "    </tr>\n",
       "    <tr>\n",
       "      <th>3</th>\n",
       "      <td>9</td>\n",
       "      <td>NaN</td>\n",
       "      <td>NaN</td>\n",
       "      <td>Apocalypse lighting. #Spokane #wildfires</td>\n",
       "      <td>apocalypse lighting spokane wildfires</td>\n",
       "      <td>1</td>\n",
       "    </tr>\n",
       "    <tr>\n",
       "      <th>4</th>\n",
       "      <td>11</td>\n",
       "      <td>NaN</td>\n",
       "      <td>NaN</td>\n",
       "      <td>Typhoon Soudelor kills 28 in China and Taiwan</td>\n",
       "      <td>typhoon soudelor kills 28 in china and taiwan</td>\n",
       "      <td>1</td>\n",
       "    </tr>\n",
       "  </tbody>\n",
       "</table>\n",
       "</div>"
      ],
      "text/plain": [
       "   id keyword location                                               text  \\\n",
       "0   0     NaN      NaN                 Just happened a terrible car crash   \n",
       "1   2     NaN      NaN  Heard about #earthquake is different cities, s...   \n",
       "2   3     NaN      NaN  there is a forest fire at spot pond, geese are...   \n",
       "3   9     NaN      NaN           Apocalypse lighting. #Spokane #wildfires   \n",
       "4  11     NaN      NaN      Typhoon Soudelor kills 28 in China and Taiwan   \n",
       "\n",
       "                                          text_clean  target  \n",
       "0                 just happened a terrible car crash       1  \n",
       "1  heard about earthquake is different cities sta...       1  \n",
       "2  there is a forest fire at spot pond geese are ...       1  \n",
       "3              apocalypse lighting spokane wildfires       1  \n",
       "4      typhoon soudelor kills 28 in china and taiwan       1  "
      ]
     },
     "execution_count": 96,
     "metadata": {},
     "output_type": "execute_result"
    }
   ],
   "source": [
    "predicted_labels = model.predict(pred_text)\n",
    "df_test['target'] = np.round(predicted_labels.flatten()).astype('int')\n",
    "df_test.head()"
   ]
  },
  {
   "cell_type": "code",
   "execution_count": 97,
   "metadata": {},
   "outputs": [],
   "source": [
    "df_test.drop(['keyword', 'location', 'text', 'text_clean'], axis=1).to_csv('predictions.csv', index=False)"
   ]
  },
  {
   "cell_type": "code",
   "execution_count": 98,
   "metadata": {},
   "outputs": [],
   "source": [
    "# Save model\n",
    "model.save('Complete.keras')\n",
    "\n",
    "onnx_model, _ = tf2onnx.convert.from_keras(model, opset=13)\n",
    "onnx.save(onnx_model, \"model.onnx\")"
   ]
  },
  {
   "cell_type": "markdown",
   "metadata": {},
   "source": [
    "References: https://www.kaggle.com/code/andreshg/nlp-glove-bert-tf-idf-lstm-explained#7.-LSTM"
   ]
  }
 ],
 "metadata": {
  "kernelspec": {
   "display_name": "Python 3.10.11 64-bit (microsoft store)",
   "language": "python",
   "name": "python3"
  },
  "language_info": {
   "codemirror_mode": {
    "name": "ipython",
    "version": 3
   },
   "file_extension": ".py",
   "mimetype": "text/x-python",
   "name": "python",
   "nbconvert_exporter": "python",
   "pygments_lexer": "ipython3",
   "version": "3.10.11"
  },
  "orig_nbformat": 4,
  "vscode": {
   "interpreter": {
    "hash": "d1afd38e33051f7f0b6d1bfa4c297759d67c79cde33f4b25a646a40304c8f70c"
   }
  }
 },
 "nbformat": 4,
 "nbformat_minor": 2
}

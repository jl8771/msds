{
 "cells": [
  {
   "cell_type": "markdown",
   "metadata": {},
   "source": [
    "# Import Libraries"
   ]
  },
  {
   "cell_type": "code",
   "execution_count": 1,
   "metadata": {},
   "outputs": [],
   "source": [
    "from sklearn.cluster import AgglomerativeClustering, KMeans, HDBSCAN\n",
    "import pandas as pd\n",
    "import numpy as np\n",
    "import plotly.express as px\n",
    "from sklearn.model_selection import train_test_split, GridSearchCV, cross_val_score\n",
    "from sklearn.metrics import classification_report, accuracy_score\n",
    "from sklearn.preprocessing import LabelEncoder"
   ]
  },
  {
   "cell_type": "markdown",
   "metadata": {},
   "source": [
    "# Background\n",
    "\n",
    "Data Source: https://mesonet.agron.iastate.edu/request/download.phtml\n",
    "\n",
    "Dataset contains a list of all stations with automated airport weather observations that had US domestic commercial travel in 2022. Contains ASOS/AWOS sensor data, also known as METAR data. Originally contained data from all 50 US States plus the US Virgin Islands, Puerto Rico and US Pacific terriroties such as Guam and American Samoa. This has been reduced to only the 50 states as including the smaller locations would make the geospatial plotting difficult.\n",
    "\n",
    "Along with each station's name, state and identifying codes in three separate formats, also includes latitude/longitude data and elevation of the airfield data.\n",
    "The latitude/longitude data will be clustered to see how different clustering algorithms will group these stations and compare that to the geographic state boundaries.\n",
    "\n",
    "# Setup Data\n",
    "\n",
    "Import data, then remove null values.\n",
    "\n",
    "Remove all stations outside of CONUS (U.S. Virgin Islands, Puerto Rico, American Samoa)\n",
    "\n",
    "Set a display name for plotting use later.\n",
    "\n",
    "Finally, set X as latitude,longitude coordinate pairs. Set y as the state."
   ]
  },
  {
   "cell_type": "code",
   "execution_count": 2,
   "metadata": {},
   "outputs": [],
   "source": [
    "df = pd.read_csv('Stations.csv')\n",
    "df.dropna(inplace=True)\n",
    "df = df[~df['AIRPORT_STATE_CODE'].isin(['VI', 'PR', 'TT'])].reset_index()\n",
    "df['AIRPORT'] = df['IATA'].str.cat(df['DISPLAY_AIRPORT_NAME'], sep=' ')\n",
    "X = df.filter(['LATITUDE', 'LONGITUDE'])\n",
    "y = df.filter(['AIRPORT_STATE_CODE'])\n",
    "names = df.filter(['AIRPORT'])"
   ]
  },
  {
   "cell_type": "markdown",
   "metadata": {},
   "source": [
    "View data"
   ]
  },
  {
   "cell_type": "code",
   "execution_count": 3,
   "metadata": {},
   "outputs": [
    {
     "data": {
      "text/html": [
       "<div>\n",
       "<style scoped>\n",
       "    .dataframe tbody tr th:only-of-type {\n",
       "        vertical-align: middle;\n",
       "    }\n",
       "\n",
       "    .dataframe tbody tr th {\n",
       "        vertical-align: top;\n",
       "    }\n",
       "\n",
       "    .dataframe thead th {\n",
       "        text-align: right;\n",
       "    }\n",
       "</style>\n",
       "<table border=\"1\" class=\"dataframe\">\n",
       "  <thead>\n",
       "    <tr style=\"text-align: right;\">\n",
       "      <th></th>\n",
       "      <th>LATITUDE</th>\n",
       "      <th>LONGITUDE</th>\n",
       "    </tr>\n",
       "  </thead>\n",
       "  <tbody>\n",
       "    <tr>\n",
       "      <th>0</th>\n",
       "      <td>56.801388</td>\n",
       "      <td>-132.946100</td>\n",
       "    </tr>\n",
       "    <tr>\n",
       "      <th>1</th>\n",
       "      <td>61.174168</td>\n",
       "      <td>-149.998060</td>\n",
       "    </tr>\n",
       "    <tr>\n",
       "      <th>2</th>\n",
       "      <td>55.354168</td>\n",
       "      <td>-131.711100</td>\n",
       "    </tr>\n",
       "    <tr>\n",
       "      <th>3</th>\n",
       "      <td>64.510560</td>\n",
       "      <td>-165.444720</td>\n",
       "    </tr>\n",
       "    <tr>\n",
       "      <th>4</th>\n",
       "      <td>60.778610</td>\n",
       "      <td>-161.837220</td>\n",
       "    </tr>\n",
       "    <tr>\n",
       "      <th>...</th>\n",
       "      <td>...</td>\n",
       "      <td>...</td>\n",
       "    </tr>\n",
       "    <tr>\n",
       "      <th>363</th>\n",
       "      <td>42.905834</td>\n",
       "      <td>-106.463610</td>\n",
       "    </tr>\n",
       "    <tr>\n",
       "      <th>364</th>\n",
       "      <td>44.520280</td>\n",
       "      <td>-109.023890</td>\n",
       "    </tr>\n",
       "    <tr>\n",
       "      <th>365</th>\n",
       "      <td>44.348890</td>\n",
       "      <td>-105.539444</td>\n",
       "    </tr>\n",
       "    <tr>\n",
       "      <th>366</th>\n",
       "      <td>43.064167</td>\n",
       "      <td>-108.459724</td>\n",
       "    </tr>\n",
       "    <tr>\n",
       "      <th>367</th>\n",
       "      <td>44.769165</td>\n",
       "      <td>-106.980280</td>\n",
       "    </tr>\n",
       "  </tbody>\n",
       "</table>\n",
       "<p>368 rows × 2 columns</p>\n",
       "</div>"
      ],
      "text/plain": [
       "      LATITUDE   LONGITUDE\n",
       "0    56.801388 -132.946100\n",
       "1    61.174168 -149.998060\n",
       "2    55.354168 -131.711100\n",
       "3    64.510560 -165.444720\n",
       "4    60.778610 -161.837220\n",
       "..         ...         ...\n",
       "363  42.905834 -106.463610\n",
       "364  44.520280 -109.023890\n",
       "365  44.348890 -105.539444\n",
       "366  43.064167 -108.459724\n",
       "367  44.769165 -106.980280\n",
       "\n",
       "[368 rows x 2 columns]"
      ]
     },
     "execution_count": 3,
     "metadata": {},
     "output_type": "execute_result"
    }
   ],
   "source": [
    "X"
   ]
  },
  {
   "cell_type": "code",
   "execution_count": 4,
   "metadata": {},
   "outputs": [
    {
     "data": {
      "text/html": [
       "<div>\n",
       "<style scoped>\n",
       "    .dataframe tbody tr th:only-of-type {\n",
       "        vertical-align: middle;\n",
       "    }\n",
       "\n",
       "    .dataframe tbody tr th {\n",
       "        vertical-align: top;\n",
       "    }\n",
       "\n",
       "    .dataframe thead th {\n",
       "        text-align: right;\n",
       "    }\n",
       "</style>\n",
       "<table border=\"1\" class=\"dataframe\">\n",
       "  <thead>\n",
       "    <tr style=\"text-align: right;\">\n",
       "      <th></th>\n",
       "      <th>AIRPORT_STATE_CODE</th>\n",
       "    </tr>\n",
       "  </thead>\n",
       "  <tbody>\n",
       "    <tr>\n",
       "      <th>0</th>\n",
       "      <td>AK</td>\n",
       "    </tr>\n",
       "    <tr>\n",
       "      <th>1</th>\n",
       "      <td>AK</td>\n",
       "    </tr>\n",
       "    <tr>\n",
       "      <th>2</th>\n",
       "      <td>AK</td>\n",
       "    </tr>\n",
       "    <tr>\n",
       "      <th>3</th>\n",
       "      <td>AK</td>\n",
       "    </tr>\n",
       "    <tr>\n",
       "      <th>4</th>\n",
       "      <td>AK</td>\n",
       "    </tr>\n",
       "    <tr>\n",
       "      <th>...</th>\n",
       "      <td>...</td>\n",
       "    </tr>\n",
       "    <tr>\n",
       "      <th>363</th>\n",
       "      <td>WY</td>\n",
       "    </tr>\n",
       "    <tr>\n",
       "      <th>364</th>\n",
       "      <td>WY</td>\n",
       "    </tr>\n",
       "    <tr>\n",
       "      <th>365</th>\n",
       "      <td>WY</td>\n",
       "    </tr>\n",
       "    <tr>\n",
       "      <th>366</th>\n",
       "      <td>WY</td>\n",
       "    </tr>\n",
       "    <tr>\n",
       "      <th>367</th>\n",
       "      <td>WY</td>\n",
       "    </tr>\n",
       "  </tbody>\n",
       "</table>\n",
       "<p>368 rows × 1 columns</p>\n",
       "</div>"
      ],
      "text/plain": [
       "    AIRPORT_STATE_CODE\n",
       "0                   AK\n",
       "1                   AK\n",
       "2                   AK\n",
       "3                   AK\n",
       "4                   AK\n",
       "..                 ...\n",
       "363                 WY\n",
       "364                 WY\n",
       "365                 WY\n",
       "366                 WY\n",
       "367                 WY\n",
       "\n",
       "[368 rows x 1 columns]"
      ]
     },
     "execution_count": 4,
     "metadata": {},
     "output_type": "execute_result"
    }
   ],
   "source": [
    "y"
   ]
  },
  {
   "cell_type": "markdown",
   "metadata": {},
   "source": [
    "Label encode states to be able to compare to labels"
   ]
  },
  {
   "cell_type": "code",
   "execution_count": 5,
   "metadata": {},
   "outputs": [
    {
     "data": {
      "text/plain": [
       "array([ 0,  0,  0,  0,  0,  0,  0,  0,  0,  0,  0,  0,  0,  0,  0,  0,  0,\n",
       "        0,  0,  1,  1,  1,  1,  1,  2,  2,  2,  2,  3,  3,  3,  3,  3,  3,\n",
       "        3,  4,  4,  4,  4,  4,  4,  4,  4,  4,  4,  4,  4,  4,  4,  4,  4,\n",
       "        4,  4,  4,  4,  4,  4,  5,  5,  5,  5,  5,  5,  5,  5,  5,  5,  5,\n",
       "        6,  7,  8,  8,  8,  8,  8,  8,  8,  8,  8,  8,  8,  8,  8,  8,  8,\n",
       "        8,  8,  8,  8,  9,  9,  9,  9,  9,  9,  9, 10, 10, 10, 10, 10, 11,\n",
       "       11, 11, 11, 11, 11, 11, 12, 12, 12, 12, 12, 12, 13, 13, 13, 13, 13,\n",
       "       13, 13, 13, 13, 13, 14, 14, 14, 14, 15, 15, 15, 15, 15, 15, 15, 16,\n",
       "       16, 16, 16, 16, 17, 17, 17, 17, 17, 17, 17, 18, 18, 18, 18, 18, 19,\n",
       "       19, 19, 20, 20, 20, 21, 21, 21, 21, 21, 21, 21, 21, 21, 21, 21, 21,\n",
       "       21, 21, 21, 22, 22, 22, 22, 22, 22, 22, 22, 23, 23, 23, 23, 23, 23,\n",
       "       23, 23, 24, 24, 24, 24, 24, 25, 25, 25, 25, 25, 25, 25, 25, 26, 26,\n",
       "       26, 26, 26, 26, 26, 26, 26, 26, 27, 27, 27, 27, 27, 27, 27, 27, 28,\n",
       "       28, 28, 28, 28, 28, 29, 29, 30, 30, 30, 31, 31, 31, 31, 32, 32, 32,\n",
       "       33, 33, 33, 33, 33, 33, 33, 33, 33, 33, 33, 33, 33, 33, 33, 33, 34,\n",
       "       34, 34, 34, 34, 34, 35, 35, 35, 35, 36, 36, 36, 36, 36, 37, 37, 37,\n",
       "       37, 37, 37, 37, 37, 37, 38, 39, 39, 39, 39, 39, 39, 40, 40, 40, 40,\n",
       "       40, 41, 41, 41, 41, 41, 42, 42, 42, 42, 42, 42, 42, 42, 42, 42, 42,\n",
       "       42, 42, 42, 42, 42, 42, 42, 42, 42, 42, 42, 42, 42, 42, 42, 43, 43,\n",
       "       43, 43, 43, 43, 43, 44, 44, 44, 44, 44, 44, 44, 44, 44, 45, 46, 46,\n",
       "       46, 46, 46, 46, 46, 46, 46, 47, 47, 47, 47, 47, 47, 47, 47, 48, 48,\n",
       "       48, 48, 49, 49, 49, 49, 49, 49, 49, 49, 49])"
      ]
     },
     "execution_count": 5,
     "metadata": {},
     "output_type": "execute_result"
    }
   ],
   "source": [
    "le = LabelEncoder()\n",
    "y_true = le.fit_transform(y['AIRPORT_STATE_CODE'].ravel())\n",
    "y_true"
   ]
  },
  {
   "cell_type": "code",
   "execution_count": 6,
   "metadata": {},
   "outputs": [
    {
     "name": "stdout",
     "output_type": "stream",
     "text": [
      "<class 'pandas.core.frame.DataFrame'>\n",
      "RangeIndex: 368 entries, 0 to 367\n",
      "Data columns (total 2 columns):\n",
      " #   Column     Non-Null Count  Dtype  \n",
      "---  ------     --------------  -----  \n",
      " 0   LATITUDE   368 non-null    float64\n",
      " 1   LONGITUDE  368 non-null    float64\n",
      "dtypes: float64(2)\n",
      "memory usage: 5.9 KB\n"
     ]
    }
   ],
   "source": [
    "X.info()"
   ]
  },
  {
   "cell_type": "markdown",
   "metadata": {},
   "source": [
    "368 Values in the dataset."
   ]
  },
  {
   "cell_type": "code",
   "execution_count": 7,
   "metadata": {},
   "outputs": [
    {
     "data": {
      "text/html": [
       "<div>\n",
       "<style scoped>\n",
       "    .dataframe tbody tr th:only-of-type {\n",
       "        vertical-align: middle;\n",
       "    }\n",
       "\n",
       "    .dataframe tbody tr th {\n",
       "        vertical-align: top;\n",
       "    }\n",
       "\n",
       "    .dataframe thead th {\n",
       "        text-align: right;\n",
       "    }\n",
       "</style>\n",
       "<table border=\"1\" class=\"dataframe\">\n",
       "  <thead>\n",
       "    <tr style=\"text-align: right;\">\n",
       "      <th></th>\n",
       "      <th>LATITUDE</th>\n",
       "      <th>LONGITUDE</th>\n",
       "    </tr>\n",
       "  </thead>\n",
       "  <tbody>\n",
       "    <tr>\n",
       "      <th>count</th>\n",
       "      <td>368.000000</td>\n",
       "      <td>368.000000</td>\n",
       "    </tr>\n",
       "    <tr>\n",
       "      <th>mean</th>\n",
       "      <td>39.411596</td>\n",
       "      <td>-97.741625</td>\n",
       "    </tr>\n",
       "    <tr>\n",
       "      <th>std</th>\n",
       "      <td>7.669959</td>\n",
       "      <td>20.059627</td>\n",
       "    </tr>\n",
       "    <tr>\n",
       "      <th>min</th>\n",
       "      <td>19.720278</td>\n",
       "      <td>-176.642500</td>\n",
       "    </tr>\n",
       "    <tr>\n",
       "      <th>25%</th>\n",
       "      <td>34.387360</td>\n",
       "      <td>-109.034237</td>\n",
       "    </tr>\n",
       "    <tr>\n",
       "      <th>50%</th>\n",
       "      <td>39.478335</td>\n",
       "      <td>-93.395415</td>\n",
       "    </tr>\n",
       "    <tr>\n",
       "      <th>75%</th>\n",
       "      <td>43.160276</td>\n",
       "      <td>-82.551317</td>\n",
       "    </tr>\n",
       "    <tr>\n",
       "      <th>max</th>\n",
       "      <td>71.284720</td>\n",
       "      <td>-68.044720</td>\n",
       "    </tr>\n",
       "  </tbody>\n",
       "</table>\n",
       "</div>"
      ],
      "text/plain": [
       "         LATITUDE   LONGITUDE\n",
       "count  368.000000  368.000000\n",
       "mean    39.411596  -97.741625\n",
       "std      7.669959   20.059627\n",
       "min     19.720278 -176.642500\n",
       "25%     34.387360 -109.034237\n",
       "50%     39.478335  -93.395415\n",
       "75%     43.160276  -82.551317\n",
       "max     71.284720  -68.044720"
      ]
     },
     "execution_count": 7,
     "metadata": {},
     "output_type": "execute_result"
    }
   ],
   "source": [
    "X.describe()"
   ]
  },
  {
   "cell_type": "markdown",
   "metadata": {},
   "source": [
    "Plotting function to build interactive geospatial scatter plot using plotly"
   ]
  },
  {
   "cell_type": "code",
   "execution_count": 8,
   "metadata": {},
   "outputs": [],
   "source": [
    "def plot_clusters(model):\n",
    "    plot_df = X.copy()\n",
    "    plot_df.insert(0, 'Label', pd.Series(model.labels_))\n",
    "    plot_df.insert(0, 'Airport', names['AIRPORT'])\n",
    "    fig = px.scatter_geo(plot_df, lat='LATITUDE', lon='LONGITUDE', symbol='Label', scope='usa', hover_name='Airport', height=700)\n",
    "    fig.update_traces(marker={'size': 15})\n",
    "    return fig"
   ]
  },
  {
   "cell_type": "markdown",
   "metadata": {},
   "source": [
    "## K means\n",
    "\n",
    "Build a model using k=50 to build 50 clusters using sklearn KMeans"
   ]
  },
  {
   "cell_type": "code",
   "execution_count": 9,
   "metadata": {},
   "outputs": [
    {
     "data": {
      "text/plain": [
       "array([12,  7, 12,  2, 17,  7, 17, 12,  7,  2, 17, 12, 12, 17, 12, 21, 12,\n",
       "       24,  7, 13, 39, 30, 13, 30, 31, 26, 26, 31, 38, 38, 38, 27, 38, 38,\n",
       "       27, 41, 36, 41, 36, 41, 27,  9, 36, 36, 41, 36, 27, 41, 41, 36, 41,\n",
       "       36, 36, 36,  9, 41, 20, 16, 16, 16, 16, 16, 34, 16, 16, 16, 16, 16,\n",
       "        5, 40, 30, 30,  8, 47,  8, 47,  8,  8, 30,  8,  8,  8, 47, 47, 30,\n",
       "        8,  8,  8, 47, 35, 30, 30, 47, 35, 18, 47,  3,  3,  3,  3,  3, 14,\n",
       "       44, 14, 14, 14, 14, 14, 22, 22, 43,  4,  4,  4, 25,  1, 25, 25, 25,\n",
       "       25, 25, 25, 25, 25,  1,  1, 23, 25,  6,  6,  6,  6,  6,  6,  6,  1,\n",
       "       23,  1, 23,  1, 26, 26, 39, 39, 26, 39, 26,  5,  5,  5,  5,  5, 28,\n",
       "       28, 28,  5,  5,  5, 45, 29, 45, 29, 45, 29, 29, 29, 29, 29, 29, 29,\n",
       "       29, 45, 29, 19, 19, 19, 19, 14, 14, 19, 19, 31, 31,  1, 31, 31, 31,\n",
       "       31,  1, 39, 39, 39, 13, 39, 46, 22,  0, 46, 46, 46, 46, 46, 37, 37,\n",
       "       37, 37, 37, 35, 18, 37, 37, 37, 48, 48, 48, 48, 44, 19, 48, 19,  6,\n",
       "        6,  6, 34,  6,  6,  5,  5, 40, 40, 40, 42, 42, 42, 42,  9,  4, 27,\n",
       "       40, 11, 32, 32, 32, 32, 32, 40, 32, 40, 40, 32, 32, 32, 40, 11, 23,\n",
       "       23, 23, 23, 23, 23, 49, 49, 49, 49, 20, 20, 20, 20, 20, 11, 40, 40,\n",
       "       40, 11, 11, 28, 11, 11,  5, 35, 35, 18, 35, 35, 35, 44, 44, 34, 44,\n",
       "       44, 18,  1, 13, 18, 18, 10, 33, 15, 10, 49, 26, 15, 33, 10, 15, 10,\n",
       "       33, 33, 15, 15, 26, 10, 15, 42, 15, 15, 42, 26, 33, 10, 15, 22, 22,\n",
       "       22, 38, 38, 22, 16, 28, 28, 37, 28, 28, 28, 28, 28, 37,  5, 43, 43,\n",
       "       43, 43, 43, 43, 43, 43, 43, 25, 14, 45, 25, 14, 45, 45, 45, 23, 37,\n",
       "       23, 11, 22, 34, 34, 22,  0,  0,  0,  0,  0])"
      ]
     },
     "execution_count": 9,
     "metadata": {},
     "output_type": "execute_result"
    }
   ],
   "source": [
    "model_km = KMeans(n_clusters=50, n_init='auto').fit(X)\n",
    "model_km.labels_"
   ]
  },
  {
   "cell_type": "markdown",
   "metadata": {},
   "source": [
    "Calculate accuracy"
   ]
  },
  {
   "cell_type": "code",
   "execution_count": 10,
   "metadata": {},
   "outputs": [
    {
     "data": {
      "text/plain": [
       "0.03260869565217391"
      ]
     },
     "execution_count": 10,
     "metadata": {},
     "output_type": "execute_result"
    }
   ],
   "source": [
    "accuracy_score(y_true, model_km.labels_)"
   ]
  },
  {
   "cell_type": "markdown",
   "metadata": {},
   "source": [
    "Plot Map"
   ]
  },
  {
   "cell_type": "code",
   "execution_count": 11,
   "metadata": {},
   "outputs": [
    {
     "data": {
      "application/vnd.plotly.v1+json": {
       "config": {
        "plotlyServerURL": "https://plot.ly"
       },
       "data": [
        {
         "geo": "geo",
         "hovertemplate": "<b>%{hovertext}</b><br><br>Label=12<br>LATITUDE=%{lat}<br>LONGITUDE=%{lon}<extra></extra>",
         "hovertext": [
          "PSG Petersburg James A Johnson",
          "KTN Ketchikan International",
          "SIT Sitka Rocky Gutierrez",
          "JNU Juneau International",
          "WRG Wrangell Airport",
          "GST Gustavus Airport",
          "YAK Yakutat Airport"
         ],
         "lat": [
          56.801388,
          55.354168,
          57.046944,
          58.35472,
          56.484444,
          58.425278,
          59.503334
         ],
         "legendgroup": "12",
         "lon": [
          -132.9461,
          -131.7111,
          -135.36111,
          -134.57834,
          -132.36972,
          -135.7075,
          -139.66028
         ],
         "marker": {
          "color": "#636efa",
          "size": 15,
          "symbol": "circle"
         },
         "mode": "markers",
         "name": "12",
         "showlegend": true,
         "type": "scattergeo"
        },
        {
         "geo": "geo",
         "hovertemplate": "<b>%{hovertext}</b><br><br>Label=7<br>LATITUDE=%{lat}<br>LONGITUDE=%{lon}<extra></extra>",
         "hovertext": [
          "ANC Ted Stevens Anchorage International",
          "CDV Merle K Mudhole Smith",
          "FAI Fairbanks International",
          "SCC Deadhorse Airport"
         ],
         "lat": [
          61.174168,
          60.491665,
          64.81528,
          70.194725
         ],
         "legendgroup": "7",
         "lon": [
          -149.99806,
          -145.4775,
          -147.85667,
          -148.46527
         ],
         "marker": {
          "color": "#636efa",
          "size": 15,
          "symbol": "diamond"
         },
         "mode": "markers",
         "name": "7",
         "showlegend": true,
         "type": "scattergeo"
        },
        {
         "geo": "geo",
         "hovertemplate": "<b>%{hovertext}</b><br><br>Label=2<br>LATITUDE=%{lat}<br>LONGITUDE=%{lon}<extra></extra>",
         "hovertext": [
          "OME Nome Airport",
          "OTZ Ralph Wien Memorial"
         ],
         "lat": [
          64.51056,
          66.88472
         ],
         "legendgroup": "2",
         "lon": [
          -165.44472,
          -162.59805
         ],
         "marker": {
          "color": "#636efa",
          "size": 15,
          "symbol": "square"
         },
         "mode": "markers",
         "name": "2",
         "showlegend": true,
         "type": "scattergeo"
        },
        {
         "geo": "geo",
         "hovertemplate": "<b>%{hovertext}</b><br><br>Label=17<br>LATITUDE=%{lat}<br>LONGITUDE=%{lon}<extra></extra>",
         "hovertext": [
          "BET Bethel Airport",
          "AKN King Salmon Airport",
          "ADQ Kodiak Airport",
          "DLG Dillingham Airport"
         ],
         "lat": [
          60.77861,
          58.676388,
          57.74972,
          59.044724
         ],
         "legendgroup": "17",
         "lon": [
          -161.83722,
          -156.6486,
          -152.4939,
          -158.50555
         ],
         "marker": {
          "color": "#636efa",
          "size": 15,
          "symbol": "x"
         },
         "mode": "markers",
         "name": "17",
         "showlegend": true,
         "type": "scattergeo"
        },
        {
         "geo": "geo",
         "hovertemplate": "<b>%{hovertext}</b><br><br>Label=21<br>LATITUDE=%{lat}<br>LONGITUDE=%{lon}<extra></extra>",
         "hovertext": [
          "BRW Wiley Post/Will Rogers Memorial"
         ],
         "lat": [
          71.28472
         ],
         "legendgroup": "21",
         "lon": [
          -156.76862
         ],
         "marker": {
          "color": "#636efa",
          "size": 15,
          "symbol": "cross"
         },
         "mode": "markers",
         "name": "21",
         "showlegend": true,
         "type": "scattergeo"
        },
        {
         "geo": "geo",
         "hovertemplate": "<b>%{hovertext}</b><br><br>Label=24<br>LATITUDE=%{lat}<br>LONGITUDE=%{lon}<extra></extra>",
         "hovertext": [
          "ADK Adak"
         ],
         "lat": [
          51.88361
         ],
         "legendgroup": "24",
         "lon": [
          -176.6425
         ],
         "marker": {
          "color": "#636efa",
          "size": 15,
          "symbol": "circle"
         },
         "mode": "markers",
         "name": "24",
         "showlegend": true,
         "type": "scattergeo"
        },
        {
         "geo": "geo",
         "hovertemplate": "<b>%{hovertext}</b><br><br>Label=13<br>LATITUDE=%{lat}<br>LONGITUDE=%{lon}<extra></extra>",
         "hovertext": [
          "BHM Birmingham-Shuttlesworth International",
          "HSV Huntsville International-Carl T Jones Field",
          "GTR Golden Triangle Regional",
          "MEM Memphis International"
         ],
         "lat": [
          33.56389,
          34.637222,
          33.448334,
          35.0425
         ],
         "legendgroup": "13",
         "lon": [
          -86.75222,
          -86.775,
          -88.59139,
          -89.97667
         ],
         "marker": {
          "color": "#636efa",
          "size": 15,
          "symbol": "diamond"
         },
         "mode": "markers",
         "name": "13",
         "showlegend": true,
         "type": "scattergeo"
        },
        {
         "geo": "geo",
         "hovertemplate": "<b>%{hovertext}</b><br><br>Label=39<br>LATITUDE=%{lat}<br>LONGITUDE=%{lon}<extra></extra>",
         "hovertext": [
          "MOB Mobile Regional",
          "MSY Louis Armstrong New Orleans International",
          "BTR Baton Rouge Metropolitan/Ryan Field",
          "LFT Lafayette Regional Paul Fournet Field",
          "PIB Hattiesburg-Laurel Regional",
          "MEI Key Field",
          "GPT Gulfport-Biloxi International",
          "JAN Jackson Medgar Wiley Evers International"
         ],
         "lat": [
          30.69139,
          29.993334,
          30.533056,
          30.205,
          31.467222,
          32.3325,
          30.407223,
          32.31111
         ],
         "legendgroup": "39",
         "lon": [
          -88.242775,
          -90.25916,
          -91.15,
          -91.98778,
          -89.336945,
          -88.751945,
          -89.07,
          -90.075836
         ],
         "marker": {
          "color": "#636efa",
          "size": 15,
          "symbol": "square"
         },
         "mode": "markers",
         "name": "39",
         "showlegend": true,
         "type": "scattergeo"
        },
        {
         "geo": "geo",
         "hovertemplate": "<b>%{hovertext}</b><br><br>Label=30<br>LATITUDE=%{lat}<br>LONGITUDE=%{lon}<extra></extra>",
         "hovertext": [
          "MGM Montgomery Regional",
          "DHN Dothan Regional",
          "PNS Pensacola International",
          "ECP Northwest Florida Beaches International",
          "VPS Eglin AFB Destin Fort Walton Beach",
          "TLH Tallahassee International",
          "CSG Columbus Airport",
          "ABY Southwest Georgia Regional"
         ],
         "lat": [
          32.300556,
          31.321112,
          30.473333,
          30.358334,
          30.483334,
          30.396667,
          32.516388,
          31.535555
         ],
         "legendgroup": "30",
         "lon": [
          -86.39389,
          -85.44945,
          -87.18667,
          -85.795555,
          -86.525276,
          -84.35083,
          -84.93889,
          -84.19444
         ],
         "marker": {
          "color": "#636efa",
          "size": 15,
          "symbol": "x"
         },
         "mode": "markers",
         "name": "30",
         "showlegend": true,
         "type": "scattergeo"
        },
        {
         "geo": "geo",
         "hovertemplate": "<b>%{hovertext}</b><br><br>Label=31<br>LATITUDE=%{lat}<br>LONGITUDE=%{lon}<extra></extra>",
         "hovertext": [
          "XNA Northwest Arkansas National",
          "FSM Fort Smith Regional",
          "JLN Joplin Regional",
          "MCI Kansas City International",
          "COU Columbia Regional",
          "BKG Branson Airport",
          "SGF Springfield-Branson National",
          "TBN Waynesville-St. Robert Regional Forney Field"
         ],
         "lat": [
          36.281666,
          35.335278,
          37.153057,
          39.2975,
          38.81778,
          36.531944,
          37.245556,
          37.741665
         ],
         "legendgroup": "31",
         "lon": [
          -94.30778,
          -94.367775,
          -94.498886,
          -94.71389,
          -92.21778,
          -93.200554,
          -93.38861,
          -92.14083
         ],
         "marker": {
          "color": "#636efa",
          "size": 15,
          "symbol": "cross"
         },
         "mode": "markers",
         "name": "31",
         "showlegend": true,
         "type": "scattergeo"
        },
        {
         "geo": "geo",
         "hovertemplate": "<b>%{hovertext}</b><br><br>Label=26<br>LATITUDE=%{lat}<br>LONGITUDE=%{lon}<extra></extra>",
         "hovertext": [
          "LIT Bill and Hillary Clinton Nat Adams Field",
          "TXK Texarkana Regional-Webb Field",
          "MLU Monroe Regional",
          "SHV Shreveport Regional",
          "LCH Lake Charles Regional",
          "AEX Alexandria International",
          "BPT Jack Brooks Regional",
          "GGG East Texas Regional",
          "TYR Tyler Pounds Regional"
         ],
         "lat": [
          34.729443,
          33.45361,
          32.510555,
          32.44639,
          30.126112,
          31.3275,
          29.950834,
          32.38389,
          32.35361
         ],
         "legendgroup": "26",
         "lon": [
          -92.224724,
          -93.99111,
          -92.03611,
          -93.82611,
          -93.223335,
          -92.548615,
          -94.02055,
          -94.71139,
          -95.40305
         ],
         "marker": {
          "color": "#636efa",
          "size": 15,
          "symbol": "circle"
         },
         "mode": "markers",
         "name": "26",
         "showlegend": true,
         "type": "scattergeo"
        },
        {
         "geo": "geo",
         "hovertemplate": "<b>%{hovertext}</b><br><br>Label=38<br>LATITUDE=%{lat}<br>LONGITUDE=%{lon}<extra></extra>",
         "hovertext": [
          "TUS Tucson International",
          "FLG Flagstaff Pulliam",
          "AZA Phoenix - Mesa Gateway",
          "PHX Phoenix Sky Harbor International",
          "PRC Prescott Regional Ernest A Love Field",
          "SGU St George Regional",
          "CDC Cedar City Regional"
         ],
         "lat": [
          32.11611,
          35.140278,
          33.307777,
          33.434166,
          34.654724,
          37.03639,
          37.700832
         ],
         "legendgroup": "38",
         "lon": [
          -110.94111,
          -111.66917,
          -111.655556,
          -112.011665,
          -112.41917,
          -113.51028,
          -113.09889
         ],
         "marker": {
          "color": "#636efa",
          "size": 15,
          "symbol": "diamond"
         },
         "mode": "markers",
         "name": "38",
         "showlegend": true,
         "type": "scattergeo"
        },
        {
         "geo": "geo",
         "hovertemplate": "<b>%{hovertext}</b><br><br>Label=27<br>LATITUDE=%{lat}<br>LONGITUDE=%{lon}<extra></extra>",
         "hovertext": [
          "YUM Yuma MCAS/Yuma International",
          "IFP Laughlin/Bullhead International",
          "SAN San Diego International",
          "PSP Palm Springs International",
          "LAS Harry Reid International"
         ],
         "lat": [
          32.656666,
          35.154724,
          32.733612,
          33.829723,
          36.08
         ],
         "legendgroup": "27",
         "lon": [
          -114.60611,
          -114.55945,
          -117.18972,
          -116.50667,
          -115.15222
         ],
         "marker": {
          "color": "#636efa",
          "size": 15,
          "symbol": "square"
         },
         "mode": "markers",
         "name": "27",
         "showlegend": true,
         "type": "scattergeo"
        },
        {
         "geo": "geo",
         "hovertemplate": "<b>%{hovertext}</b><br><br>Label=41<br>LATITUDE=%{lat}<br>LONGITUDE=%{lon}<extra></extra>",
         "hovertext": [
          "OAK Metro Oakland International",
          "SMF Sacramento International",
          "SCK Stockton Metro",
          "SFO San Francisco International",
          "RDD Redding Municipal",
          "SJC Norman Y. Mineta San Jose International",
          "MRY Monterey Regional",
          "STS Charles M. Schulz - Sonoma County"
         ],
         "lat": [
          37.72111,
          38.695557,
          37.894444,
          37.61889,
          40.50889,
          37.363056,
          36.586945,
          38.509724
         ],
         "legendgroup": "41",
         "lon": [
          -122.22111,
          -121.590836,
          -121.23861,
          -122.37556,
          -122.293335,
          -121.92861,
          -121.843056,
          -122.812775
         ],
         "marker": {
          "color": "#636efa",
          "size": 15,
          "symbol": "x"
         },
         "mode": "markers",
         "name": "41",
         "showlegend": true,
         "type": "scattergeo"
        },
        {
         "geo": "geo",
         "hovertemplate": "<b>%{hovertext}</b><br><br>Label=36<br>LATITUDE=%{lat}<br>LONGITUDE=%{lon}<extra></extra>",
         "hovertext": [
          "SMX Santa Maria Public/Capt. G. Allan Hancock Field",
          "BUR Bob Hope",
          "SBA Santa Barbara Municipal",
          "ONT Ontario International",
          "SBP San Luis County Regional",
          "SNA John Wayne Airport-Orange County",
          "LGB Long Beach Airport",
          "BFL Meadows Field",
          "LAX Los Angeles International"
         ],
         "lat": [
          34.9,
          34.200554,
          34.42611,
          34.05611,
          35.23722,
          33.675556,
          33.818054,
          35.433887,
          33.9425
         ],
         "legendgroup": "36",
         "lon": [
          -120.45805,
          -118.35861,
          -119.84139,
          -117.60111,
          -120.6425,
          -117.86833,
          -118.15195,
          -119.05778,
          -118.40806
         ],
         "marker": {
          "color": "#636efa",
          "size": 15,
          "symbol": "cross"
         },
         "mode": "markers",
         "name": "36",
         "showlegend": true,
         "type": "scattergeo"
        },
        {
         "geo": "geo",
         "hovertemplate": "<b>%{hovertext}</b><br><br>Label=9<br>LATITUDE=%{lat}<br>LONGITUDE=%{lon}<extra></extra>",
         "hovertext": [
          "FAT Fresno Yosemite International",
          "BIH Bishop Airport",
          "RNO Reno/Tahoe International"
         ],
         "lat": [
          36.77667,
          37.373055,
          39.49917
         ],
         "legendgroup": "9",
         "lon": [
          -119.71889,
          -118.36361,
          -119.76806
         ],
         "marker": {
          "color": "#636efa",
          "size": 15,
          "symbol": "circle"
         },
         "mode": "markers",
         "name": "9",
         "showlegend": true,
         "type": "scattergeo"
        },
        {
         "geo": "geo",
         "hovertemplate": "<b>%{hovertext}</b><br><br>Label=20<br>LATITUDE=%{lat}<br>LONGITUDE=%{lon}<extra></extra>",
         "hovertext": [
          "ACV California Redwood Coast Humboldt County",
          "RDM Roberts Field",
          "MFR Rogue Valley International - Medford",
          "PDX Portland International",
          "EUG Mahlon Sweet Field",
          "OTH Southwest Oregon Regional"
         ],
         "lat": [
          40.97778,
          44.254166,
          42.375,
          45.58861,
          44.124443,
          43.416943
         ],
         "legendgroup": "20",
         "lon": [
          -124.10833,
          -121.15056,
          -122.87334,
          -122.59695,
          -123.211945,
          -124.24695
         ],
         "marker": {
          "color": "#636efa",
          "size": 15,
          "symbol": "diamond"
         },
         "mode": "markers",
         "name": "20",
         "showlegend": true,
         "type": "scattergeo"
        },
        {
         "geo": "geo",
         "hovertemplate": "<b>%{hovertext}</b><br><br>Label=16<br>LATITUDE=%{lat}<br>LONGITUDE=%{lon}<extra></extra>",
         "hovertext": [
          "ASE Aspen Pitkin County Sardy Field",
          "COS City of Colorado Springs Municipal",
          "ALS San Luis Valley Regional/Bergman Field",
          "GJT Grand Junction Regional",
          "GUC Gunnison-Crested Butte Regional",
          "HDN Yampa Valley",
          "EGE Eagle County Regional",
          "MTJ Montrose Regional",
          "DRO Durango La Plata County",
          "PUB Pueblo Memorial",
          "CNY Canyonlands Regional"
         ],
         "lat": [
          39.221943,
          38.805832,
          37.435,
          39.1225,
          38.534443,
          40.48111,
          39.642776,
          38.509724,
          37.15167,
          38.29,
          38.7575
         ],
         "legendgroup": "16",
         "lon": [
          -106.86833,
          -104.700836,
          -105.867775,
          -108.526665,
          -106.93166,
          -107.21778,
          -106.91583,
          -107.894165,
          -107.75389,
          -104.498055,
          -109.753334
         ],
         "marker": {
          "color": "#636efa",
          "size": 15,
          "symbol": "square"
         },
         "mode": "markers",
         "name": "16",
         "showlegend": true,
         "type": "scattergeo"
        },
        {
         "geo": "geo",
         "hovertemplate": "<b>%{hovertext}</b><br><br>Label=34<br>LATITUDE=%{lat}<br>LONGITUDE=%{lon}<extra></extra>",
         "hovertext": [
          "DEN Denver International",
          "BFF Western Neb. Regional/William B. Heilig Field",
          "RAP Rapid City Regional",
          "CYS Cheyenne Regional/Jerry Olson Field",
          "LAR Laramie Regional"
         ],
         "lat": [
          39.861668,
          41.87417,
          44.045277,
          41.155556,
          41.311943
         ],
         "legendgroup": "34",
         "lon": [
          -104.67306,
          -103.59556,
          -103.05722,
          -104.810555,
          -105.675
         ],
         "marker": {
          "color": "#636efa",
          "size": 15,
          "symbol": "x"
         },
         "mode": "markers",
         "name": "34",
         "showlegend": true,
         "type": "scattergeo"
        },
        {
         "geo": "geo",
         "hovertemplate": "<b>%{hovertext}</b><br><br>Label=5<br>LATITUDE=%{lat}<br>LONGITUDE=%{lon}<extra></extra>",
         "hovertext": [
          "BDL Bradley International",
          "ORH Worcester Regional",
          "BOS Logan International",
          "HYA Cape Cod Gateway",
          "ACK Nantucket Memorial",
          "MVY Martha's Vineyard Airport",
          "PQI Presque Isle International",
          "BGR Bangor International",
          "PWM Portland International Jetport",
          "PSM Portsmouth International at Pease",
          "MHT Manchester Boston Regional",
          "PVD Rhode Island Tf Green International",
          "BTV Burlington International"
         ],
         "lat": [
          41.939167,
          42.267223,
          42.363056,
          41.669445,
          41.253056,
          41.393333,
          46.68889,
          44.8075,
          43.645557,
          43.078056,
          42.932777,
          41.72222,
          44.471943
         ],
         "legendgroup": "5",
         "lon": [
          -72.68445,
          -71.87556,
          -71.006386,
          -70.28028,
          -70.06,
          -70.61389,
          -68.04472,
          -68.82806,
          -70.30861,
          -70.82333,
          -71.43584,
          -71.42778,
          -73.153336
         ],
         "marker": {
          "color": "#636efa",
          "size": 15,
          "symbol": "cross"
         },
         "mode": "markers",
         "name": "5",
         "showlegend": true,
         "type": "scattergeo"
        },
        {
         "geo": "geo",
         "hovertemplate": "<b>%{hovertext}</b><br><br>Label=40<br>LATITUDE=%{lat}<br>LONGITUDE=%{lon}<extra></extra>",
         "hovertext": [
          "ILG New Castle",
          "ACY Atlantic City International",
          "EWR Newark Liberty International",
          "TTN Trenton Mercer",
          "HPN Westchester County",
          "LGA LaGuardia",
          "SWF New York Stewart International",
          "JFK John F. Kennedy International",
          "ISP Long Island MacArthur",
          "PHL Philadelphia International",
          "ABE Lehigh Valley International",
          "AVP Wilkes Barre Scranton International"
         ],
         "lat": [
          39.67861,
          39.4575,
          40.6925,
          40.27667,
          41.066944,
          40.77722,
          41.504166,
          40.64,
          40.796112,
          39.871944,
          40.6525,
          41.338333
         ],
         "legendgroup": "40",
         "lon": [
          -75.60667,
          -74.577225,
          -74.16861,
          -74.81333,
          -73.7075,
          -73.8725,
          -74.10472,
          -73.77861,
          -73.100555,
          -75.240555,
          -75.44028,
          -75.723335
         ],
         "marker": {
          "color": "#636efa",
          "size": 15,
          "symbol": "circle"
         },
         "mode": "markers",
         "name": "40",
         "showlegend": true,
         "type": "scattergeo"
        },
        {
         "geo": "geo",
         "hovertemplate": "<b>%{hovertext}</b><br><br>Label=8<br>LATITUDE=%{lat}<br>LONGITUDE=%{lon}<extra></extra>",
         "hovertext": [
          "FLL Fort Lauderdale-Hollywood International",
          "RSW Southwest Florida International",
          "EYW Key West International",
          "PIE St Pete Clearwater International",
          "SRQ Sarasota/Bradenton International",
          "PGD Punta Gorda Airport",
          "MIA Miami International",
          "MLB Melbourne Orlando International",
          "TPA Tampa International",
          "PBI Palm Beach International"
         ],
         "lat": [
          26.071667,
          26.536112,
          24.55611,
          27.908611,
          27.395555,
          26.918612,
          25.795279,
          28.102777,
          27.975555,
          26.683056
         ],
         "legendgroup": "8",
         "lon": [
          -80.14972,
          -81.75528,
          -81.76,
          -82.686386,
          -82.55444,
          -81.99084,
          -80.29,
          -80.64528,
          -82.53333,
          -80.09556
         ],
         "marker": {
          "color": "#636efa",
          "size": 15,
          "symbol": "diamond"
         },
         "mode": "markers",
         "name": "8",
         "showlegend": true,
         "type": "scattergeo"
        },
        {
         "geo": "geo",
         "hovertemplate": "<b>%{hovertext}</b><br><br>Label=47<br>LATITUDE=%{lat}<br>LONGITUDE=%{lon}<extra></extra>",
         "hovertext": [
          "MCO Orlando International",
          "DAB Daytona Beach International",
          "JAX Jacksonville International",
          "GNV Gainesville Regional",
          "SFB Orlando Sanford International",
          "VLD Valdosta Regional",
          "BQK Brunswick Golden Isles"
         ],
         "lat": [
          28.429445,
          29.18,
          30.494167,
          29.69,
          28.777222,
          30.78139,
          31.259167
         ],
         "legendgroup": "47",
         "lon": [
          -81.30889,
          -81.05805,
          -81.687775,
          -82.27167,
          -81.235,
          -83.27611,
          -81.46639
         ],
         "marker": {
          "color": "#636efa",
          "size": 15,
          "symbol": "square"
         },
         "mode": "markers",
         "name": "47",
         "showlegend": true,
         "type": "scattergeo"
        },
        {
         "geo": "geo",
         "hovertemplate": "<b>%{hovertext}</b><br><br>Label=35<br>LATITUDE=%{lat}<br>LONGITUDE=%{lon}<extra></extra>",
         "hovertext": [
          "SAV Savannah/Hilton Head International",
          "AGS Augusta Regional at Bush Field",
          "CLT Charlotte Douglas International",
          "CHS Charleston AFB/International",
          "CAE Columbia Metropolitan",
          "HHH Hilton Head Airport",
          "MYR Myrtle Beach International",
          "FLO Florence Regional"
         ],
         "lat": [
          32.1275,
          33.37,
          35.21361,
          32.898613,
          33.93889,
          32.224445,
          33.67972,
          34.185276
         ],
         "legendgroup": "35",
         "lon": [
          -81.202225,
          -81.96445,
          -80.949165,
          -80.04056,
          -81.119446,
          -80.6975,
          -78.92834,
          -79.72389
         ],
         "marker": {
          "color": "#636efa",
          "size": 15,
          "symbol": "x"
         },
         "mode": "markers",
         "name": "35",
         "showlegend": true,
         "type": "scattergeo"
        },
        {
         "geo": "geo",
         "hovertemplate": "<b>%{hovertext}</b><br><br>Label=18<br>LATITUDE=%{lat}<br>LONGITUDE=%{lon}<extra></extra>",
         "hovertext": [
          "ATL Hartsfield-Jackson Atlanta International",
          "AVL Asheville Regional",
          "GSP Greenville-Spartanburg International",
          "TRI Tri Cities",
          "TYS McGhee Tyson",
          "CHA Lovell Field"
         ],
         "lat": [
          33.636665,
          35.43611,
          34.895557,
          36.475277,
          35.81111,
          35.03528
         ],
         "legendgroup": "18",
         "lon": [
          -84.42778,
          -82.54195,
          -82.21889,
          -82.4075,
          -83.99416,
          -85.20361
         ],
         "marker": {
          "color": "#636efa",
          "size": 15,
          "symbol": "cross"
         },
         "mode": "markers",
         "name": "18",
         "showlegend": true,
         "type": "scattergeo"
        },
        {
         "geo": "geo",
         "hovertemplate": "<b>%{hovertext}</b><br><br>Label=3<br>LATITUDE=%{lat}<br>LONGITUDE=%{lon}<extra></extra>",
         "hovertext": [
          "OGG Kahului Airport",
          "HNL Daniel K Inouye International",
          "ITO Hilo International",
          "LIH Lihue Airport",
          "KOA Ellison Onizuka Kona International at Keahole"
         ],
         "lat": [
          20.898611,
          21.317778,
          19.720278,
          21.97611,
          19.73889
         ],
         "legendgroup": "3",
         "lon": [
          -156.43056,
          -157.92027,
          -155.04834,
          -159.33888,
          -156.04556
         ],
         "marker": {
          "color": "#636efa",
          "size": 15,
          "symbol": "circle"
         },
         "mode": "markers",
         "name": "3",
         "showlegend": true,
         "type": "scattergeo"
        },
        {
         "geo": "geo",
         "hovertemplate": "<b>%{hovertext}</b><br><br>Label=14<br>LATITUDE=%{lat}<br>LONGITUDE=%{lon}<extra></extra>",
         "hovertext": [
          "MCW Mason City Municipal",
          "FOD Fort Dodge Regional",
          "DBQ Dubuque Regional",
          "CID The Eastern Iowa",
          "ALO Waterloo Regional",
          "DSM Des Moines International",
          "MSP Minneapolis-St Paul International",
          "RST Rochester International",
          "LSE La Crosse Regional",
          "EAU Chippewa Valley Regional"
         ],
         "lat": [
          43.157776,
          42.55111,
          42.401943,
          41.884724,
          42.558334,
          41.53417,
          44.881943,
          43.908333,
          43.879166,
          44.865833
         ],
         "legendgroup": "14",
         "lon": [
          -93.33111,
          -94.19195,
          -90.70944,
          -91.71083,
          -92.40111,
          -93.657776,
          -93.221664,
          -92.5,
          -91.25667,
          -91.48417
         ],
         "marker": {
          "color": "#636efa",
          "size": 15,
          "symbol": "diamond"
         },
         "mode": "markers",
         "name": "14",
         "showlegend": true,
         "type": "scattergeo"
        },
        {
         "geo": "geo",
         "hovertemplate": "<b>%{hovertext}</b><br><br>Label=44<br>LATITUDE=%{lat}<br>LONGITUDE=%{lon}<extra></extra>",
         "hovertext": [
          "SUX Sioux Gateway Brig Gen Bud Day Field",
          "JMS Jamestown Regional",
          "ATY Watertown Regional",
          "ABR Aberdeen Regional",
          "FSD Joe Foss Field",
          "PIR Pierre Regional"
         ],
         "lat": [
          42.40139,
          46.92972,
          44.913887,
          45.446667,
          43.581944,
          44.38278
         ],
         "legendgroup": "44",
         "lon": [
          -96.384445,
          -98.678055,
          -97.154724,
          -98.4225,
          -96.74194,
          -100.285835
         ],
         "marker": {
          "color": "#636efa",
          "size": 15,
          "symbol": "square"
         },
         "mode": "markers",
         "name": "44",
         "showlegend": true,
         "type": "scattergeo"
        },
        {
         "geo": "geo",
         "hovertemplate": "<b>%{hovertext}</b><br><br>Label=22<br>LATITUDE=%{lat}<br>LONGITUDE=%{lon}<extra></extra>",
         "hovertext": [
          "IDA Idaho Falls Regional",
          "PIH Pocatello Regional",
          "WYS Yellowstone",
          "OGD Ogden-Hinckley",
          "VEL Vernal Regional",
          "SLC Salt Lake City International",
          "PVU Provo Municipal",
          "RKS Southwest Wyoming Regional",
          "JAC Jackson Hole"
         ],
         "lat": [
          43.51361,
          42.90972,
          44.68833,
          41.195,
          40.43611,
          40.788334,
          40.219166,
          41.594166,
          43.607224
         ],
         "legendgroup": "22",
         "lon": [
          -112.07083,
          -112.59583,
          -111.117775,
          -112.01222,
          -109.51139,
          -111.977776,
          -111.723335,
          -109.06528,
          -110.73778
         ],
         "marker": {
          "color": "#636efa",
          "size": 15,
          "symbol": "x"
         },
         "mode": "markers",
         "name": "22",
         "showlegend": true,
         "type": "scattergeo"
        },
        {
         "geo": "geo",
         "hovertemplate": "<b>%{hovertext}</b><br><br>Label=43<br>LATITUDE=%{lat}<br>LONGITUDE=%{lon}<extra></extra>",
         "hovertext": [
          "LWS Lewiston Nez Perce County",
          "GEG Spokane International",
          "PUW Pullman Moscow Regional",
          "BLI Bellingham International",
          "PAE Snohomish County",
          "EAT Pangborn Memorial",
          "SEA Seattle/Tacoma International",
          "PSC Tri Cities",
          "ALW Walla Walla Regional",
          "YKM Yakima Air Terminal/McAllister Field"
         ],
         "lat": [
          46.374443,
          47.619167,
          46.741665,
          48.792778,
          47.907223,
          47.398888,
          47.45,
          46.26472,
          46.0925,
          46.568054
         ],
         "legendgroup": "43",
         "lon": [
          -117.015274,
          -117.53528,
          -117.111664,
          -122.5375,
          -122.28222,
          -120.20695,
          -122.31167,
          -119.11889,
          -118.284164,
          -120.54417
         ],
         "marker": {
          "color": "#636efa",
          "size": 15,
          "symbol": "cross"
         },
         "mode": "markers",
         "name": "43",
         "showlegend": true,
         "type": "scattergeo"
        },
        {
         "geo": "geo",
         "hovertemplate": "<b>%{hovertext}</b><br><br>Label=4<br>LATITUDE=%{lat}<br>LONGITUDE=%{lon}<extra></extra>",
         "hovertext": [
          "BOI Boise Air Terminal",
          "SUN Friedman Memorial",
          "TWF Joslin Field - Magic Valley Regional",
          "EKO Elko Regional"
         ],
         "lat": [
          43.564445,
          43.503887,
          42.481945,
          40.825
         ],
         "legendgroup": "4",
         "lon": [
          -116.22278,
          -114.295555,
          -114.48778,
          -115.79139
         ],
         "marker": {
          "color": "#636efa",
          "size": 15,
          "symbol": "circle"
         },
         "mode": "markers",
         "name": "4",
         "showlegend": true,
         "type": "scattergeo"
        },
        {
         "geo": "geo",
         "hovertemplate": "<b>%{hovertext}</b><br><br>Label=25<br>LATITUDE=%{lat}<br>LONGITUDE=%{lon}<extra></extra>",
         "hovertext": [
          "BMI Central Il Regional Airport at Bloomington",
          "MDW Chicago Midway International",
          "ORD Chicago O'Hare International",
          "RFD Chicago/Rockford International",
          "SPI Abraham Lincoln Capital",
          "PIA General Downing - Peoria International",
          "CMI University of Illinois/Willard",
          "MLI Quad Cities International",
          "DEC Decatur Airport",
          "SBN South Bend International",
          "MSN Dane County Regional-Truax Field",
          "MKE General Mitchell International"
         ],
         "lat": [
          40.477222,
          41.78583,
          41.976944,
          42.19528,
          39.844166,
          40.664165,
          40.038612,
          41.448334,
          39.834446,
          41.708332,
          43.14,
          42.946945
         ],
         "legendgroup": "25",
         "lon": [
          -88.91583,
          -87.7525,
          -87.90806,
          -89.09722,
          -89.678055,
          -89.69334,
          -88.276665,
          -90.5075,
          -88.865555,
          -86.31722,
          -89.3375,
          -87.89694
         ],
         "marker": {
          "color": "#636efa",
          "size": 15,
          "symbol": "diamond"
         },
         "mode": "markers",
         "name": "25",
         "showlegend": true,
         "type": "scattergeo"
        },
        {
         "geo": "geo",
         "hovertemplate": "<b>%{hovertext}</b><br><br>Label=1<br>LATITUDE=%{lat}<br>LONGITUDE=%{lon}<extra></extra>",
         "hovertext": [
          "BLV Scott AFB MidAmerica St Louis",
          "EVV Evansville Regional",
          "IND Indianapolis International",
          "PAH Barkley Regional",
          "OWB Owensboro Daviess County Regional",
          "SDF Louisville Muhammad Ali International",
          "STL St Louis Lambert International",
          "CGI Cape Girardeau Regional",
          "BNA Nashville International"
         ],
         "lat": [
          38.545277,
          38.040833,
          39.717224,
          37.060276,
          37.738888,
          38.174168,
          38.74861,
          37.225277,
          36.124443
         ],
         "legendgroup": "1",
         "lon": [
          -89.83528,
          -87.52861,
          -86.29472,
          -88.773056,
          -87.16695,
          -85.73639,
          -90.37,
          -89.57083,
          -86.678055
         ],
         "marker": {
          "color": "#636efa",
          "size": 15,
          "symbol": "square"
         },
         "mode": "markers",
         "name": "1",
         "showlegend": true,
         "type": "scattergeo"
        },
        {
         "geo": "geo",
         "hovertemplate": "<b>%{hovertext}</b><br><br>Label=23<br>LATITUDE=%{lat}<br>LONGITUDE=%{lon}<extra></extra>",
         "hovertext": [
          "FWA Fort Wayne International",
          "CVG Cincinnati/Northern Kentucky International",
          "LEX Blue Grass",
          "CMH John Glenn Columbus International",
          "CLE Cleveland-Hopkins International",
          "LCK Rickenbacker International",
          "CAK Akron-Canton Regional",
          "TOL Eugene F Kranz Toledo Express",
          "DAY James M Cox/Dayton International",
          "CRW West Virginia International Yeager",
          "HTS Tri-State/Milton J. Ferguson Field"
         ],
         "lat": [
          40.978333,
          39.04889,
          38.036667,
          39.996944,
          41.409443,
          39.81389,
          40.915,
          41.586945,
          39.90222,
          38.37611,
          38.36861
         ],
         "legendgroup": "23",
         "lon": [
          -85.195274,
          -84.66778,
          -84.60861,
          -82.89222,
          -81.85472,
          -82.92778,
          -81.44361,
          -83.80778,
          -84.219444,
          -81.59278,
          -82.56028
         ],
         "marker": {
          "color": "#636efa",
          "size": 15,
          "symbol": "x"
         },
         "mode": "markers",
         "name": "23",
         "showlegend": true,
         "type": "scattergeo"
        },
        {
         "geo": "geo",
         "hovertemplate": "<b>%{hovertext}</b><br><br>Label=6<br>LATITUDE=%{lat}<br>LONGITUDE=%{lon}<extra></extra>",
         "hovertext": [
          "DDC Dodge City Regional",
          "ICT Wichita Dwight D Eisenhower National",
          "LBL Liberal Mid-America Regional",
          "HYS Hays Regional",
          "SLN Salina Regional",
          "MHK Manhattan Regional",
          "GCK Garden City Regional",
          "EAR Kearney Regional",
          "OMA Eppley Airfield",
          "GRI Central Nebraska Regional",
          "LBF North Platte Regional Airport Lee Bird Field",
          "LNK Lincoln Airport"
         ],
         "lat": [
          37.763054,
          37.65,
          37.043888,
          38.842224,
          38.790554,
          39.14111,
          37.9275,
          40.726944,
          41.303055,
          40.9675,
          41.12611,
          40.850834
         ],
         "legendgroup": "6",
         "lon": [
          -99.96555,
          -97.43305,
          -100.96,
          -99.273056,
          -97.65222,
          -96.67194,
          -100.72444,
          -99.00667,
          -95.894165,
          -98.30972,
          -100.68361,
          -96.75916
         ],
         "marker": {
          "color": "#636efa",
          "size": 15,
          "symbol": "cross"
         },
         "mode": "markers",
         "name": "6",
         "showlegend": true,
         "type": "scattergeo"
        },
        {
         "geo": "geo",
         "hovertemplate": "<b>%{hovertext}</b><br><br>Label=28<br>LATITUDE=%{lat}<br>LONGITUDE=%{lon}<extra></extra>",
         "hovertext": [
          "SBY Salisbury-Ocean City/Wicomico Regional",
          "HGR Hagerstown Regional-Richard A. Henson Field",
          "BWI Baltimore/Washington International Thurgood Marshall",
          "MDT Harrisburg International",
          "RIC Richmond International",
          "SHD Shenandoah Valley Regional",
          "DCA Ronald Reagan Washington National",
          "ORF Norfolk International",
          "PHF Newport News/Williamsburg International",
          "CHO Charlottesville Albemarle",
          "IAD Washington Dulles International"
         ],
         "lat": [
          38.34028,
          39.70861,
          39.175835,
          40.193054,
          37.50528,
          38.26389,
          38.851387,
          36.894722,
          37.131943,
          38.13972,
          38.9475
         ],
         "legendgroup": "28",
         "lon": [
          -75.509445,
          -77.72639,
          -76.66889,
          -76.7625,
          -77.319725,
          -78.896385,
          -77.03778,
          -76.20111,
          -76.49306,
          -78.452225,
          -77.46
         ],
         "marker": {
          "color": "#636efa",
          "size": 15,
          "symbol": "circle"
         },
         "mode": "markers",
         "name": "28",
         "showlegend": true,
         "type": "scattergeo"
        },
        {
         "geo": "geo",
         "hovertemplate": "<b>%{hovertext}</b><br><br>Label=45<br>LATITUDE=%{lat}<br>LONGITUDE=%{lon}<extra></extra>",
         "hovertext": [
          "MQT Sawyer International",
          "IMT Ford",
          "ESC Delta County",
          "CMX Houghton County Memorial",
          "CWA Central Wisconsin",
          "ATW Appleton International",
          "GRB Green Bay Austin Straubel International",
          "RHI Rhinelander/Oneida County"
         ],
         "lat": [
          46.349167,
          45.818333,
          45.72278,
          47.167778,
          44.7775,
          44.258057,
          44.484722,
          45.630833
         ],
         "legendgroup": "45",
         "lon": [
          -87.396385,
          -88.11444,
          -87.09361,
          -88.48639,
          -89.666664,
          -88.519165,
          -88.12972,
          -89.46667
         ],
         "marker": {
          "color": "#636efa",
          "size": 15,
          "symbol": "diamond"
         },
         "mode": "markers",
         "name": "45",
         "showlegend": true,
         "type": "scattergeo"
        },
        {
         "geo": "geo",
         "hovertemplate": "<b>%{hovertext}</b><br><br>Label=29<br>LATITUDE=%{lat}<br>LONGITUDE=%{lon}<extra></extra>",
         "hovertext": [
          "MBS MBS International",
          "PLN Pellston Regional Airport of Emmet County",
          "APN Alpena County Regional",
          "FNT Bishop International",
          "TVC Cherry Capital",
          "DTW Detroit Metro Wayne County",
          "LAN Capital Region International",
          "GRR Gerald R. Ford International",
          "AZO Kalamazoo/Battle Creek International",
          "MKG Muskegon County",
          "CIU Chippewa County International"
         ],
         "lat": [
          43.533054,
          45.570835,
          45.078056,
          42.965557,
          44.741665,
          42.2125,
          42.77861,
          42.880833,
          42.234444,
          43.167778,
          46.25083
         ],
         "legendgroup": "29",
         "lon": [
          -84.07972,
          -84.79667,
          -83.56028,
          -83.74472,
          -85.58195,
          -83.35333,
          -84.58611,
          -85.52278,
          -85.55167,
          -86.23556,
          -84.4725
         ],
         "marker": {
          "color": "#636efa",
          "size": 15,
          "symbol": "square"
         },
         "mode": "markers",
         "name": "29",
         "showlegend": true,
         "type": "scattergeo"
        },
        {
         "geo": "geo",
         "hovertemplate": "<b>%{hovertext}</b><br><br>Label=19<br>LATITUDE=%{lat}<br>LONGITUDE=%{lon}<extra></extra>",
         "hovertext": [
          "BJI Bemidji Regional",
          "INL Falls International Einarson Field",
          "BRD Brainerd Lakes Regional",
          "DLH Duluth International",
          "HIB Range Regional",
          "STC St. Cloud Regional",
          "FAR Hector International",
          "GFK Grand Forks International"
         ],
         "lat": [
          47.510834,
          48.565556,
          46.404167,
          46.841946,
          47.386665,
          45.546112,
          46.920555,
          47.947224
         ],
         "legendgroup": "19",
         "lon": [
          -94.93472,
          -93.40222,
          -94.13361,
          -92.19334,
          -92.83889,
          -94.05945,
          -96.815834,
          -97.17389
         ],
         "marker": {
          "color": "#636efa",
          "size": 15,
          "symbol": "x"
         },
         "mode": "markers",
         "name": "19",
         "showlegend": true,
         "type": "scattergeo"
        },
        {
         "geo": "geo",
         "hovertemplate": "<b>%{hovertext}</b><br><br>Label=46<br>LATITUDE=%{lat}<br>LONGITUDE=%{lon}<extra></extra>",
         "hovertext": [
          "FCA Glacier Park International",
          "BZN Bozeman Yellowstone International",
          "MSO Missoula Montana",
          "BTM Bert Mooney",
          "GTF Great Falls International",
          "HLN Helena Regional"
         ],
         "lat": [
          48.310555,
          45.77722,
          46.91639,
          45.954723,
          47.482224,
          46.606667
         ],
         "legendgroup": "46",
         "lon": [
          -114.25611,
          -111.150276,
          -114.09055,
          -112.4975,
          -111.37028,
          -111.98333
         ],
         "marker": {
          "color": "#636efa",
          "size": 15,
          "symbol": "cross"
         },
         "mode": "markers",
         "name": "46",
         "showlegend": true,
         "type": "scattergeo"
        },
        {
         "geo": "geo",
         "hovertemplate": "<b>%{hovertext}</b><br><br>Label=0<br>LATITUDE=%{lat}<br>LONGITUDE=%{lon}<extra></extra>",
         "hovertext": [
          "BIL Billings Logan International",
          "CPR Casper/Natrona County International",
          "COD Yellowstone Regional",
          "GCC Northeast Wyoming Regional",
          "RIW Central Wyoming Regional",
          "SHR Sheridan County"
         ],
         "lat": [
          45.807777,
          42.905834,
          44.52028,
          44.34889,
          43.064167,
          44.769165
         ],
         "legendgroup": "0",
         "lon": [
          -108.54361,
          -106.46361,
          -109.02389,
          -105.539444,
          -108.459724,
          -106.98028
         ],
         "marker": {
          "color": "#636efa",
          "size": 15,
          "symbol": "circle"
         },
         "mode": "markers",
         "name": "0",
         "showlegend": true,
         "type": "scattergeo"
        },
        {
         "geo": "geo",
         "hovertemplate": "<b>%{hovertext}</b><br><br>Label=37<br>LATITUDE=%{lat}<br>LONGITUDE=%{lon}<extra></extra>",
         "hovertext": [
          "OAJ Albert J Ellis",
          "EWN Coastal Carolina Regional",
          "RDU Raleigh-Durham International",
          "USA Concord Padgett Regional",
          "PGV Pitt Greenville",
          "GSO Piedmont Triad International",
          "FAY Fayetteville Regional/Grannis Field",
          "ILM Wilmington International",
          "ROA Roanoke Blacksburg Regional",
          "LYH Lynchburg Regional/Preston Glenn Field",
          "LWB Greenbrier Valley"
         ],
         "lat": [
          34.829166,
          35.072777,
          35.877777,
          35.38778,
          35.635555,
          36.101387,
          34.99111,
          34.27111,
          37.325554,
          37.32528,
          37.858334
         ],
         "legendgroup": "37",
         "lon": [
          -77.61222,
          -77.04305,
          -78.7875,
          -80.70917,
          -77.38416,
          -79.94111,
          -78.88028,
          -77.90278,
          -79.975555,
          -79.20111,
          -80.399445
         ],
         "marker": {
          "color": "#636efa",
          "size": 15,
          "symbol": "diamond"
         },
         "mode": "markers",
         "name": "37",
         "showlegend": true,
         "type": "scattergeo"
        },
        {
         "geo": "geo",
         "hovertemplate": "<b>%{hovertext}</b><br><br>Label=48<br>LATITUDE=%{lat}<br>LONGITUDE=%{lon}<extra></extra>",
         "hovertext": [
          "MOT Minot International",
          "XWA Williston Basin International",
          "DIK Dickinson - Theodore Roosevelt Regional",
          "DVL Devils Lake Regional",
          "BIS Bismarck Municipal"
         ],
         "lat": [
          48.25778,
          48.259724,
          46.800835,
          48.116665,
          46.772778
         ],
         "legendgroup": "48",
         "lon": [
          -101.27805,
          -103.75056,
          -102.80334,
          -98.91,
          -100.745834
         ],
         "marker": {
          "color": "#636efa",
          "size": 15,
          "symbol": "square"
         },
         "mode": "markers",
         "name": "48",
         "showlegend": true,
         "type": "scattergeo"
        },
        {
         "geo": "geo",
         "hovertemplate": "<b>%{hovertext}</b><br><br>Label=42<br>LATITUDE=%{lat}<br>LONGITUDE=%{lon}<extra></extra>",
         "hovertext": [
          "HOB Lea County Regional",
          "SAF Santa Fe Municipal",
          "ROW Roswell Air Center",
          "ABQ Albuquerque International Sunport",
          "ELP El Paso International",
          "AMA Rick Husband Amarillo International"
         ],
         "lat": [
          32.6875,
          35.61722,
          33.3,
          35.038887,
          31.807222,
          35.219444
         ],
         "legendgroup": "42",
         "lon": [
          -103.217224,
          -106.08945,
          -104.52944,
          -106.60833,
          -106.37639,
          -101.70583
         ],
         "marker": {
          "color": "#636efa",
          "size": 15,
          "symbol": "x"
         },
         "mode": "markers",
         "name": "42",
         "showlegend": true,
         "type": "scattergeo"
        },
        {
         "geo": "geo",
         "hovertemplate": "<b>%{hovertext}</b><br><br>Label=11<br>LATITUDE=%{lat}<br>LONGITUDE=%{lon}<extra></extra>",
         "hovertext": [
          "BUF Buffalo Niagara International",
          "IAG Niagara Falls International",
          "ERI Erie International/Tom Ridge Field",
          "JST John Murtha Johnstown-Cambria County",
          "LBE Arnold Palmer Regional",
          "SCE University Park",
          "PIT Pittsburgh International",
          "CKB North Central West Virginia"
         ],
         "lat": [
          42.940556,
          43.1075,
          42.083057,
          40.315556,
          40.273056,
          40.85,
          40.49139,
          39.29778
         ],
         "legendgroup": "11",
         "lon": [
          -78.73055,
          -78.94583,
          -80.17389,
          -78.834724,
          -79.41028,
          -77.8475,
          -80.23278,
          -80.2275
         ],
         "marker": {
          "color": "#636efa",
          "size": 15,
          "symbol": "cross"
         },
         "mode": "markers",
         "name": "11",
         "showlegend": true,
         "type": "scattergeo"
        },
        {
         "geo": "geo",
         "hovertemplate": "<b>%{hovertext}</b><br><br>Label=32<br>LATITUDE=%{lat}<br>LONGITUDE=%{lon}<extra></extra>",
         "hovertext": [
          "PBG Plattsburgh International",
          "ROC Frederick Douglass Grtr Rochester International",
          "OGS Ogdensburg International",
          "BGM Greater Binghamton/Edwin A. Link Field",
          "ELM Elmira/Corning Regional",
          "ALB Albany International",
          "ART Watertown International",
          "ITH Ithaca Tompkins International",
          "SYR Syracuse Hancock International"
         ],
         "lat": [
          44.650833,
          43.119167,
          44.68222,
          42.208332,
          42.15972,
          42.74917,
          43.991943,
          42.49139,
          43.11111
         ],
         "legendgroup": "32",
         "lon": [
          -73.468056,
          -77.67194,
          -75.46333,
          -75.97972,
          -76.89167,
          -73.80194,
          -76.01945,
          -76.45861,
          -76.10639
         ],
         "marker": {
          "color": "#636efa",
          "size": 15,
          "symbol": "circle"
         },
         "mode": "markers",
         "name": "32",
         "showlegend": true,
         "type": "scattergeo"
        },
        {
         "geo": "geo",
         "hovertemplate": "<b>%{hovertext}</b><br><br>Label=49<br>LATITUDE=%{lat}<br>LONGITUDE=%{lon}<extra></extra>",
         "hovertext": [
          "SWO Stillwater Regional",
          "OKC Will Rogers World",
          "LAW Lawton-Fort Sill Regional",
          "TUL Tulsa International",
          "SPS Sheppard AFB/Wichita Falls Municipal"
         ],
         "lat": [
          36.16139,
          35.393055,
          34.56778,
          36.198334,
          33.988888
         ],
         "legendgroup": "49",
         "lon": [
          -97.08583,
          -97.60083,
          -98.416664,
          -95.888054,
          -98.49194
         ],
         "marker": {
          "color": "#636efa",
          "size": 15,
          "symbol": "diamond"
         },
         "mode": "markers",
         "name": "49",
         "showlegend": true,
         "type": "scattergeo"
        },
        {
         "geo": "geo",
         "hovertemplate": "<b>%{hovertext}</b><br><br>Label=10<br>LATITUDE=%{lat}<br>LONGITUDE=%{lon}<extra></extra>",
         "hovertext": [
          "CRP Corpus Christi International",
          "BRO Brownsville South Padre Island International",
          "LRD Laredo International",
          "HRL Valley International",
          "MFE McAllen Miller International",
          "VCT Victoria Regional"
         ],
         "lat": [
          27.772223,
          25.90611,
          27.544167,
          26.227222,
          26.175833,
          28.854166
         ],
         "legendgroup": "10",
         "lon": [
          -97.5025,
          -97.42611,
          -99.46167,
          -97.65528,
          -98.23861,
          -96.91861
         ],
         "marker": {
          "color": "#636efa",
          "size": 15,
          "symbol": "square"
         },
         "mode": "markers",
         "name": "10",
         "showlegend": true,
         "type": "scattergeo"
        },
        {
         "geo": "geo",
         "hovertemplate": "<b>%{hovertext}</b><br><br>Label=33<br>LATITUDE=%{lat}<br>LONGITUDE=%{lon}<extra></extra>",
         "hovertext": [
          "SJT San Angelo Regional/Mathis Field",
          "ABI Abilene Regional",
          "LBB Lubbock Preston Smith International",
          "DRT Del Rio International",
          "MAF Midland International Air and Space Port"
         ],
         "lat": [
          31.357779,
          32.41139,
          33.663612,
          29.374166,
          31.9425
         ],
         "legendgroup": "33",
         "lon": [
          -100.49639,
          -99.681946,
          -101.82056,
          -100.92722,
          -102.20194
         ],
         "marker": {
          "color": "#636efa",
          "size": 15,
          "symbol": "x"
         },
         "mode": "markers",
         "name": "33",
         "showlegend": true,
         "type": "scattergeo"
        },
        {
         "geo": "geo",
         "hovertemplate": "<b>%{hovertext}</b><br><br>Label=15<br>LATITUDE=%{lat}<br>LONGITUDE=%{lon}<extra></extra>",
         "hovertext": [
          "GRK Robert Gray AAF",
          "CLL Easterwood Field",
          "HOU William P Hobby",
          "SAT San Antonio International",
          "AUS Austin - Bergstrom International",
          "DAL Dallas Love Field",
          "ACT Waco Regional",
          "DFW Dallas/Fort Worth International",
          "IAH George Bush Intercontinental/Houston"
         ],
         "lat": [
          31.067223,
          30.588055,
          29.645834,
          29.53389,
          30.194445,
          32.845833,
          31.612223,
          32.89722,
          29.984444
         ],
         "legendgroup": "15",
         "lon": [
          -97.82889,
          -96.3625,
          -95.27722,
          -98.46917,
          -97.67,
          -96.85083,
          -97.23028,
          -97.03778,
          -95.34139
         ],
         "marker": {
          "color": "#636efa",
          "size": 15,
          "symbol": "cross"
         },
         "mode": "markers",
         "name": "15",
         "showlegend": true,
         "type": "scattergeo"
        }
       ],
       "layout": {
        "geo": {
         "center": {},
         "domain": {
          "x": [
           0,
           1
          ],
          "y": [
           0,
           1
          ]
         },
         "scope": "usa"
        },
        "height": 700,
        "legend": {
         "title": {
          "text": "Label"
         },
         "tracegroupgap": 0
        },
        "margin": {
         "t": 60
        },
        "template": {
         "data": {
          "bar": [
           {
            "error_x": {
             "color": "#2a3f5f"
            },
            "error_y": {
             "color": "#2a3f5f"
            },
            "marker": {
             "line": {
              "color": "#E5ECF6",
              "width": 0.5
             },
             "pattern": {
              "fillmode": "overlay",
              "size": 10,
              "solidity": 0.2
             }
            },
            "type": "bar"
           }
          ],
          "barpolar": [
           {
            "marker": {
             "line": {
              "color": "#E5ECF6",
              "width": 0.5
             },
             "pattern": {
              "fillmode": "overlay",
              "size": 10,
              "solidity": 0.2
             }
            },
            "type": "barpolar"
           }
          ],
          "carpet": [
           {
            "aaxis": {
             "endlinecolor": "#2a3f5f",
             "gridcolor": "white",
             "linecolor": "white",
             "minorgridcolor": "white",
             "startlinecolor": "#2a3f5f"
            },
            "baxis": {
             "endlinecolor": "#2a3f5f",
             "gridcolor": "white",
             "linecolor": "white",
             "minorgridcolor": "white",
             "startlinecolor": "#2a3f5f"
            },
            "type": "carpet"
           }
          ],
          "choropleth": [
           {
            "colorbar": {
             "outlinewidth": 0,
             "ticks": ""
            },
            "type": "choropleth"
           }
          ],
          "contour": [
           {
            "colorbar": {
             "outlinewidth": 0,
             "ticks": ""
            },
            "colorscale": [
             [
              0,
              "#0d0887"
             ],
             [
              0.1111111111111111,
              "#46039f"
             ],
             [
              0.2222222222222222,
              "#7201a8"
             ],
             [
              0.3333333333333333,
              "#9c179e"
             ],
             [
              0.4444444444444444,
              "#bd3786"
             ],
             [
              0.5555555555555556,
              "#d8576b"
             ],
             [
              0.6666666666666666,
              "#ed7953"
             ],
             [
              0.7777777777777778,
              "#fb9f3a"
             ],
             [
              0.8888888888888888,
              "#fdca26"
             ],
             [
              1,
              "#f0f921"
             ]
            ],
            "type": "contour"
           }
          ],
          "contourcarpet": [
           {
            "colorbar": {
             "outlinewidth": 0,
             "ticks": ""
            },
            "type": "contourcarpet"
           }
          ],
          "heatmap": [
           {
            "colorbar": {
             "outlinewidth": 0,
             "ticks": ""
            },
            "colorscale": [
             [
              0,
              "#0d0887"
             ],
             [
              0.1111111111111111,
              "#46039f"
             ],
             [
              0.2222222222222222,
              "#7201a8"
             ],
             [
              0.3333333333333333,
              "#9c179e"
             ],
             [
              0.4444444444444444,
              "#bd3786"
             ],
             [
              0.5555555555555556,
              "#d8576b"
             ],
             [
              0.6666666666666666,
              "#ed7953"
             ],
             [
              0.7777777777777778,
              "#fb9f3a"
             ],
             [
              0.8888888888888888,
              "#fdca26"
             ],
             [
              1,
              "#f0f921"
             ]
            ],
            "type": "heatmap"
           }
          ],
          "heatmapgl": [
           {
            "colorbar": {
             "outlinewidth": 0,
             "ticks": ""
            },
            "colorscale": [
             [
              0,
              "#0d0887"
             ],
             [
              0.1111111111111111,
              "#46039f"
             ],
             [
              0.2222222222222222,
              "#7201a8"
             ],
             [
              0.3333333333333333,
              "#9c179e"
             ],
             [
              0.4444444444444444,
              "#bd3786"
             ],
             [
              0.5555555555555556,
              "#d8576b"
             ],
             [
              0.6666666666666666,
              "#ed7953"
             ],
             [
              0.7777777777777778,
              "#fb9f3a"
             ],
             [
              0.8888888888888888,
              "#fdca26"
             ],
             [
              1,
              "#f0f921"
             ]
            ],
            "type": "heatmapgl"
           }
          ],
          "histogram": [
           {
            "marker": {
             "pattern": {
              "fillmode": "overlay",
              "size": 10,
              "solidity": 0.2
             }
            },
            "type": "histogram"
           }
          ],
          "histogram2d": [
           {
            "colorbar": {
             "outlinewidth": 0,
             "ticks": ""
            },
            "colorscale": [
             [
              0,
              "#0d0887"
             ],
             [
              0.1111111111111111,
              "#46039f"
             ],
             [
              0.2222222222222222,
              "#7201a8"
             ],
             [
              0.3333333333333333,
              "#9c179e"
             ],
             [
              0.4444444444444444,
              "#bd3786"
             ],
             [
              0.5555555555555556,
              "#d8576b"
             ],
             [
              0.6666666666666666,
              "#ed7953"
             ],
             [
              0.7777777777777778,
              "#fb9f3a"
             ],
             [
              0.8888888888888888,
              "#fdca26"
             ],
             [
              1,
              "#f0f921"
             ]
            ],
            "type": "histogram2d"
           }
          ],
          "histogram2dcontour": [
           {
            "colorbar": {
             "outlinewidth": 0,
             "ticks": ""
            },
            "colorscale": [
             [
              0,
              "#0d0887"
             ],
             [
              0.1111111111111111,
              "#46039f"
             ],
             [
              0.2222222222222222,
              "#7201a8"
             ],
             [
              0.3333333333333333,
              "#9c179e"
             ],
             [
              0.4444444444444444,
              "#bd3786"
             ],
             [
              0.5555555555555556,
              "#d8576b"
             ],
             [
              0.6666666666666666,
              "#ed7953"
             ],
             [
              0.7777777777777778,
              "#fb9f3a"
             ],
             [
              0.8888888888888888,
              "#fdca26"
             ],
             [
              1,
              "#f0f921"
             ]
            ],
            "type": "histogram2dcontour"
           }
          ],
          "mesh3d": [
           {
            "colorbar": {
             "outlinewidth": 0,
             "ticks": ""
            },
            "type": "mesh3d"
           }
          ],
          "parcoords": [
           {
            "line": {
             "colorbar": {
              "outlinewidth": 0,
              "ticks": ""
             }
            },
            "type": "parcoords"
           }
          ],
          "pie": [
           {
            "automargin": true,
            "type": "pie"
           }
          ],
          "scatter": [
           {
            "fillpattern": {
             "fillmode": "overlay",
             "size": 10,
             "solidity": 0.2
            },
            "type": "scatter"
           }
          ],
          "scatter3d": [
           {
            "line": {
             "colorbar": {
              "outlinewidth": 0,
              "ticks": ""
             }
            },
            "marker": {
             "colorbar": {
              "outlinewidth": 0,
              "ticks": ""
             }
            },
            "type": "scatter3d"
           }
          ],
          "scattercarpet": [
           {
            "marker": {
             "colorbar": {
              "outlinewidth": 0,
              "ticks": ""
             }
            },
            "type": "scattercarpet"
           }
          ],
          "scattergeo": [
           {
            "marker": {
             "colorbar": {
              "outlinewidth": 0,
              "ticks": ""
             }
            },
            "type": "scattergeo"
           }
          ],
          "scattergl": [
           {
            "marker": {
             "colorbar": {
              "outlinewidth": 0,
              "ticks": ""
             }
            },
            "type": "scattergl"
           }
          ],
          "scattermapbox": [
           {
            "marker": {
             "colorbar": {
              "outlinewidth": 0,
              "ticks": ""
             }
            },
            "type": "scattermapbox"
           }
          ],
          "scatterpolar": [
           {
            "marker": {
             "colorbar": {
              "outlinewidth": 0,
              "ticks": ""
             }
            },
            "type": "scatterpolar"
           }
          ],
          "scatterpolargl": [
           {
            "marker": {
             "colorbar": {
              "outlinewidth": 0,
              "ticks": ""
             }
            },
            "type": "scatterpolargl"
           }
          ],
          "scatterternary": [
           {
            "marker": {
             "colorbar": {
              "outlinewidth": 0,
              "ticks": ""
             }
            },
            "type": "scatterternary"
           }
          ],
          "surface": [
           {
            "colorbar": {
             "outlinewidth": 0,
             "ticks": ""
            },
            "colorscale": [
             [
              0,
              "#0d0887"
             ],
             [
              0.1111111111111111,
              "#46039f"
             ],
             [
              0.2222222222222222,
              "#7201a8"
             ],
             [
              0.3333333333333333,
              "#9c179e"
             ],
             [
              0.4444444444444444,
              "#bd3786"
             ],
             [
              0.5555555555555556,
              "#d8576b"
             ],
             [
              0.6666666666666666,
              "#ed7953"
             ],
             [
              0.7777777777777778,
              "#fb9f3a"
             ],
             [
              0.8888888888888888,
              "#fdca26"
             ],
             [
              1,
              "#f0f921"
             ]
            ],
            "type": "surface"
           }
          ],
          "table": [
           {
            "cells": {
             "fill": {
              "color": "#EBF0F8"
             },
             "line": {
              "color": "white"
             }
            },
            "header": {
             "fill": {
              "color": "#C8D4E3"
             },
             "line": {
              "color": "white"
             }
            },
            "type": "table"
           }
          ]
         },
         "layout": {
          "annotationdefaults": {
           "arrowcolor": "#2a3f5f",
           "arrowhead": 0,
           "arrowwidth": 1
          },
          "autotypenumbers": "strict",
          "coloraxis": {
           "colorbar": {
            "outlinewidth": 0,
            "ticks": ""
           }
          },
          "colorscale": {
           "diverging": [
            [
             0,
             "#8e0152"
            ],
            [
             0.1,
             "#c51b7d"
            ],
            [
             0.2,
             "#de77ae"
            ],
            [
             0.3,
             "#f1b6da"
            ],
            [
             0.4,
             "#fde0ef"
            ],
            [
             0.5,
             "#f7f7f7"
            ],
            [
             0.6,
             "#e6f5d0"
            ],
            [
             0.7,
             "#b8e186"
            ],
            [
             0.8,
             "#7fbc41"
            ],
            [
             0.9,
             "#4d9221"
            ],
            [
             1,
             "#276419"
            ]
           ],
           "sequential": [
            [
             0,
             "#0d0887"
            ],
            [
             0.1111111111111111,
             "#46039f"
            ],
            [
             0.2222222222222222,
             "#7201a8"
            ],
            [
             0.3333333333333333,
             "#9c179e"
            ],
            [
             0.4444444444444444,
             "#bd3786"
            ],
            [
             0.5555555555555556,
             "#d8576b"
            ],
            [
             0.6666666666666666,
             "#ed7953"
            ],
            [
             0.7777777777777778,
             "#fb9f3a"
            ],
            [
             0.8888888888888888,
             "#fdca26"
            ],
            [
             1,
             "#f0f921"
            ]
           ],
           "sequentialminus": [
            [
             0,
             "#0d0887"
            ],
            [
             0.1111111111111111,
             "#46039f"
            ],
            [
             0.2222222222222222,
             "#7201a8"
            ],
            [
             0.3333333333333333,
             "#9c179e"
            ],
            [
             0.4444444444444444,
             "#bd3786"
            ],
            [
             0.5555555555555556,
             "#d8576b"
            ],
            [
             0.6666666666666666,
             "#ed7953"
            ],
            [
             0.7777777777777778,
             "#fb9f3a"
            ],
            [
             0.8888888888888888,
             "#fdca26"
            ],
            [
             1,
             "#f0f921"
            ]
           ]
          },
          "colorway": [
           "#636efa",
           "#EF553B",
           "#00cc96",
           "#ab63fa",
           "#FFA15A",
           "#19d3f3",
           "#FF6692",
           "#B6E880",
           "#FF97FF",
           "#FECB52"
          ],
          "font": {
           "color": "#2a3f5f"
          },
          "geo": {
           "bgcolor": "white",
           "lakecolor": "white",
           "landcolor": "#E5ECF6",
           "showlakes": true,
           "showland": true,
           "subunitcolor": "white"
          },
          "hoverlabel": {
           "align": "left"
          },
          "hovermode": "closest",
          "mapbox": {
           "style": "light"
          },
          "paper_bgcolor": "white",
          "plot_bgcolor": "#E5ECF6",
          "polar": {
           "angularaxis": {
            "gridcolor": "white",
            "linecolor": "white",
            "ticks": ""
           },
           "bgcolor": "#E5ECF6",
           "radialaxis": {
            "gridcolor": "white",
            "linecolor": "white",
            "ticks": ""
           }
          },
          "scene": {
           "xaxis": {
            "backgroundcolor": "#E5ECF6",
            "gridcolor": "white",
            "gridwidth": 2,
            "linecolor": "white",
            "showbackground": true,
            "ticks": "",
            "zerolinecolor": "white"
           },
           "yaxis": {
            "backgroundcolor": "#E5ECF6",
            "gridcolor": "white",
            "gridwidth": 2,
            "linecolor": "white",
            "showbackground": true,
            "ticks": "",
            "zerolinecolor": "white"
           },
           "zaxis": {
            "backgroundcolor": "#E5ECF6",
            "gridcolor": "white",
            "gridwidth": 2,
            "linecolor": "white",
            "showbackground": true,
            "ticks": "",
            "zerolinecolor": "white"
           }
          },
          "shapedefaults": {
           "line": {
            "color": "#2a3f5f"
           }
          },
          "ternary": {
           "aaxis": {
            "gridcolor": "white",
            "linecolor": "white",
            "ticks": ""
           },
           "baxis": {
            "gridcolor": "white",
            "linecolor": "white",
            "ticks": ""
           },
           "bgcolor": "#E5ECF6",
           "caxis": {
            "gridcolor": "white",
            "linecolor": "white",
            "ticks": ""
           }
          },
          "title": {
           "x": 0.05
          },
          "xaxis": {
           "automargin": true,
           "gridcolor": "white",
           "linecolor": "white",
           "ticks": "",
           "title": {
            "standoff": 15
           },
           "zerolinecolor": "white",
           "zerolinewidth": 2
          },
          "yaxis": {
           "automargin": true,
           "gridcolor": "white",
           "linecolor": "white",
           "ticks": "",
           "title": {
            "standoff": 15
           },
           "zerolinecolor": "white",
           "zerolinewidth": 2
          }
         }
        }
       }
      }
     },
     "metadata": {},
     "output_type": "display_data"
    }
   ],
   "source": [
    "plot_clusters(model_km).show()"
   ]
  },
  {
   "cell_type": "markdown",
   "metadata": {},
   "source": [
    "## Agglomerative\n",
    "\n",
    "Build a base model using n_clusters=50 to build 50 clusters using sklearn AgglomerativeClustering"
   ]
  },
  {
   "cell_type": "code",
   "execution_count": 12,
   "metadata": {},
   "outputs": [
    {
     "data": {
      "text/plain": [
       "array([46,  2, 46, 34,  9,  2,  9, 16,  2, 34,  2, 16, 46,  9, 16, 45, 16,\n",
       "       41, 31, 26, 10, 26, 26, 26,  4,  4, 15,  4,  3,  3,  3,  3,  3,  3,\n",
       "        3,  8,  8,  8, 30,  8, 30,  8,  8, 30,  8,  8, 30,  6,  8, 30,  8,\n",
       "       30,  8, 30,  8,  8,  6, 49, 36,  7, 49, 49, 36, 49, 49, 49,  7, 36,\n",
       "       12, 17, 26, 26,  1,  1,  1,  1,  1,  1, 26,  1,  1,  1,  1,  1, 26,\n",
       "        1,  1,  1,  1, 22, 26, 26, 26, 22, 26,  1, 19, 19, 19, 19, 19, 14,\n",
       "       42, 14, 14, 14, 14, 14, 13, 13, 43, 20, 20, 20, 25, 38, 25, 25, 25,\n",
       "       25, 25, 25, 14, 25, 38,  0,  0,  0, 11, 11, 11, 11, 11, 11, 11, 38,\n",
       "       23, 38, 23, 23, 10, 15, 10, 10, 15, 10, 10, 12, 12, 12, 12, 12, 17,\n",
       "        5,  5, 47, 47, 12, 29,  0, 29,  0, 29,  0,  0,  0,  0,  0,  0,  0,\n",
       "        0, 29,  0, 35, 35, 35, 35, 14, 14, 35, 35,  4,  4, 38,  4,  4,  4,\n",
       "        4, 38, 10, 10, 10, 10, 10, 32, 32, 27, 32, 32, 32, 32, 32, 37, 37,\n",
       "       22, 22, 37, 22, 44, 22, 22, 37, 21, 21, 21, 40, 40, 40, 21, 40, 11,\n",
       "       42, 11, 36, 11, 42, 12, 12, 17, 17, 17, 28,  7,  7,  7,  8, 20,  3,\n",
       "       17, 24, 12, 24, 24, 24, 24, 17, 12, 17, 17, 24, 24, 24, 17, 24, 23,\n",
       "       48, 23, 48,  0, 23, 39, 39, 39,  4,  6,  6,  6,  6,  6, 48, 17, 17,\n",
       "       17, 48, 48,  5,  5, 48, 12, 22, 22, 44, 22, 22, 22, 40, 40, 21, 42,\n",
       "       21, 44, 38,  4, 44, 44, 18, 28, 18, 18, 39, 15, 15, 28, 18, 15, 18,\n",
       "       28, 18, 18, 18, 15, 18, 39,  7, 18, 39, 28, 15, 28, 18, 15, 13, 13,\n",
       "       13,  3,  3, 13, 49, 37,  5,  5,  5, 37, 37,  5,  5,  5, 12, 43, 43,\n",
       "       33, 33, 33, 33, 43, 43, 33, 25, 14, 29, 25, 14, 29, 29, 29, 23,  5,\n",
       "       23, 48, 13, 36, 36, 13, 27, 27, 27, 27, 27], dtype=int64)"
      ]
     },
     "execution_count": 12,
     "metadata": {},
     "output_type": "execute_result"
    }
   ],
   "source": [
    "model_agg = AgglomerativeClustering(n_clusters=50).fit(X)\n",
    "model_agg.labels_"
   ]
  },
  {
   "cell_type": "markdown",
   "metadata": {},
   "source": [
    "Calculate Accuracy"
   ]
  },
  {
   "cell_type": "code",
   "execution_count": 13,
   "metadata": {},
   "outputs": [
    {
     "data": {
      "text/plain": [
       "0.02717391304347826"
      ]
     },
     "execution_count": 13,
     "metadata": {},
     "output_type": "execute_result"
    }
   ],
   "source": [
    "accuracy_score(y_true, model_agg.labels_)"
   ]
  },
  {
   "cell_type": "markdown",
   "metadata": {},
   "source": [
    "Use some grid search to find best results"
   ]
  },
  {
   "cell_type": "code",
   "execution_count": 14,
   "metadata": {},
   "outputs": [
    {
     "data": {
      "text/html": [
       "<div>\n",
       "<style scoped>\n",
       "    .dataframe tbody tr th:only-of-type {\n",
       "        vertical-align: middle;\n",
       "    }\n",
       "\n",
       "    .dataframe tbody tr th {\n",
       "        vertical-align: top;\n",
       "    }\n",
       "\n",
       "    .dataframe thead th {\n",
       "        text-align: right;\n",
       "    }\n",
       "</style>\n",
       "<table border=\"1\" class=\"dataframe\">\n",
       "  <thead>\n",
       "    <tr style=\"text-align: right;\">\n",
       "      <th></th>\n",
       "      <th>setting</th>\n",
       "      <th>result</th>\n",
       "      <th>model</th>\n",
       "    </tr>\n",
       "  </thead>\n",
       "  <tbody>\n",
       "    <tr>\n",
       "      <th>0</th>\n",
       "      <td>[complete, euclidean]</td>\n",
       "      <td>0.032609</td>\n",
       "      <td>AgglomerativeClustering(linkage='complete', me...</td>\n",
       "    </tr>\n",
       "    <tr>\n",
       "      <th>1</th>\n",
       "      <td>[complete, l1]</td>\n",
       "      <td>0.032609</td>\n",
       "      <td>AgglomerativeClustering(linkage='complete', me...</td>\n",
       "    </tr>\n",
       "    <tr>\n",
       "      <th>2</th>\n",
       "      <td>[complete, l2]</td>\n",
       "      <td>0.032609</td>\n",
       "      <td>AgglomerativeClustering(linkage='complete', me...</td>\n",
       "    </tr>\n",
       "    <tr>\n",
       "      <th>3</th>\n",
       "      <td>[complete, manhattan]</td>\n",
       "      <td>0.032609</td>\n",
       "      <td>AgglomerativeClustering(linkage='complete', me...</td>\n",
       "    </tr>\n",
       "    <tr>\n",
       "      <th>4</th>\n",
       "      <td>[single, euclidean]</td>\n",
       "      <td>0.032609</td>\n",
       "      <td>AgglomerativeClustering(linkage='single', metr...</td>\n",
       "    </tr>\n",
       "    <tr>\n",
       "      <th>5</th>\n",
       "      <td>[single, l2]</td>\n",
       "      <td>0.032609</td>\n",
       "      <td>AgglomerativeClustering(linkage='single', metr...</td>\n",
       "    </tr>\n",
       "    <tr>\n",
       "      <th>6</th>\n",
       "      <td>[ward, euclidean]</td>\n",
       "      <td>0.027174</td>\n",
       "      <td>AgglomerativeClustering(metric='euclidean', n_...</td>\n",
       "    </tr>\n",
       "    <tr>\n",
       "      <th>7</th>\n",
       "      <td>[complete, cosine]</td>\n",
       "      <td>0.024457</td>\n",
       "      <td>AgglomerativeClustering(linkage='complete', me...</td>\n",
       "    </tr>\n",
       "    <tr>\n",
       "      <th>8</th>\n",
       "      <td>[single, cosine]</td>\n",
       "      <td>0.010870</td>\n",
       "      <td>AgglomerativeClustering(linkage='single', metr...</td>\n",
       "    </tr>\n",
       "    <tr>\n",
       "      <th>9</th>\n",
       "      <td>[average, euclidean]</td>\n",
       "      <td>0.008152</td>\n",
       "      <td>AgglomerativeClustering(linkage='average', met...</td>\n",
       "    </tr>\n",
       "    <tr>\n",
       "      <th>10</th>\n",
       "      <td>[average, l2]</td>\n",
       "      <td>0.008152</td>\n",
       "      <td>AgglomerativeClustering(linkage='average', met...</td>\n",
       "    </tr>\n",
       "    <tr>\n",
       "      <th>11</th>\n",
       "      <td>[average, cosine]</td>\n",
       "      <td>0.005435</td>\n",
       "      <td>AgglomerativeClustering(linkage='average', met...</td>\n",
       "    </tr>\n",
       "    <tr>\n",
       "      <th>12</th>\n",
       "      <td>[average, l1]</td>\n",
       "      <td>0.002717</td>\n",
       "      <td>AgglomerativeClustering(linkage='average', met...</td>\n",
       "    </tr>\n",
       "    <tr>\n",
       "      <th>13</th>\n",
       "      <td>[average, manhattan]</td>\n",
       "      <td>0.002717</td>\n",
       "      <td>AgglomerativeClustering(linkage='average', met...</td>\n",
       "    </tr>\n",
       "    <tr>\n",
       "      <th>14</th>\n",
       "      <td>[single, l1]</td>\n",
       "      <td>0.002717</td>\n",
       "      <td>AgglomerativeClustering(linkage='single', metr...</td>\n",
       "    </tr>\n",
       "    <tr>\n",
       "      <th>15</th>\n",
       "      <td>[single, manhattan]</td>\n",
       "      <td>0.002717</td>\n",
       "      <td>AgglomerativeClustering(linkage='single', metr...</td>\n",
       "    </tr>\n",
       "  </tbody>\n",
       "</table>\n",
       "</div>"
      ],
      "text/plain": [
       "                  setting    result  \\\n",
       "0   [complete, euclidean]  0.032609   \n",
       "1          [complete, l1]  0.032609   \n",
       "2          [complete, l2]  0.032609   \n",
       "3   [complete, manhattan]  0.032609   \n",
       "4     [single, euclidean]  0.032609   \n",
       "5            [single, l2]  0.032609   \n",
       "6       [ward, euclidean]  0.027174   \n",
       "7      [complete, cosine]  0.024457   \n",
       "8        [single, cosine]  0.010870   \n",
       "9    [average, euclidean]  0.008152   \n",
       "10          [average, l2]  0.008152   \n",
       "11      [average, cosine]  0.005435   \n",
       "12          [average, l1]  0.002717   \n",
       "13   [average, manhattan]  0.002717   \n",
       "14           [single, l1]  0.002717   \n",
       "15    [single, manhattan]  0.002717   \n",
       "\n",
       "                                                model  \n",
       "0   AgglomerativeClustering(linkage='complete', me...  \n",
       "1   AgglomerativeClustering(linkage='complete', me...  \n",
       "2   AgglomerativeClustering(linkage='complete', me...  \n",
       "3   AgglomerativeClustering(linkage='complete', me...  \n",
       "4   AgglomerativeClustering(linkage='single', metr...  \n",
       "5   AgglomerativeClustering(linkage='single', metr...  \n",
       "6   AgglomerativeClustering(metric='euclidean', n_...  \n",
       "7   AgglomerativeClustering(linkage='complete', me...  \n",
       "8   AgglomerativeClustering(linkage='single', metr...  \n",
       "9   AgglomerativeClustering(linkage='average', met...  \n",
       "10  AgglomerativeClustering(linkage='average', met...  \n",
       "11  AgglomerativeClustering(linkage='average', met...  \n",
       "12  AgglomerativeClustering(linkage='average', met...  \n",
       "13  AgglomerativeClustering(linkage='average', met...  \n",
       "14  AgglomerativeClustering(linkage='single', metr...  \n",
       "15  AgglomerativeClustering(linkage='single', metr...  "
      ]
     },
     "execution_count": 14,
     "metadata": {},
     "output_type": "execute_result"
    }
   ],
   "source": [
    "linkages = ['ward', 'complete', 'average', 'single']\n",
    "metrics = ['euclidean', 'l1', 'l2', 'manhattan', 'cosine']\n",
    "settings = []\n",
    "results = []\n",
    "models = []\n",
    "for linkage in linkages:\n",
    "    for metric in metrics:\n",
    "        try:\n",
    "            model_agg_test = AgglomerativeClustering(n_clusters=50,linkage=linkage,metric=metric).fit(X)\n",
    "            settings.append([linkage, metric])\n",
    "            results.append(accuracy_score(y_true, model_agg_test.labels_))\n",
    "            models.append(model_agg_test)\n",
    "        except:\n",
    "            pass\n",
    "data = {'setting': settings, 'result': results, 'model': models}\n",
    "metrics_df = pd.DataFrame.from_dict(data)\n",
    "metrics_df.sort_values(by='result', ascending=False).reset_index(drop=True)"
   ]
  },
  {
   "cell_type": "markdown",
   "metadata": {},
   "source": [
    "Plot Map"
   ]
  },
  {
   "cell_type": "code",
   "execution_count": 15,
   "metadata": {},
   "outputs": [
    {
     "data": {
      "application/vnd.plotly.v1+json": {
       "config": {
        "plotlyServerURL": "https://plot.ly"
       },
       "data": [
        {
         "geo": "geo",
         "hovertemplate": "<b>%{hovertext}</b><br><br>Label=46<br>LATITUDE=%{lat}<br>LONGITUDE=%{lon}<extra></extra>",
         "hovertext": [
          "PSG Petersburg James A Johnson",
          "KTN Ketchikan International",
          "WRG Wrangell Airport"
         ],
         "lat": [
          56.801388,
          55.354168,
          56.484444
         ],
         "legendgroup": "46",
         "lon": [
          -132.9461,
          -131.7111,
          -132.36972
         ],
         "marker": {
          "color": "#636efa",
          "size": 15,
          "symbol": "circle"
         },
         "mode": "markers",
         "name": "46",
         "showlegend": true,
         "type": "scattergeo"
        },
        {
         "geo": "geo",
         "hovertemplate": "<b>%{hovertext}</b><br><br>Label=2<br>LATITUDE=%{lat}<br>LONGITUDE=%{lon}<extra></extra>",
         "hovertext": [
          "ANC Ted Stevens Anchorage International",
          "CDV Merle K Mudhole Smith",
          "FAI Fairbanks International",
          "ADQ Kodiak Airport"
         ],
         "lat": [
          61.174168,
          60.491665,
          64.81528,
          57.74972
         ],
         "legendgroup": "2",
         "lon": [
          -149.99806,
          -145.4775,
          -147.85667,
          -152.4939
         ],
         "marker": {
          "color": "#636efa",
          "size": 15,
          "symbol": "diamond"
         },
         "mode": "markers",
         "name": "2",
         "showlegend": true,
         "type": "scattergeo"
        },
        {
         "geo": "geo",
         "hovertemplate": "<b>%{hovertext}</b><br><br>Label=34<br>LATITUDE=%{lat}<br>LONGITUDE=%{lon}<extra></extra>",
         "hovertext": [
          "OME Nome Airport",
          "OTZ Ralph Wien Memorial"
         ],
         "lat": [
          64.51056,
          66.88472
         ],
         "legendgroup": "34",
         "lon": [
          -165.44472,
          -162.59805
         ],
         "marker": {
          "color": "#636efa",
          "size": 15,
          "symbol": "square"
         },
         "mode": "markers",
         "name": "34",
         "showlegend": true,
         "type": "scattergeo"
        },
        {
         "geo": "geo",
         "hovertemplate": "<b>%{hovertext}</b><br><br>Label=9<br>LATITUDE=%{lat}<br>LONGITUDE=%{lon}<extra></extra>",
         "hovertext": [
          "BET Bethel Airport",
          "AKN King Salmon Airport",
          "DLG Dillingham Airport"
         ],
         "lat": [
          60.77861,
          58.676388,
          59.044724
         ],
         "legendgroup": "9",
         "lon": [
          -161.83722,
          -156.6486,
          -158.50555
         ],
         "marker": {
          "color": "#636efa",
          "size": 15,
          "symbol": "x"
         },
         "mode": "markers",
         "name": "9",
         "showlegend": true,
         "type": "scattergeo"
        },
        {
         "geo": "geo",
         "hovertemplate": "<b>%{hovertext}</b><br><br>Label=16<br>LATITUDE=%{lat}<br>LONGITUDE=%{lon}<extra></extra>",
         "hovertext": [
          "SIT Sitka Rocky Gutierrez",
          "JNU Juneau International",
          "GST Gustavus Airport",
          "YAK Yakutat Airport"
         ],
         "lat": [
          57.046944,
          58.35472,
          58.425278,
          59.503334
         ],
         "legendgroup": "16",
         "lon": [
          -135.36111,
          -134.57834,
          -135.7075,
          -139.66028
         ],
         "marker": {
          "color": "#636efa",
          "size": 15,
          "symbol": "cross"
         },
         "mode": "markers",
         "name": "16",
         "showlegend": true,
         "type": "scattergeo"
        },
        {
         "geo": "geo",
         "hovertemplate": "<b>%{hovertext}</b><br><br>Label=45<br>LATITUDE=%{lat}<br>LONGITUDE=%{lon}<extra></extra>",
         "hovertext": [
          "BRW Wiley Post/Will Rogers Memorial"
         ],
         "lat": [
          71.28472
         ],
         "legendgroup": "45",
         "lon": [
          -156.76862
         ],
         "marker": {
          "color": "#636efa",
          "size": 15,
          "symbol": "circle"
         },
         "mode": "markers",
         "name": "45",
         "showlegend": true,
         "type": "scattergeo"
        },
        {
         "geo": "geo",
         "hovertemplate": "<b>%{hovertext}</b><br><br>Label=41<br>LATITUDE=%{lat}<br>LONGITUDE=%{lon}<extra></extra>",
         "hovertext": [
          "ADK Adak"
         ],
         "lat": [
          51.88361
         ],
         "legendgroup": "41",
         "lon": [
          -176.6425
         ],
         "marker": {
          "color": "#636efa",
          "size": 15,
          "symbol": "diamond"
         },
         "mode": "markers",
         "name": "41",
         "showlegend": true,
         "type": "scattergeo"
        },
        {
         "geo": "geo",
         "hovertemplate": "<b>%{hovertext}</b><br><br>Label=31<br>LATITUDE=%{lat}<br>LONGITUDE=%{lon}<extra></extra>",
         "hovertext": [
          "SCC Deadhorse Airport"
         ],
         "lat": [
          70.194725
         ],
         "legendgroup": "31",
         "lon": [
          -148.46527
         ],
         "marker": {
          "color": "#636efa",
          "size": 15,
          "symbol": "square"
         },
         "mode": "markers",
         "name": "31",
         "showlegend": true,
         "type": "scattergeo"
        },
        {
         "geo": "geo",
         "hovertemplate": "<b>%{hovertext}</b><br><br>Label=26<br>LATITUDE=%{lat}<br>LONGITUDE=%{lon}<extra></extra>",
         "hovertext": [
          "BHM Birmingham-Shuttlesworth International",
          "MGM Montgomery Regional",
          "HSV Huntsville International-Carl T Jones Field",
          "DHN Dothan Regional",
          "PNS Pensacola International",
          "ECP Northwest Florida Beaches International",
          "VPS Eglin AFB Destin Fort Walton Beach",
          "TLH Tallahassee International",
          "CSG Columbus Airport",
          "ABY Southwest Georgia Regional",
          "VLD Valdosta Regional",
          "ATL Hartsfield-Jackson Atlanta International"
         ],
         "lat": [
          33.56389,
          32.300556,
          34.637222,
          31.321112,
          30.473333,
          30.358334,
          30.483334,
          30.396667,
          32.516388,
          31.535555,
          30.78139,
          33.636665
         ],
         "legendgroup": "26",
         "lon": [
          -86.75222,
          -86.39389,
          -86.775,
          -85.44945,
          -87.18667,
          -85.795555,
          -86.525276,
          -84.35083,
          -84.93889,
          -84.19444,
          -83.27611,
          -84.42778
         ],
         "marker": {
          "color": "#636efa",
          "size": 15,
          "symbol": "x"
         },
         "mode": "markers",
         "name": "26",
         "showlegend": true,
         "type": "scattergeo"
        },
        {
         "geo": "geo",
         "hovertemplate": "<b>%{hovertext}</b><br><br>Label=10<br>LATITUDE=%{lat}<br>LONGITUDE=%{lon}<extra></extra>",
         "hovertext": [
          "MOB Mobile Regional",
          "MLU Monroe Regional",
          "MSY Louis Armstrong New Orleans International",
          "BTR Baton Rouge Metropolitan/Ryan Field",
          "LFT Lafayette Regional Paul Fournet Field",
          "AEX Alexandria International",
          "PIB Hattiesburg-Laurel Regional",
          "MEI Key Field",
          "GPT Gulfport-Biloxi International",
          "GTR Golden Triangle Regional",
          "JAN Jackson Medgar Wiley Evers International"
         ],
         "lat": [
          30.69139,
          32.510555,
          29.993334,
          30.533056,
          30.205,
          31.3275,
          31.467222,
          32.3325,
          30.407223,
          33.448334,
          32.31111
         ],
         "legendgroup": "10",
         "lon": [
          -88.242775,
          -92.03611,
          -90.25916,
          -91.15,
          -91.98778,
          -92.548615,
          -89.336945,
          -88.751945,
          -89.07,
          -88.59139,
          -90.075836
         ],
         "marker": {
          "color": "#636efa",
          "size": 15,
          "symbol": "cross"
         },
         "mode": "markers",
         "name": "10",
         "showlegend": true,
         "type": "scattergeo"
        },
        {
         "geo": "geo",
         "hovertemplate": "<b>%{hovertext}</b><br><br>Label=4<br>LATITUDE=%{lat}<br>LONGITUDE=%{lon}<extra></extra>",
         "hovertext": [
          "XNA Northwest Arkansas National",
          "LIT Bill and Hillary Clinton Nat Adams Field",
          "FSM Fort Smith Regional",
          "JLN Joplin Regional",
          "MCI Kansas City International",
          "COU Columbia Regional",
          "BKG Branson Airport",
          "SGF Springfield-Branson National",
          "TBN Waynesville-St. Robert Regional Forney Field",
          "TUL Tulsa International",
          "MEM Memphis International"
         ],
         "lat": [
          36.281666,
          34.729443,
          35.335278,
          37.153057,
          39.2975,
          38.81778,
          36.531944,
          37.245556,
          37.741665,
          36.198334,
          35.0425
         ],
         "legendgroup": "4",
         "lon": [
          -94.30778,
          -92.224724,
          -94.367775,
          -94.498886,
          -94.71389,
          -92.21778,
          -93.200554,
          -93.38861,
          -92.14083,
          -95.888054,
          -89.97667
         ],
         "marker": {
          "color": "#636efa",
          "size": 15,
          "symbol": "circle"
         },
         "mode": "markers",
         "name": "4",
         "showlegend": true,
         "type": "scattergeo"
        },
        {
         "geo": "geo",
         "hovertemplate": "<b>%{hovertext}</b><br><br>Label=15<br>LATITUDE=%{lat}<br>LONGITUDE=%{lon}<extra></extra>",
         "hovertext": [
          "TXK Texarkana Regional-Webb Field",
          "SHV Shreveport Regional",
          "LCH Lake Charles Regional",
          "BPT Jack Brooks Regional",
          "CLL Easterwood Field",
          "HOU William P Hobby",
          "GGG East Texas Regional",
          "TYR Tyler Pounds Regional",
          "IAH George Bush Intercontinental/Houston"
         ],
         "lat": [
          33.45361,
          32.44639,
          30.126112,
          29.950834,
          30.588055,
          29.645834,
          32.38389,
          32.35361,
          29.984444
         ],
         "legendgroup": "15",
         "lon": [
          -93.99111,
          -93.82611,
          -93.223335,
          -94.02055,
          -96.3625,
          -95.27722,
          -94.71139,
          -95.40305,
          -95.34139
         ],
         "marker": {
          "color": "#636efa",
          "size": 15,
          "symbol": "diamond"
         },
         "mode": "markers",
         "name": "15",
         "showlegend": true,
         "type": "scattergeo"
        },
        {
         "geo": "geo",
         "hovertemplate": "<b>%{hovertext}</b><br><br>Label=3<br>LATITUDE=%{lat}<br>LONGITUDE=%{lon}<extra></extra>",
         "hovertext": [
          "TUS Tucson International",
          "FLG Flagstaff Pulliam",
          "AZA Phoenix - Mesa Gateway",
          "YUM Yuma MCAS/Yuma International",
          "PHX Phoenix Sky Harbor International",
          "PRC Prescott Regional Ernest A Love Field",
          "IFP Laughlin/Bullhead International",
          "LAS Harry Reid International",
          "SGU St George Regional",
          "CDC Cedar City Regional"
         ],
         "lat": [
          32.11611,
          35.140278,
          33.307777,
          32.656666,
          33.434166,
          34.654724,
          35.154724,
          36.08,
          37.03639,
          37.700832
         ],
         "legendgroup": "3",
         "lon": [
          -110.94111,
          -111.66917,
          -111.655556,
          -114.60611,
          -112.011665,
          -112.41917,
          -114.55945,
          -115.15222,
          -113.51028,
          -113.09889
         ],
         "marker": {
          "color": "#636efa",
          "size": 15,
          "symbol": "square"
         },
         "mode": "markers",
         "name": "3",
         "showlegend": true,
         "type": "scattergeo"
        },
        {
         "geo": "geo",
         "hovertemplate": "<b>%{hovertext}</b><br><br>Label=8<br>LATITUDE=%{lat}<br>LONGITUDE=%{lon}<extra></extra>",
         "hovertext": [
          "OAK Metro Oakland International",
          "SMX Santa Maria Public/Capt. G. Allan Hancock Field",
          "SMF Sacramento International",
          "SCK Stockton Metro",
          "FAT Fresno Yosemite International",
          "SBA Santa Barbara Municipal",
          "SFO San Francisco International",
          "SBP San Luis County Regional",
          "SJC Norman Y. Mineta San Jose International",
          "MRY Monterey Regional",
          "BFL Meadows Field",
          "BIH Bishop Airport",
          "STS Charles M. Schulz - Sonoma County",
          "RNO Reno/Tahoe International"
         ],
         "lat": [
          37.72111,
          34.9,
          38.695557,
          37.894444,
          36.77667,
          34.42611,
          37.61889,
          35.23722,
          37.363056,
          36.586945,
          35.433887,
          37.373055,
          38.509724,
          39.49917
         ],
         "legendgroup": "8",
         "lon": [
          -122.22111,
          -120.45805,
          -121.590836,
          -121.23861,
          -119.71889,
          -119.84139,
          -122.37556,
          -120.6425,
          -121.92861,
          -121.843056,
          -119.05778,
          -118.36361,
          -122.812775,
          -119.76806
         ],
         "marker": {
          "color": "#636efa",
          "size": 15,
          "symbol": "x"
         },
         "mode": "markers",
         "name": "8",
         "showlegend": true,
         "type": "scattergeo"
        },
        {
         "geo": "geo",
         "hovertemplate": "<b>%{hovertext}</b><br><br>Label=30<br>LATITUDE=%{lat}<br>LONGITUDE=%{lon}<extra></extra>",
         "hovertext": [
          "BUR Bob Hope",
          "SAN San Diego International",
          "ONT Ontario International",
          "PSP Palm Springs International",
          "SNA John Wayne Airport-Orange County",
          "LGB Long Beach Airport",
          "LAX Los Angeles International"
         ],
         "lat": [
          34.200554,
          32.733612,
          34.05611,
          33.829723,
          33.675556,
          33.818054,
          33.9425
         ],
         "legendgroup": "30",
         "lon": [
          -118.35861,
          -117.18972,
          -117.60111,
          -116.50667,
          -117.86833,
          -118.15195,
          -118.40806
         ],
         "marker": {
          "color": "#636efa",
          "size": 15,
          "symbol": "cross"
         },
         "mode": "markers",
         "name": "30",
         "showlegend": true,
         "type": "scattergeo"
        },
        {
         "geo": "geo",
         "hovertemplate": "<b>%{hovertext}</b><br><br>Label=6<br>LATITUDE=%{lat}<br>LONGITUDE=%{lon}<extra></extra>",
         "hovertext": [
          "RDD Redding Municipal",
          "ACV California Redwood Coast Humboldt County",
          "RDM Roberts Field",
          "MFR Rogue Valley International - Medford",
          "PDX Portland International",
          "EUG Mahlon Sweet Field",
          "OTH Southwest Oregon Regional"
         ],
         "lat": [
          40.50889,
          40.97778,
          44.254166,
          42.375,
          45.58861,
          44.124443,
          43.416943
         ],
         "legendgroup": "6",
         "lon": [
          -122.293335,
          -124.10833,
          -121.15056,
          -122.87334,
          -122.59695,
          -123.211945,
          -124.24695
         ],
         "marker": {
          "color": "#636efa",
          "size": 15,
          "symbol": "circle"
         },
         "mode": "markers",
         "name": "6",
         "showlegend": true,
         "type": "scattergeo"
        },
        {
         "geo": "geo",
         "hovertemplate": "<b>%{hovertext}</b><br><br>Label=49<br>LATITUDE=%{lat}<br>LONGITUDE=%{lon}<extra></extra>",
         "hovertext": [
          "ASE Aspen Pitkin County Sardy Field",
          "GJT Grand Junction Regional",
          "GUC Gunnison-Crested Butte Regional",
          "HDN Yampa Valley",
          "EGE Eagle County Regional",
          "MTJ Montrose Regional",
          "CNY Canyonlands Regional"
         ],
         "lat": [
          39.221943,
          39.1225,
          38.534443,
          40.48111,
          39.642776,
          38.509724,
          38.7575
         ],
         "legendgroup": "49",
         "lon": [
          -106.86833,
          -108.526665,
          -106.93166,
          -107.21778,
          -106.91583,
          -107.894165,
          -109.753334
         ],
         "marker": {
          "color": "#636efa",
          "size": 15,
          "symbol": "diamond"
         },
         "mode": "markers",
         "name": "49",
         "showlegend": true,
         "type": "scattergeo"
        },
        {
         "geo": "geo",
         "hovertemplate": "<b>%{hovertext}</b><br><br>Label=36<br>LATITUDE=%{lat}<br>LONGITUDE=%{lon}<extra></extra>",
         "hovertext": [
          "COS City of Colorado Springs Municipal",
          "DEN Denver International",
          "PUB Pueblo Memorial",
          "BFF Western Neb. Regional/William B. Heilig Field",
          "CYS Cheyenne Regional/Jerry Olson Field",
          "LAR Laramie Regional"
         ],
         "lat": [
          38.805832,
          39.861668,
          38.29,
          41.87417,
          41.155556,
          41.311943
         ],
         "legendgroup": "36",
         "lon": [
          -104.700836,
          -104.67306,
          -104.498055,
          -103.59556,
          -104.810555,
          -105.675
         ],
         "marker": {
          "color": "#636efa",
          "size": 15,
          "symbol": "square"
         },
         "mode": "markers",
         "name": "36",
         "showlegend": true,
         "type": "scattergeo"
        },
        {
         "geo": "geo",
         "hovertemplate": "<b>%{hovertext}</b><br><br>Label=7<br>LATITUDE=%{lat}<br>LONGITUDE=%{lon}<extra></extra>",
         "hovertext": [
          "ALS San Luis Valley Regional/Bergman Field",
          "DRO Durango La Plata County",
          "SAF Santa Fe Municipal",
          "ROW Roswell Air Center",
          "ABQ Albuquerque International Sunport",
          "ELP El Paso International"
         ],
         "lat": [
          37.435,
          37.15167,
          35.61722,
          33.3,
          35.038887,
          31.807222
         ],
         "legendgroup": "7",
         "lon": [
          -105.867775,
          -107.75389,
          -106.08945,
          -104.52944,
          -106.60833,
          -106.37639
         ],
         "marker": {
          "color": "#636efa",
          "size": 15,
          "symbol": "x"
         },
         "mode": "markers",
         "name": "7",
         "showlegend": true,
         "type": "scattergeo"
        },
        {
         "geo": "geo",
         "hovertemplate": "<b>%{hovertext}</b><br><br>Label=12<br>LATITUDE=%{lat}<br>LONGITUDE=%{lon}<extra></extra>",
         "hovertext": [
          "BDL Bradley International",
          "ORH Worcester Regional",
          "BOS Logan International",
          "HYA Cape Cod Gateway",
          "ACK Nantucket Memorial",
          "MVY Martha's Vineyard Airport",
          "PWM Portland International Jetport",
          "PSM Portsmouth International at Pease",
          "MHT Manchester Boston Regional",
          "PBG Plattsburgh International",
          "ALB Albany International",
          "PVD Rhode Island Tf Green International",
          "BTV Burlington International"
         ],
         "lat": [
          41.939167,
          42.267223,
          42.363056,
          41.669445,
          41.253056,
          41.393333,
          43.645557,
          43.078056,
          42.932777,
          44.650833,
          42.74917,
          41.72222,
          44.471943
         ],
         "legendgroup": "12",
         "lon": [
          -72.68445,
          -71.87556,
          -71.006386,
          -70.28028,
          -70.06,
          -70.61389,
          -70.30861,
          -70.82333,
          -71.43584,
          -73.468056,
          -73.80194,
          -71.42778,
          -73.153336
         ],
         "marker": {
          "color": "#636efa",
          "size": 15,
          "symbol": "cross"
         },
         "mode": "markers",
         "name": "12",
         "showlegend": true,
         "type": "scattergeo"
        },
        {
         "geo": "geo",
         "hovertemplate": "<b>%{hovertext}</b><br><br>Label=17<br>LATITUDE=%{lat}<br>LONGITUDE=%{lon}<extra></extra>",
         "hovertext": [
          "ILG New Castle",
          "SBY Salisbury-Ocean City/Wicomico Regional",
          "ACY Atlantic City International",
          "EWR Newark Liberty International",
          "TTN Trenton Mercer",
          "HPN Westchester County",
          "LGA LaGuardia",
          "SWF New York Stewart International",
          "JFK John F. Kennedy International",
          "ISP Long Island MacArthur",
          "PHL Philadelphia International",
          "ABE Lehigh Valley International",
          "AVP Wilkes Barre Scranton International"
         ],
         "lat": [
          39.67861,
          38.34028,
          39.4575,
          40.6925,
          40.27667,
          41.066944,
          40.77722,
          41.504166,
          40.64,
          40.796112,
          39.871944,
          40.6525,
          41.338333
         ],
         "legendgroup": "17",
         "lon": [
          -75.60667,
          -75.509445,
          -74.577225,
          -74.16861,
          -74.81333,
          -73.7075,
          -73.8725,
          -74.10472,
          -73.77861,
          -73.100555,
          -75.240555,
          -75.44028,
          -75.723335
         ],
         "marker": {
          "color": "#636efa",
          "size": 15,
          "symbol": "circle"
         },
         "mode": "markers",
         "name": "17",
         "showlegend": true,
         "type": "scattergeo"
        },
        {
         "geo": "geo",
         "hovertemplate": "<b>%{hovertext}</b><br><br>Label=1<br>LATITUDE=%{lat}<br>LONGITUDE=%{lon}<extra></extra>",
         "hovertext": [
          "FLL Fort Lauderdale-Hollywood International",
          "MCO Orlando International",
          "RSW Southwest Florida International",
          "DAB Daytona Beach International",
          "EYW Key West International",
          "PIE St Pete Clearwater International",
          "SRQ Sarasota/Bradenton International",
          "PGD Punta Gorda Airport",
          "MIA Miami International",
          "JAX Jacksonville International",
          "GNV Gainesville Regional",
          "MLB Melbourne Orlando International",
          "TPA Tampa International",
          "PBI Palm Beach International",
          "SFB Orlando Sanford International",
          "BQK Brunswick Golden Isles"
         ],
         "lat": [
          26.071667,
          28.429445,
          26.536112,
          29.18,
          24.55611,
          27.908611,
          27.395555,
          26.918612,
          25.795279,
          30.494167,
          29.69,
          28.102777,
          27.975555,
          26.683056,
          28.777222,
          31.259167
         ],
         "legendgroup": "1",
         "lon": [
          -80.14972,
          -81.30889,
          -81.75528,
          -81.05805,
          -81.76,
          -82.686386,
          -82.55444,
          -81.99084,
          -80.29,
          -81.687775,
          -82.27167,
          -80.64528,
          -82.53333,
          -80.09556,
          -81.235,
          -81.46639
         ],
         "marker": {
          "color": "#636efa",
          "size": 15,
          "symbol": "diamond"
         },
         "mode": "markers",
         "name": "1",
         "showlegend": true,
         "type": "scattergeo"
        },
        {
         "geo": "geo",
         "hovertemplate": "<b>%{hovertext}</b><br><br>Label=22<br>LATITUDE=%{lat}<br>LONGITUDE=%{lon}<extra></extra>",
         "hovertext": [
          "SAV Savannah/Hilton Head International",
          "AGS Augusta Regional at Bush Field",
          "RDU Raleigh-Durham International",
          "USA Concord Padgett Regional",
          "CLT Charlotte Douglas International",
          "GSO Piedmont Triad International",
          "FAY Fayetteville Regional/Grannis Field",
          "CHS Charleston AFB/International",
          "CAE Columbia Metropolitan",
          "HHH Hilton Head Airport",
          "MYR Myrtle Beach International",
          "FLO Florence Regional"
         ],
         "lat": [
          32.1275,
          33.37,
          35.877777,
          35.38778,
          35.21361,
          36.101387,
          34.99111,
          32.898613,
          33.93889,
          32.224445,
          33.67972,
          34.185276
         ],
         "legendgroup": "22",
         "lon": [
          -81.202225,
          -81.96445,
          -78.7875,
          -80.70917,
          -80.949165,
          -79.94111,
          -78.88028,
          -80.04056,
          -81.119446,
          -80.6975,
          -78.92834,
          -79.72389
         ],
         "marker": {
          "color": "#636efa",
          "size": 15,
          "symbol": "square"
         },
         "mode": "markers",
         "name": "22",
         "showlegend": true,
         "type": "scattergeo"
        },
        {
         "geo": "geo",
         "hovertemplate": "<b>%{hovertext}</b><br><br>Label=19<br>LATITUDE=%{lat}<br>LONGITUDE=%{lon}<extra></extra>",
         "hovertext": [
          "OGG Kahului Airport",
          "HNL Daniel K Inouye International",
          "ITO Hilo International",
          "LIH Lihue Airport",
          "KOA Ellison Onizuka Kona International at Keahole"
         ],
         "lat": [
          20.898611,
          21.317778,
          19.720278,
          21.97611,
          19.73889
         ],
         "legendgroup": "19",
         "lon": [
          -156.43056,
          -157.92027,
          -155.04834,
          -159.33888,
          -156.04556
         ],
         "marker": {
          "color": "#636efa",
          "size": 15,
          "symbol": "x"
         },
         "mode": "markers",
         "name": "19",
         "showlegend": true,
         "type": "scattergeo"
        },
        {
         "geo": "geo",
         "hovertemplate": "<b>%{hovertext}</b><br><br>Label=14<br>LATITUDE=%{lat}<br>LONGITUDE=%{lon}<extra></extra>",
         "hovertext": [
          "MCW Mason City Municipal",
          "FOD Fort Dodge Regional",
          "DBQ Dubuque Regional",
          "CID The Eastern Iowa",
          "ALO Waterloo Regional",
          "DSM Des Moines International",
          "MLI Quad Cities International",
          "MSP Minneapolis-St Paul International",
          "RST Rochester International",
          "LSE La Crosse Regional",
          "EAU Chippewa Valley Regional"
         ],
         "lat": [
          43.157776,
          42.55111,
          42.401943,
          41.884724,
          42.558334,
          41.53417,
          41.448334,
          44.881943,
          43.908333,
          43.879166,
          44.865833
         ],
         "legendgroup": "14",
         "lon": [
          -93.33111,
          -94.19195,
          -90.70944,
          -91.71083,
          -92.40111,
          -93.657776,
          -90.5075,
          -93.221664,
          -92.5,
          -91.25667,
          -91.48417
         ],
         "marker": {
          "color": "#636efa",
          "size": 15,
          "symbol": "cross"
         },
         "mode": "markers",
         "name": "14",
         "showlegend": true,
         "type": "scattergeo"
        },
        {
         "geo": "geo",
         "hovertemplate": "<b>%{hovertext}</b><br><br>Label=42<br>LATITUDE=%{lat}<br>LONGITUDE=%{lon}<extra></extra>",
         "hovertext": [
          "SUX Sioux Gateway Brig Gen Bud Day Field",
          "OMA Eppley Airfield",
          "LNK Lincoln Airport",
          "FSD Joe Foss Field"
         ],
         "lat": [
          42.40139,
          41.303055,
          40.850834,
          43.581944
         ],
         "legendgroup": "42",
         "lon": [
          -96.384445,
          -95.894165,
          -96.75916,
          -96.74194
         ],
         "marker": {
          "color": "#636efa",
          "size": 15,
          "symbol": "circle"
         },
         "mode": "markers",
         "name": "42",
         "showlegend": true,
         "type": "scattergeo"
        },
        {
         "geo": "geo",
         "hovertemplate": "<b>%{hovertext}</b><br><br>Label=13<br>LATITUDE=%{lat}<br>LONGITUDE=%{lon}<extra></extra>",
         "hovertext": [
          "IDA Idaho Falls Regional",
          "PIH Pocatello Regional",
          "OGD Ogden-Hinckley",
          "VEL Vernal Regional",
          "SLC Salt Lake City International",
          "PVU Provo Municipal",
          "RKS Southwest Wyoming Regional",
          "JAC Jackson Hole"
         ],
         "lat": [
          43.51361,
          42.90972,
          41.195,
          40.43611,
          40.788334,
          40.219166,
          41.594166,
          43.607224
         ],
         "legendgroup": "13",
         "lon": [
          -112.07083,
          -112.59583,
          -112.01222,
          -109.51139,
          -111.977776,
          -111.723335,
          -109.06528,
          -110.73778
         ],
         "marker": {
          "color": "#636efa",
          "size": 15,
          "symbol": "diamond"
         },
         "mode": "markers",
         "name": "13",
         "showlegend": true,
         "type": "scattergeo"
        },
        {
         "geo": "geo",
         "hovertemplate": "<b>%{hovertext}</b><br><br>Label=43<br>LATITUDE=%{lat}<br>LONGITUDE=%{lon}<extra></extra>",
         "hovertext": [
          "LWS Lewiston Nez Perce County",
          "GEG Spokane International",
          "PUW Pullman Moscow Regional",
          "PSC Tri Cities",
          "ALW Walla Walla Regional"
         ],
         "lat": [
          46.374443,
          47.619167,
          46.741665,
          46.26472,
          46.0925
         ],
         "legendgroup": "43",
         "lon": [
          -117.015274,
          -117.53528,
          -117.111664,
          -119.11889,
          -118.284164
         ],
         "marker": {
          "color": "#636efa",
          "size": 15,
          "symbol": "square"
         },
         "mode": "markers",
         "name": "43",
         "showlegend": true,
         "type": "scattergeo"
        },
        {
         "geo": "geo",
         "hovertemplate": "<b>%{hovertext}</b><br><br>Label=20<br>LATITUDE=%{lat}<br>LONGITUDE=%{lon}<extra></extra>",
         "hovertext": [
          "BOI Boise Air Terminal",
          "SUN Friedman Memorial",
          "TWF Joslin Field - Magic Valley Regional",
          "EKO Elko Regional"
         ],
         "lat": [
          43.564445,
          43.503887,
          42.481945,
          40.825
         ],
         "legendgroup": "20",
         "lon": [
          -116.22278,
          -114.295555,
          -114.48778,
          -115.79139
         ],
         "marker": {
          "color": "#636efa",
          "size": 15,
          "symbol": "x"
         },
         "mode": "markers",
         "name": "20",
         "showlegend": true,
         "type": "scattergeo"
        },
        {
         "geo": "geo",
         "hovertemplate": "<b>%{hovertext}</b><br><br>Label=25<br>LATITUDE=%{lat}<br>LONGITUDE=%{lon}<extra></extra>",
         "hovertext": [
          "BMI Central Il Regional Airport at Bloomington",
          "MDW Chicago Midway International",
          "ORD Chicago O'Hare International",
          "RFD Chicago/Rockford International",
          "SPI Abraham Lincoln Capital",
          "PIA General Downing - Peoria International",
          "CMI University of Illinois/Willard",
          "DEC Decatur Airport",
          "MSN Dane County Regional-Truax Field",
          "MKE General Mitchell International"
         ],
         "lat": [
          40.477222,
          41.78583,
          41.976944,
          42.19528,
          39.844166,
          40.664165,
          40.038612,
          39.834446,
          43.14,
          42.946945
         ],
         "legendgroup": "25",
         "lon": [
          -88.91583,
          -87.7525,
          -87.90806,
          -89.09722,
          -89.678055,
          -89.69334,
          -88.276665,
          -88.865555,
          -89.3375,
          -87.89694
         ],
         "marker": {
          "color": "#636efa",
          "size": 15,
          "symbol": "cross"
         },
         "mode": "markers",
         "name": "25",
         "showlegend": true,
         "type": "scattergeo"
        },
        {
         "geo": "geo",
         "hovertemplate": "<b>%{hovertext}</b><br><br>Label=38<br>LATITUDE=%{lat}<br>LONGITUDE=%{lon}<extra></extra>",
         "hovertext": [
          "BLV Scott AFB MidAmerica St Louis",
          "EVV Evansville Regional",
          "PAH Barkley Regional",
          "OWB Owensboro Daviess County Regional",
          "STL St Louis Lambert International",
          "CGI Cape Girardeau Regional",
          "BNA Nashville International"
         ],
         "lat": [
          38.545277,
          38.040833,
          37.060276,
          37.738888,
          38.74861,
          37.225277,
          36.124443
         ],
         "legendgroup": "38",
         "lon": [
          -89.83528,
          -87.52861,
          -88.773056,
          -87.16695,
          -90.37,
          -89.57083,
          -86.678055
         ],
         "marker": {
          "color": "#636efa",
          "size": 15,
          "symbol": "circle"
         },
         "mode": "markers",
         "name": "38",
         "showlegend": true,
         "type": "scattergeo"
        },
        {
         "geo": "geo",
         "hovertemplate": "<b>%{hovertext}</b><br><br>Label=0<br>LATITUDE=%{lat}<br>LONGITUDE=%{lon}<extra></extra>",
         "hovertext": [
          "IND Indianapolis International",
          "FWA Fort Wayne International",
          "SBN South Bend International",
          "MBS MBS International",
          "PLN Pellston Regional Airport of Emmet County",
          "APN Alpena County Regional",
          "FNT Bishop International",
          "TVC Cherry Capital",
          "DTW Detroit Metro Wayne County",
          "LAN Capital Region International",
          "GRR Gerald R. Ford International",
          "AZO Kalamazoo/Battle Creek International",
          "MKG Muskegon County",
          "CIU Chippewa County International",
          "TOL Eugene F Kranz Toledo Express"
         ],
         "lat": [
          39.717224,
          40.978333,
          41.708332,
          43.533054,
          45.570835,
          45.078056,
          42.965557,
          44.741665,
          42.2125,
          42.77861,
          42.880833,
          42.234444,
          43.167778,
          46.25083,
          41.586945
         ],
         "legendgroup": "0",
         "lon": [
          -86.29472,
          -85.195274,
          -86.31722,
          -84.07972,
          -84.79667,
          -83.56028,
          -83.74472,
          -85.58195,
          -83.35333,
          -84.58611,
          -85.52278,
          -85.55167,
          -86.23556,
          -84.4725,
          -83.80778
         ],
         "marker": {
          "color": "#636efa",
          "size": 15,
          "symbol": "diamond"
         },
         "mode": "markers",
         "name": "0",
         "showlegend": true,
         "type": "scattergeo"
        },
        {
         "geo": "geo",
         "hovertemplate": "<b>%{hovertext}</b><br><br>Label=11<br>LATITUDE=%{lat}<br>LONGITUDE=%{lon}<extra></extra>",
         "hovertext": [
          "DDC Dodge City Regional",
          "ICT Wichita Dwight D Eisenhower National",
          "LBL Liberal Mid-America Regional",
          "HYS Hays Regional",
          "SLN Salina Regional",
          "MHK Manhattan Regional",
          "GCK Garden City Regional",
          "EAR Kearney Regional",
          "GRI Central Nebraska Regional",
          "LBF North Platte Regional Airport Lee Bird Field"
         ],
         "lat": [
          37.763054,
          37.65,
          37.043888,
          38.842224,
          38.790554,
          39.14111,
          37.9275,
          40.726944,
          40.9675,
          41.12611
         ],
         "legendgroup": "11",
         "lon": [
          -99.96555,
          -97.43305,
          -100.96,
          -99.273056,
          -97.65222,
          -96.67194,
          -100.72444,
          -99.00667,
          -98.30972,
          -100.68361
         ],
         "marker": {
          "color": "#636efa",
          "size": 15,
          "symbol": "square"
         },
         "mode": "markers",
         "name": "11",
         "showlegend": true,
         "type": "scattergeo"
        },
        {
         "geo": "geo",
         "hovertemplate": "<b>%{hovertext}</b><br><br>Label=23<br>LATITUDE=%{lat}<br>LONGITUDE=%{lon}<extra></extra>",
         "hovertext": [
          "CVG Cincinnati/Northern Kentucky International",
          "LEX Blue Grass",
          "SDF Louisville Muhammad Ali International",
          "CMH John Glenn Columbus International",
          "LCK Rickenbacker International",
          "DAY James M Cox/Dayton International",
          "CRW West Virginia International Yeager",
          "HTS Tri-State/Milton J. Ferguson Field"
         ],
         "lat": [
          39.04889,
          38.036667,
          38.174168,
          39.996944,
          39.81389,
          39.90222,
          38.37611,
          38.36861
         ],
         "legendgroup": "23",
         "lon": [
          -84.66778,
          -84.60861,
          -85.73639,
          -82.89222,
          -82.92778,
          -84.219444,
          -81.59278,
          -82.56028
         ],
         "marker": {
          "color": "#636efa",
          "size": 15,
          "symbol": "x"
         },
         "mode": "markers",
         "name": "23",
         "showlegend": true,
         "type": "scattergeo"
        },
        {
         "geo": "geo",
         "hovertemplate": "<b>%{hovertext}</b><br><br>Label=5<br>LATITUDE=%{lat}<br>LONGITUDE=%{lon}<extra></extra>",
         "hovertext": [
          "HGR Hagerstown Regional-Richard A. Henson Field",
          "BWI Baltimore/Washington International Thurgood Marshall",
          "MDT Harrisburg International",
          "SCE University Park",
          "SHD Shenandoah Valley Regional",
          "ROA Roanoke Blacksburg Regional",
          "DCA Ronald Reagan Washington National",
          "CHO Charlottesville Albemarle",
          "IAD Washington Dulles International",
          "LYH Lynchburg Regional/Preston Glenn Field",
          "LWB Greenbrier Valley"
         ],
         "lat": [
          39.70861,
          39.175835,
          40.193054,
          40.85,
          38.26389,
          37.325554,
          38.851387,
          38.13972,
          38.9475,
          37.32528,
          37.858334
         ],
         "legendgroup": "5",
         "lon": [
          -77.72639,
          -76.66889,
          -76.7625,
          -77.8475,
          -78.896385,
          -79.975555,
          -77.03778,
          -78.452225,
          -77.46,
          -79.20111,
          -80.399445
         ],
         "marker": {
          "color": "#636efa",
          "size": 15,
          "symbol": "cross"
         },
         "mode": "markers",
         "name": "5",
         "showlegend": true,
         "type": "scattergeo"
        },
        {
         "geo": "geo",
         "hovertemplate": "<b>%{hovertext}</b><br><br>Label=47<br>LATITUDE=%{lat}<br>LONGITUDE=%{lon}<extra></extra>",
         "hovertext": [
          "PQI Presque Isle International",
          "BGR Bangor International"
         ],
         "lat": [
          46.68889,
          44.8075
         ],
         "legendgroup": "47",
         "lon": [
          -68.04472,
          -68.82806
         ],
         "marker": {
          "color": "#636efa",
          "size": 15,
          "symbol": "circle"
         },
         "mode": "markers",
         "name": "47",
         "showlegend": true,
         "type": "scattergeo"
        },
        {
         "geo": "geo",
         "hovertemplate": "<b>%{hovertext}</b><br><br>Label=29<br>LATITUDE=%{lat}<br>LONGITUDE=%{lon}<extra></extra>",
         "hovertext": [
          "MQT Sawyer International",
          "IMT Ford",
          "ESC Delta County",
          "CMX Houghton County Memorial",
          "CWA Central Wisconsin",
          "ATW Appleton International",
          "GRB Green Bay Austin Straubel International",
          "RHI Rhinelander/Oneida County"
         ],
         "lat": [
          46.349167,
          45.818333,
          45.72278,
          47.167778,
          44.7775,
          44.258057,
          44.484722,
          45.630833
         ],
         "legendgroup": "29",
         "lon": [
          -87.396385,
          -88.11444,
          -87.09361,
          -88.48639,
          -89.666664,
          -88.519165,
          -88.12972,
          -89.46667
         ],
         "marker": {
          "color": "#636efa",
          "size": 15,
          "symbol": "diamond"
         },
         "mode": "markers",
         "name": "29",
         "showlegend": true,
         "type": "scattergeo"
        },
        {
         "geo": "geo",
         "hovertemplate": "<b>%{hovertext}</b><br><br>Label=35<br>LATITUDE=%{lat}<br>LONGITUDE=%{lon}<extra></extra>",
         "hovertext": [
          "BJI Bemidji Regional",
          "INL Falls International Einarson Field",
          "BRD Brainerd Lakes Regional",
          "DLH Duluth International",
          "HIB Range Regional",
          "STC St. Cloud Regional"
         ],
         "lat": [
          47.510834,
          48.565556,
          46.404167,
          46.841946,
          47.386665,
          45.546112
         ],
         "legendgroup": "35",
         "lon": [
          -94.93472,
          -93.40222,
          -94.13361,
          -92.19334,
          -92.83889,
          -94.05945
         ],
         "marker": {
          "color": "#636efa",
          "size": 15,
          "symbol": "square"
         },
         "mode": "markers",
         "name": "35",
         "showlegend": true,
         "type": "scattergeo"
        },
        {
         "geo": "geo",
         "hovertemplate": "<b>%{hovertext}</b><br><br>Label=32<br>LATITUDE=%{lat}<br>LONGITUDE=%{lon}<extra></extra>",
         "hovertext": [
          "FCA Glacier Park International",
          "WYS Yellowstone",
          "BZN Bozeman Yellowstone International",
          "MSO Missoula Montana",
          "BTM Bert Mooney",
          "GTF Great Falls International",
          "HLN Helena Regional"
         ],
         "lat": [
          48.310555,
          44.68833,
          45.77722,
          46.91639,
          45.954723,
          47.482224,
          46.606667
         ],
         "legendgroup": "32",
         "lon": [
          -114.25611,
          -111.117775,
          -111.150276,
          -114.09055,
          -112.4975,
          -111.37028,
          -111.98333
         ],
         "marker": {
          "color": "#636efa",
          "size": 15,
          "symbol": "x"
         },
         "mode": "markers",
         "name": "32",
         "showlegend": true,
         "type": "scattergeo"
        },
        {
         "geo": "geo",
         "hovertemplate": "<b>%{hovertext}</b><br><br>Label=27<br>LATITUDE=%{lat}<br>LONGITUDE=%{lon}<extra></extra>",
         "hovertext": [
          "BIL Billings Logan International",
          "CPR Casper/Natrona County International",
          "COD Yellowstone Regional",
          "GCC Northeast Wyoming Regional",
          "RIW Central Wyoming Regional",
          "SHR Sheridan County"
         ],
         "lat": [
          45.807777,
          42.905834,
          44.52028,
          44.34889,
          43.064167,
          44.769165
         ],
         "legendgroup": "27",
         "lon": [
          -108.54361,
          -106.46361,
          -109.02389,
          -105.539444,
          -108.459724,
          -106.98028
         ],
         "marker": {
          "color": "#636efa",
          "size": 15,
          "symbol": "cross"
         },
         "mode": "markers",
         "name": "27",
         "showlegend": true,
         "type": "scattergeo"
        },
        {
         "geo": "geo",
         "hovertemplate": "<b>%{hovertext}</b><br><br>Label=37<br>LATITUDE=%{lat}<br>LONGITUDE=%{lon}<extra></extra>",
         "hovertext": [
          "OAJ Albert J Ellis",
          "EWN Coastal Carolina Regional",
          "PGV Pitt Greenville",
          "ILM Wilmington International",
          "RIC Richmond International",
          "ORF Norfolk International",
          "PHF Newport News/Williamsburg International"
         ],
         "lat": [
          34.829166,
          35.072777,
          35.635555,
          34.27111,
          37.50528,
          36.894722,
          37.131943
         ],
         "legendgroup": "37",
         "lon": [
          -77.61222,
          -77.04305,
          -77.38416,
          -77.90278,
          -77.319725,
          -76.20111,
          -76.49306
         ],
         "marker": {
          "color": "#636efa",
          "size": 15,
          "symbol": "circle"
         },
         "mode": "markers",
         "name": "37",
         "showlegend": true,
         "type": "scattergeo"
        },
        {
         "geo": "geo",
         "hovertemplate": "<b>%{hovertext}</b><br><br>Label=44<br>LATITUDE=%{lat}<br>LONGITUDE=%{lon}<extra></extra>",
         "hovertext": [
          "AVL Asheville Regional",
          "GSP Greenville-Spartanburg International",
          "TRI Tri Cities",
          "TYS McGhee Tyson",
          "CHA Lovell Field"
         ],
         "lat": [
          35.43611,
          34.895557,
          36.475277,
          35.81111,
          35.03528
         ],
         "legendgroup": "44",
         "lon": [
          -82.54195,
          -82.21889,
          -82.4075,
          -83.99416,
          -85.20361
         ],
         "marker": {
          "color": "#636efa",
          "size": 15,
          "symbol": "diamond"
         },
         "mode": "markers",
         "name": "44",
         "showlegend": true,
         "type": "scattergeo"
        },
        {
         "geo": "geo",
         "hovertemplate": "<b>%{hovertext}</b><br><br>Label=21<br>LATITUDE=%{lat}<br>LONGITUDE=%{lon}<extra></extra>",
         "hovertext": [
          "MOT Minot International",
          "XWA Williston Basin International",
          "DIK Dickinson - Theodore Roosevelt Regional",
          "BIS Bismarck Municipal",
          "RAP Rapid City Regional",
          "PIR Pierre Regional"
         ],
         "lat": [
          48.25778,
          48.259724,
          46.800835,
          46.772778,
          44.045277,
          44.38278
         ],
         "legendgroup": "21",
         "lon": [
          -101.27805,
          -103.75056,
          -102.80334,
          -100.745834,
          -103.05722,
          -100.285835
         ],
         "marker": {
          "color": "#636efa",
          "size": 15,
          "symbol": "square"
         },
         "mode": "markers",
         "name": "21",
         "showlegend": true,
         "type": "scattergeo"
        },
        {
         "geo": "geo",
         "hovertemplate": "<b>%{hovertext}</b><br><br>Label=40<br>LATITUDE=%{lat}<br>LONGITUDE=%{lon}<extra></extra>",
         "hovertext": [
          "DVL Devils Lake Regional",
          "JMS Jamestown Regional",
          "FAR Hector International",
          "GFK Grand Forks International",
          "ATY Watertown Regional",
          "ABR Aberdeen Regional"
         ],
         "lat": [
          48.116665,
          46.92972,
          46.920555,
          47.947224,
          44.913887,
          45.446667
         ],
         "legendgroup": "40",
         "lon": [
          -98.91,
          -98.678055,
          -96.815834,
          -97.17389,
          -97.154724,
          -98.4225
         ],
         "marker": {
          "color": "#636efa",
          "size": 15,
          "symbol": "x"
         },
         "mode": "markers",
         "name": "40",
         "showlegend": true,
         "type": "scattergeo"
        },
        {
         "geo": "geo",
         "hovertemplate": "<b>%{hovertext}</b><br><br>Label=28<br>LATITUDE=%{lat}<br>LONGITUDE=%{lon}<extra></extra>",
         "hovertext": [
          "HOB Lea County Regional",
          "SJT San Angelo Regional/Mathis Field",
          "ABI Abilene Regional",
          "LBB Lubbock Preston Smith International",
          "AMA Rick Husband Amarillo International",
          "MAF Midland International Air and Space Port"
         ],
         "lat": [
          32.6875,
          31.357779,
          32.41139,
          33.663612,
          35.219444,
          31.9425
         ],
         "legendgroup": "28",
         "lon": [
          -103.217224,
          -100.49639,
          -99.681946,
          -101.82056,
          -101.70583,
          -102.20194
         ],
         "marker": {
          "color": "#636efa",
          "size": 15,
          "symbol": "cross"
         },
         "mode": "markers",
         "name": "28",
         "showlegend": true,
         "type": "scattergeo"
        },
        {
         "geo": "geo",
         "hovertemplate": "<b>%{hovertext}</b><br><br>Label=24<br>LATITUDE=%{lat}<br>LONGITUDE=%{lon}<extra></extra>",
         "hovertext": [
          "BUF Buffalo Niagara International",
          "ROC Frederick Douglass Grtr Rochester International",
          "OGS Ogdensburg International",
          "BGM Greater Binghamton/Edwin A. Link Field",
          "ELM Elmira/Corning Regional",
          "ART Watertown International",
          "ITH Ithaca Tompkins International",
          "SYR Syracuse Hancock International",
          "IAG Niagara Falls International"
         ],
         "lat": [
          42.940556,
          43.119167,
          44.68222,
          42.208332,
          42.15972,
          43.991943,
          42.49139,
          43.11111,
          43.1075
         ],
         "legendgroup": "24",
         "lon": [
          -78.73055,
          -77.67194,
          -75.46333,
          -75.97972,
          -76.89167,
          -76.01945,
          -76.45861,
          -76.10639,
          -78.94583
         ],
         "marker": {
          "color": "#636efa",
          "size": 15,
          "symbol": "circle"
         },
         "mode": "markers",
         "name": "24",
         "showlegend": true,
         "type": "scattergeo"
        },
        {
         "geo": "geo",
         "hovertemplate": "<b>%{hovertext}</b><br><br>Label=48<br>LATITUDE=%{lat}<br>LONGITUDE=%{lon}<extra></extra>",
         "hovertext": [
          "CLE Cleveland-Hopkins International",
          "CAK Akron-Canton Regional",
          "ERI Erie International/Tom Ridge Field",
          "JST John Murtha Johnstown-Cambria County",
          "LBE Arnold Palmer Regional",
          "PIT Pittsburgh International",
          "CKB North Central West Virginia"
         ],
         "lat": [
          41.409443,
          40.915,
          42.083057,
          40.315556,
          40.273056,
          40.49139,
          39.29778
         ],
         "legendgroup": "48",
         "lon": [
          -81.85472,
          -81.44361,
          -80.17389,
          -78.834724,
          -79.41028,
          -80.23278,
          -80.2275
         ],
         "marker": {
          "color": "#636efa",
          "size": 15,
          "symbol": "diamond"
         },
         "mode": "markers",
         "name": "48",
         "showlegend": true,
         "type": "scattergeo"
        },
        {
         "geo": "geo",
         "hovertemplate": "<b>%{hovertext}</b><br><br>Label=39<br>LATITUDE=%{lat}<br>LONGITUDE=%{lon}<extra></extra>",
         "hovertext": [
          "SWO Stillwater Regional",
          "OKC Will Rogers World",
          "LAW Lawton-Fort Sill Regional",
          "SPS Sheppard AFB/Wichita Falls Municipal",
          "DAL Dallas Love Field",
          "DFW Dallas/Fort Worth International"
         ],
         "lat": [
          36.16139,
          35.393055,
          34.56778,
          33.988888,
          32.845833,
          32.89722
         ],
         "legendgroup": "39",
         "lon": [
          -97.08583,
          -97.60083,
          -98.416664,
          -98.49194,
          -96.85083,
          -97.03778
         ],
         "marker": {
          "color": "#636efa",
          "size": 15,
          "symbol": "square"
         },
         "mode": "markers",
         "name": "39",
         "showlegend": true,
         "type": "scattergeo"
        },
        {
         "geo": "geo",
         "hovertemplate": "<b>%{hovertext}</b><br><br>Label=18<br>LATITUDE=%{lat}<br>LONGITUDE=%{lon}<extra></extra>",
         "hovertext": [
          "CRP Corpus Christi International",
          "GRK Robert Gray AAF",
          "BRO Brownsville South Padre Island International",
          "LRD Laredo International",
          "HRL Valley International",
          "DRT Del Rio International",
          "SAT San Antonio International",
          "AUS Austin - Bergstrom International",
          "MFE McAllen Miller International",
          "ACT Waco Regional",
          "VCT Victoria Regional"
         ],
         "lat": [
          27.772223,
          31.067223,
          25.90611,
          27.544167,
          26.227222,
          29.374166,
          29.53389,
          30.194445,
          26.175833,
          31.612223,
          28.854166
         ],
         "legendgroup": "18",
         "lon": [
          -97.5025,
          -97.82889,
          -97.42611,
          -99.46167,
          -97.65528,
          -100.92722,
          -98.46917,
          -97.67,
          -98.23861,
          -97.23028,
          -96.91861
         ],
         "marker": {
          "color": "#636efa",
          "size": 15,
          "symbol": "x"
         },
         "mode": "markers",
         "name": "18",
         "showlegend": true,
         "type": "scattergeo"
        },
        {
         "geo": "geo",
         "hovertemplate": "<b>%{hovertext}</b><br><br>Label=33<br>LATITUDE=%{lat}<br>LONGITUDE=%{lon}<extra></extra>",
         "hovertext": [
          "BLI Bellingham International",
          "PAE Snohomish County",
          "EAT Pangborn Memorial",
          "SEA Seattle/Tacoma International",
          "YKM Yakima Air Terminal/McAllister Field"
         ],
         "lat": [
          48.792778,
          47.907223,
          47.398888,
          47.45,
          46.568054
         ],
         "legendgroup": "33",
         "lon": [
          -122.5375,
          -122.28222,
          -120.20695,
          -122.31167,
          -120.54417
         ],
         "marker": {
          "color": "#636efa",
          "size": 15,
          "symbol": "cross"
         },
         "mode": "markers",
         "name": "33",
         "showlegend": true,
         "type": "scattergeo"
        }
       ],
       "layout": {
        "geo": {
         "center": {},
         "domain": {
          "x": [
           0,
           1
          ],
          "y": [
           0,
           1
          ]
         },
         "scope": "usa"
        },
        "height": 700,
        "legend": {
         "title": {
          "text": "Label"
         },
         "tracegroupgap": 0
        },
        "margin": {
         "t": 60
        },
        "template": {
         "data": {
          "bar": [
           {
            "error_x": {
             "color": "#2a3f5f"
            },
            "error_y": {
             "color": "#2a3f5f"
            },
            "marker": {
             "line": {
              "color": "#E5ECF6",
              "width": 0.5
             },
             "pattern": {
              "fillmode": "overlay",
              "size": 10,
              "solidity": 0.2
             }
            },
            "type": "bar"
           }
          ],
          "barpolar": [
           {
            "marker": {
             "line": {
              "color": "#E5ECF6",
              "width": 0.5
             },
             "pattern": {
              "fillmode": "overlay",
              "size": 10,
              "solidity": 0.2
             }
            },
            "type": "barpolar"
           }
          ],
          "carpet": [
           {
            "aaxis": {
             "endlinecolor": "#2a3f5f",
             "gridcolor": "white",
             "linecolor": "white",
             "minorgridcolor": "white",
             "startlinecolor": "#2a3f5f"
            },
            "baxis": {
             "endlinecolor": "#2a3f5f",
             "gridcolor": "white",
             "linecolor": "white",
             "minorgridcolor": "white",
             "startlinecolor": "#2a3f5f"
            },
            "type": "carpet"
           }
          ],
          "choropleth": [
           {
            "colorbar": {
             "outlinewidth": 0,
             "ticks": ""
            },
            "type": "choropleth"
           }
          ],
          "contour": [
           {
            "colorbar": {
             "outlinewidth": 0,
             "ticks": ""
            },
            "colorscale": [
             [
              0,
              "#0d0887"
             ],
             [
              0.1111111111111111,
              "#46039f"
             ],
             [
              0.2222222222222222,
              "#7201a8"
             ],
             [
              0.3333333333333333,
              "#9c179e"
             ],
             [
              0.4444444444444444,
              "#bd3786"
             ],
             [
              0.5555555555555556,
              "#d8576b"
             ],
             [
              0.6666666666666666,
              "#ed7953"
             ],
             [
              0.7777777777777778,
              "#fb9f3a"
             ],
             [
              0.8888888888888888,
              "#fdca26"
             ],
             [
              1,
              "#f0f921"
             ]
            ],
            "type": "contour"
           }
          ],
          "contourcarpet": [
           {
            "colorbar": {
             "outlinewidth": 0,
             "ticks": ""
            },
            "type": "contourcarpet"
           }
          ],
          "heatmap": [
           {
            "colorbar": {
             "outlinewidth": 0,
             "ticks": ""
            },
            "colorscale": [
             [
              0,
              "#0d0887"
             ],
             [
              0.1111111111111111,
              "#46039f"
             ],
             [
              0.2222222222222222,
              "#7201a8"
             ],
             [
              0.3333333333333333,
              "#9c179e"
             ],
             [
              0.4444444444444444,
              "#bd3786"
             ],
             [
              0.5555555555555556,
              "#d8576b"
             ],
             [
              0.6666666666666666,
              "#ed7953"
             ],
             [
              0.7777777777777778,
              "#fb9f3a"
             ],
             [
              0.8888888888888888,
              "#fdca26"
             ],
             [
              1,
              "#f0f921"
             ]
            ],
            "type": "heatmap"
           }
          ],
          "heatmapgl": [
           {
            "colorbar": {
             "outlinewidth": 0,
             "ticks": ""
            },
            "colorscale": [
             [
              0,
              "#0d0887"
             ],
             [
              0.1111111111111111,
              "#46039f"
             ],
             [
              0.2222222222222222,
              "#7201a8"
             ],
             [
              0.3333333333333333,
              "#9c179e"
             ],
             [
              0.4444444444444444,
              "#bd3786"
             ],
             [
              0.5555555555555556,
              "#d8576b"
             ],
             [
              0.6666666666666666,
              "#ed7953"
             ],
             [
              0.7777777777777778,
              "#fb9f3a"
             ],
             [
              0.8888888888888888,
              "#fdca26"
             ],
             [
              1,
              "#f0f921"
             ]
            ],
            "type": "heatmapgl"
           }
          ],
          "histogram": [
           {
            "marker": {
             "pattern": {
              "fillmode": "overlay",
              "size": 10,
              "solidity": 0.2
             }
            },
            "type": "histogram"
           }
          ],
          "histogram2d": [
           {
            "colorbar": {
             "outlinewidth": 0,
             "ticks": ""
            },
            "colorscale": [
             [
              0,
              "#0d0887"
             ],
             [
              0.1111111111111111,
              "#46039f"
             ],
             [
              0.2222222222222222,
              "#7201a8"
             ],
             [
              0.3333333333333333,
              "#9c179e"
             ],
             [
              0.4444444444444444,
              "#bd3786"
             ],
             [
              0.5555555555555556,
              "#d8576b"
             ],
             [
              0.6666666666666666,
              "#ed7953"
             ],
             [
              0.7777777777777778,
              "#fb9f3a"
             ],
             [
              0.8888888888888888,
              "#fdca26"
             ],
             [
              1,
              "#f0f921"
             ]
            ],
            "type": "histogram2d"
           }
          ],
          "histogram2dcontour": [
           {
            "colorbar": {
             "outlinewidth": 0,
             "ticks": ""
            },
            "colorscale": [
             [
              0,
              "#0d0887"
             ],
             [
              0.1111111111111111,
              "#46039f"
             ],
             [
              0.2222222222222222,
              "#7201a8"
             ],
             [
              0.3333333333333333,
              "#9c179e"
             ],
             [
              0.4444444444444444,
              "#bd3786"
             ],
             [
              0.5555555555555556,
              "#d8576b"
             ],
             [
              0.6666666666666666,
              "#ed7953"
             ],
             [
              0.7777777777777778,
              "#fb9f3a"
             ],
             [
              0.8888888888888888,
              "#fdca26"
             ],
             [
              1,
              "#f0f921"
             ]
            ],
            "type": "histogram2dcontour"
           }
          ],
          "mesh3d": [
           {
            "colorbar": {
             "outlinewidth": 0,
             "ticks": ""
            },
            "type": "mesh3d"
           }
          ],
          "parcoords": [
           {
            "line": {
             "colorbar": {
              "outlinewidth": 0,
              "ticks": ""
             }
            },
            "type": "parcoords"
           }
          ],
          "pie": [
           {
            "automargin": true,
            "type": "pie"
           }
          ],
          "scatter": [
           {
            "fillpattern": {
             "fillmode": "overlay",
             "size": 10,
             "solidity": 0.2
            },
            "type": "scatter"
           }
          ],
          "scatter3d": [
           {
            "line": {
             "colorbar": {
              "outlinewidth": 0,
              "ticks": ""
             }
            },
            "marker": {
             "colorbar": {
              "outlinewidth": 0,
              "ticks": ""
             }
            },
            "type": "scatter3d"
           }
          ],
          "scattercarpet": [
           {
            "marker": {
             "colorbar": {
              "outlinewidth": 0,
              "ticks": ""
             }
            },
            "type": "scattercarpet"
           }
          ],
          "scattergeo": [
           {
            "marker": {
             "colorbar": {
              "outlinewidth": 0,
              "ticks": ""
             }
            },
            "type": "scattergeo"
           }
          ],
          "scattergl": [
           {
            "marker": {
             "colorbar": {
              "outlinewidth": 0,
              "ticks": ""
             }
            },
            "type": "scattergl"
           }
          ],
          "scattermapbox": [
           {
            "marker": {
             "colorbar": {
              "outlinewidth": 0,
              "ticks": ""
             }
            },
            "type": "scattermapbox"
           }
          ],
          "scatterpolar": [
           {
            "marker": {
             "colorbar": {
              "outlinewidth": 0,
              "ticks": ""
             }
            },
            "type": "scatterpolar"
           }
          ],
          "scatterpolargl": [
           {
            "marker": {
             "colorbar": {
              "outlinewidth": 0,
              "ticks": ""
             }
            },
            "type": "scatterpolargl"
           }
          ],
          "scatterternary": [
           {
            "marker": {
             "colorbar": {
              "outlinewidth": 0,
              "ticks": ""
             }
            },
            "type": "scatterternary"
           }
          ],
          "surface": [
           {
            "colorbar": {
             "outlinewidth": 0,
             "ticks": ""
            },
            "colorscale": [
             [
              0,
              "#0d0887"
             ],
             [
              0.1111111111111111,
              "#46039f"
             ],
             [
              0.2222222222222222,
              "#7201a8"
             ],
             [
              0.3333333333333333,
              "#9c179e"
             ],
             [
              0.4444444444444444,
              "#bd3786"
             ],
             [
              0.5555555555555556,
              "#d8576b"
             ],
             [
              0.6666666666666666,
              "#ed7953"
             ],
             [
              0.7777777777777778,
              "#fb9f3a"
             ],
             [
              0.8888888888888888,
              "#fdca26"
             ],
             [
              1,
              "#f0f921"
             ]
            ],
            "type": "surface"
           }
          ],
          "table": [
           {
            "cells": {
             "fill": {
              "color": "#EBF0F8"
             },
             "line": {
              "color": "white"
             }
            },
            "header": {
             "fill": {
              "color": "#C8D4E3"
             },
             "line": {
              "color": "white"
             }
            },
            "type": "table"
           }
          ]
         },
         "layout": {
          "annotationdefaults": {
           "arrowcolor": "#2a3f5f",
           "arrowhead": 0,
           "arrowwidth": 1
          },
          "autotypenumbers": "strict",
          "coloraxis": {
           "colorbar": {
            "outlinewidth": 0,
            "ticks": ""
           }
          },
          "colorscale": {
           "diverging": [
            [
             0,
             "#8e0152"
            ],
            [
             0.1,
             "#c51b7d"
            ],
            [
             0.2,
             "#de77ae"
            ],
            [
             0.3,
             "#f1b6da"
            ],
            [
             0.4,
             "#fde0ef"
            ],
            [
             0.5,
             "#f7f7f7"
            ],
            [
             0.6,
             "#e6f5d0"
            ],
            [
             0.7,
             "#b8e186"
            ],
            [
             0.8,
             "#7fbc41"
            ],
            [
             0.9,
             "#4d9221"
            ],
            [
             1,
             "#276419"
            ]
           ],
           "sequential": [
            [
             0,
             "#0d0887"
            ],
            [
             0.1111111111111111,
             "#46039f"
            ],
            [
             0.2222222222222222,
             "#7201a8"
            ],
            [
             0.3333333333333333,
             "#9c179e"
            ],
            [
             0.4444444444444444,
             "#bd3786"
            ],
            [
             0.5555555555555556,
             "#d8576b"
            ],
            [
             0.6666666666666666,
             "#ed7953"
            ],
            [
             0.7777777777777778,
             "#fb9f3a"
            ],
            [
             0.8888888888888888,
             "#fdca26"
            ],
            [
             1,
             "#f0f921"
            ]
           ],
           "sequentialminus": [
            [
             0,
             "#0d0887"
            ],
            [
             0.1111111111111111,
             "#46039f"
            ],
            [
             0.2222222222222222,
             "#7201a8"
            ],
            [
             0.3333333333333333,
             "#9c179e"
            ],
            [
             0.4444444444444444,
             "#bd3786"
            ],
            [
             0.5555555555555556,
             "#d8576b"
            ],
            [
             0.6666666666666666,
             "#ed7953"
            ],
            [
             0.7777777777777778,
             "#fb9f3a"
            ],
            [
             0.8888888888888888,
             "#fdca26"
            ],
            [
             1,
             "#f0f921"
            ]
           ]
          },
          "colorway": [
           "#636efa",
           "#EF553B",
           "#00cc96",
           "#ab63fa",
           "#FFA15A",
           "#19d3f3",
           "#FF6692",
           "#B6E880",
           "#FF97FF",
           "#FECB52"
          ],
          "font": {
           "color": "#2a3f5f"
          },
          "geo": {
           "bgcolor": "white",
           "lakecolor": "white",
           "landcolor": "#E5ECF6",
           "showlakes": true,
           "showland": true,
           "subunitcolor": "white"
          },
          "hoverlabel": {
           "align": "left"
          },
          "hovermode": "closest",
          "mapbox": {
           "style": "light"
          },
          "paper_bgcolor": "white",
          "plot_bgcolor": "#E5ECF6",
          "polar": {
           "angularaxis": {
            "gridcolor": "white",
            "linecolor": "white",
            "ticks": ""
           },
           "bgcolor": "#E5ECF6",
           "radialaxis": {
            "gridcolor": "white",
            "linecolor": "white",
            "ticks": ""
           }
          },
          "scene": {
           "xaxis": {
            "backgroundcolor": "#E5ECF6",
            "gridcolor": "white",
            "gridwidth": 2,
            "linecolor": "white",
            "showbackground": true,
            "ticks": "",
            "zerolinecolor": "white"
           },
           "yaxis": {
            "backgroundcolor": "#E5ECF6",
            "gridcolor": "white",
            "gridwidth": 2,
            "linecolor": "white",
            "showbackground": true,
            "ticks": "",
            "zerolinecolor": "white"
           },
           "zaxis": {
            "backgroundcolor": "#E5ECF6",
            "gridcolor": "white",
            "gridwidth": 2,
            "linecolor": "white",
            "showbackground": true,
            "ticks": "",
            "zerolinecolor": "white"
           }
          },
          "shapedefaults": {
           "line": {
            "color": "#2a3f5f"
           }
          },
          "ternary": {
           "aaxis": {
            "gridcolor": "white",
            "linecolor": "white",
            "ticks": ""
           },
           "baxis": {
            "gridcolor": "white",
            "linecolor": "white",
            "ticks": ""
           },
           "bgcolor": "#E5ECF6",
           "caxis": {
            "gridcolor": "white",
            "linecolor": "white",
            "ticks": ""
           }
          },
          "title": {
           "x": 0.05
          },
          "xaxis": {
           "automargin": true,
           "gridcolor": "white",
           "linecolor": "white",
           "ticks": "",
           "title": {
            "standoff": 15
           },
           "zerolinecolor": "white",
           "zerolinewidth": 2
          },
          "yaxis": {
           "automargin": true,
           "gridcolor": "white",
           "linecolor": "white",
           "ticks": "",
           "title": {
            "standoff": 15
           },
           "zerolinecolor": "white",
           "zerolinewidth": 2
          }
         }
        }
       }
      }
     },
     "metadata": {},
     "output_type": "display_data"
    }
   ],
   "source": [
    "plot_clusters(metrics_df.model[0]).show()"
   ]
  },
  {
   "cell_type": "markdown",
   "metadata": {},
   "source": [
    "## HDBSCAN"
   ]
  },
  {
   "cell_type": "markdown",
   "metadata": {},
   "source": [
    "Try using sklearn HDBSCAN. Using min_cluster_size=2 gives 100+ clusters, using min_cluster_size=3 reduces this to 3 clusters."
   ]
  },
  {
   "cell_type": "code",
   "execution_count": 16,
   "metadata": {},
   "outputs": [
    {
     "data": {
      "text/plain": [
       "array([  1,   8,   1,   3,   9,  -1,   9,   2,   8,   3,   8,   2,   1,\n",
       "         9,   2,  -1,  -1,  -1,  -1,  68,  93,  68,  68,  94,  50,  -1,\n",
       "        56,  50,  -1,   6,   7,  -1,   7,   6,   4,  20,  26,  20,  27,\n",
       "        20,  27,  22,  26,  27,  20,  26,  27,  19,  20,  27,  20,  27,\n",
       "        26,  27,  22,  20,  19,  37,  31,  -1,  36,  37,  31,  37,  37,\n",
       "        36,  -1,  31, 100, 107,  94,  94,  58,  78,  84,  78,  -1,  83,\n",
       "        94,  83,  84,  58,  86,  -1,  82,  78,  83,  58,  78,  87,  82,\n",
       "        82,  82,  88,  82,  86,   0,   0,   0,   0,   0,  70,  47,  70,\n",
       "        64,  69,  69,  -1,  28,  28,  13,  -1,  23,  23,  63,  57,  71,\n",
       "        71,  72,  63,  63,  63,  64,  63,  62,  -1,  67,  67,  42,  45,\n",
       "        42,  42,  45,  45,  42,  53,  66,  62,  66,  66,  -1,  56,  91,\n",
       "        91,  90,  91,  -1, 100, 100, 101, 101, 101,  -1, 104, 104,  -1,\n",
       "        -1, 100,  77,  67,  77,  40,  77,  40,  67,  40,  67,  67,  67,\n",
       "        67,  67,  -1,  40,  -1,  41,  61,  41,  61,  -1,  41,  61,  50,\n",
       "        -1,  57,  46,  51,  51,  46,  53,  92,  92,  93,  -1,  -1,  14,\n",
       "        29,  24,  29,  14,  30,  30,  30,  96,  96, 103,  99,  96,  99,\n",
       "        76,  99, 103,  96,  16,  17,  17,  44,  44,  39,  16,  39,  43,\n",
       "        47,  43,  -1,  -1,  47, 100, 100,  -1, 108, 107,  34,  11,  34,\n",
       "        11,  -1,  -1,   4, 108,  95,  38,  95, 106, 106, 106, 108,  -1,\n",
       "       108, 108, 106, 106, 106, 108,  95,  65,  89,  65,  89,  67,  66,\n",
       "        54,  54,  55,  -1,  -1,  19,  19,  19,  19,  -1, 107, 107, 107,\n",
       "       105, 105, 104, 105, 105, 100,  -1,  88,  76,  87, 102, 102,  48,\n",
       "        48,  -1,  47,  -1,  76,  -1,  -1,  60,  60,  52,  33,  74,  49,\n",
       "        55,  90,  75,  33,  -1,  75,  49,  35,  -1,  74,  74,  56,  49,\n",
       "        73,  -1,  74,  73,  35,  56,  34,  52,  75,  21,  25,  21,   5,\n",
       "         5,  21,  -1,  85,  98,  97, 104,  85,  85,  98, 104,  97,  38,\n",
       "        13,  13,  18,  18,  10,  18,  12,  12,  10,  72,  59,  81,  71,\n",
       "        59,  80,  80,  81,  79,  97,  79,  -1,  25,  32,  32,  29,  15,\n",
       "        24,  15,  24,  15], dtype=int64)"
      ]
     },
     "execution_count": 16,
     "metadata": {},
     "output_type": "execute_result"
    }
   ],
   "source": [
    "model_hdb = HDBSCAN(min_cluster_size=2).fit(X)\n",
    "model_hdb.labels_"
   ]
  },
  {
   "cell_type": "markdown",
   "metadata": {},
   "source": [
    "Plot Map"
   ]
  },
  {
   "cell_type": "code",
   "execution_count": 17,
   "metadata": {},
   "outputs": [
    {
     "data": {
      "application/vnd.plotly.v1+json": {
       "config": {
        "plotlyServerURL": "https://plot.ly"
       },
       "data": [
        {
         "geo": "geo",
         "hovertemplate": "<b>%{hovertext}</b><br><br>Label=1<br>LATITUDE=%{lat}<br>LONGITUDE=%{lon}<extra></extra>",
         "hovertext": [
          "PSG Petersburg James A Johnson",
          "KTN Ketchikan International",
          "WRG Wrangell Airport"
         ],
         "lat": [
          56.801388,
          55.354168,
          56.484444
         ],
         "legendgroup": "1",
         "lon": [
          -132.9461,
          -131.7111,
          -132.36972
         ],
         "marker": {
          "color": "#636efa",
          "size": 15,
          "symbol": "circle"
         },
         "mode": "markers",
         "name": "1",
         "showlegend": true,
         "type": "scattergeo"
        },
        {
         "geo": "geo",
         "hovertemplate": "<b>%{hovertext}</b><br><br>Label=8<br>LATITUDE=%{lat}<br>LONGITUDE=%{lon}<extra></extra>",
         "hovertext": [
          "ANC Ted Stevens Anchorage International",
          "FAI Fairbanks International",
          "ADQ Kodiak Airport"
         ],
         "lat": [
          61.174168,
          64.81528,
          57.74972
         ],
         "legendgroup": "8",
         "lon": [
          -149.99806,
          -147.85667,
          -152.4939
         ],
         "marker": {
          "color": "#636efa",
          "size": 15,
          "symbol": "diamond"
         },
         "mode": "markers",
         "name": "8",
         "showlegend": true,
         "type": "scattergeo"
        },
        {
         "geo": "geo",
         "hovertemplate": "<b>%{hovertext}</b><br><br>Label=3<br>LATITUDE=%{lat}<br>LONGITUDE=%{lon}<extra></extra>",
         "hovertext": [
          "OME Nome Airport",
          "OTZ Ralph Wien Memorial"
         ],
         "lat": [
          64.51056,
          66.88472
         ],
         "legendgroup": "3",
         "lon": [
          -165.44472,
          -162.59805
         ],
         "marker": {
          "color": "#636efa",
          "size": 15,
          "symbol": "square"
         },
         "mode": "markers",
         "name": "3",
         "showlegend": true,
         "type": "scattergeo"
        },
        {
         "geo": "geo",
         "hovertemplate": "<b>%{hovertext}</b><br><br>Label=9<br>LATITUDE=%{lat}<br>LONGITUDE=%{lon}<extra></extra>",
         "hovertext": [
          "BET Bethel Airport",
          "AKN King Salmon Airport",
          "DLG Dillingham Airport"
         ],
         "lat": [
          60.77861,
          58.676388,
          59.044724
         ],
         "legendgroup": "9",
         "lon": [
          -161.83722,
          -156.6486,
          -158.50555
         ],
         "marker": {
          "color": "#636efa",
          "size": 15,
          "symbol": "x"
         },
         "mode": "markers",
         "name": "9",
         "showlegend": true,
         "type": "scattergeo"
        },
        {
         "geo": "geo",
         "hovertemplate": "<b>%{hovertext}</b><br><br>Label=-1<br>LATITUDE=%{lat}<br>LONGITUDE=%{lon}<extra></extra>",
         "hovertext": [
          "CDV Merle K Mudhole Smith",
          "BRW Wiley Post/Will Rogers Memorial",
          "YAK Yakutat Airport",
          "ADK Adak",
          "SCC Deadhorse Airport",
          "LIT Bill and Hillary Clinton Nat Adams Field",
          "TUS Tucson International",
          "YUM Yuma MCAS/Yuma International",
          "ALS San Luis Valley Regional/Bergman Field",
          "DRO Durango La Plata County",
          "EYW Key West International",
          "GNV Gainesville Regional",
          "DSM Des Moines International",
          "BOI Boise Air Terminal",
          "IND Indianapolis International",
          "MLU Monroe Regional",
          "AEX Alexandria International",
          "SBY Salisbury-Ocean City/Wicomico Regional",
          "PQI Presque Isle International",
          "BGR Bangor International",
          "CMX Houghton County Memorial",
          "BJI Bemidji Regional",
          "RST Rochester International",
          "MCI Kansas City International",
          "GTR Golden Triangle Regional",
          "JAN Jackson Medgar Wiley Evers International",
          "BFF Western Neb. Regional/William B. Heilig Field",
          "LBF North Platte Regional Airport Lee Bird Field",
          "ACY Atlantic City International",
          "RNO Reno/Tahoe International",
          "EKO Elko Regional",
          "ALB Albany International",
          "TUL Tulsa International",
          "RDM Roberts Field",
          "ERI Erie International/Tom Ridge Field",
          "CHS Charleston AFB/International",
          "RAP Rapid City Regional",
          "PIR Pierre Regional",
          "BNA Nashville International",
          "MEM Memphis International",
          "LRD Laredo International",
          "DRT Del Rio International",
          "ELP El Paso International",
          "CNY Canyonlands Regional",
          "CKB North Central West Virginia"
         ],
         "lat": [
          60.491665,
          71.28472,
          59.503334,
          51.88361,
          70.194725,
          34.729443,
          32.11611,
          32.656666,
          37.435,
          37.15167,
          24.55611,
          29.69,
          41.53417,
          43.564445,
          39.717224,
          32.510555,
          31.3275,
          38.34028,
          46.68889,
          44.8075,
          47.167778,
          47.510834,
          43.908333,
          39.2975,
          33.448334,
          32.31111,
          41.87417,
          41.12611,
          39.4575,
          39.49917,
          40.825,
          42.74917,
          36.198334,
          44.254166,
          42.083057,
          32.898613,
          44.045277,
          44.38278,
          36.124443,
          35.0425,
          27.544167,
          29.374166,
          31.807222,
          38.7575,
          39.29778
         ],
         "legendgroup": "-1",
         "lon": [
          -145.4775,
          -156.76862,
          -139.66028,
          -176.6425,
          -148.46527,
          -92.224724,
          -110.94111,
          -114.60611,
          -105.867775,
          -107.75389,
          -81.76,
          -82.27167,
          -93.657776,
          -116.22278,
          -86.29472,
          -92.03611,
          -92.548615,
          -75.509445,
          -68.04472,
          -68.82806,
          -88.48639,
          -94.93472,
          -92.5,
          -94.71389,
          -88.59139,
          -90.075836,
          -103.59556,
          -100.68361,
          -74.577225,
          -119.76806,
          -115.79139,
          -73.80194,
          -95.888054,
          -121.15056,
          -80.17389,
          -80.04056,
          -103.05722,
          -100.285835,
          -86.678055,
          -89.97667,
          -99.46167,
          -100.92722,
          -106.37639,
          -109.753334,
          -80.2275
         ],
         "marker": {
          "color": "#636efa",
          "size": 15,
          "symbol": "cross"
         },
         "mode": "markers",
         "name": "-1",
         "showlegend": true,
         "type": "scattergeo"
        },
        {
         "geo": "geo",
         "hovertemplate": "<b>%{hovertext}</b><br><br>Label=2<br>LATITUDE=%{lat}<br>LONGITUDE=%{lon}<extra></extra>",
         "hovertext": [
          "SIT Sitka Rocky Gutierrez",
          "JNU Juneau International",
          "GST Gustavus Airport"
         ],
         "lat": [
          57.046944,
          58.35472,
          58.425278
         ],
         "legendgroup": "2",
         "lon": [
          -135.36111,
          -134.57834,
          -135.7075
         ],
         "marker": {
          "color": "#636efa",
          "size": 15,
          "symbol": "circle"
         },
         "mode": "markers",
         "name": "2",
         "showlegend": true,
         "type": "scattergeo"
        },
        {
         "geo": "geo",
         "hovertemplate": "<b>%{hovertext}</b><br><br>Label=68<br>LATITUDE=%{lat}<br>LONGITUDE=%{lon}<extra></extra>",
         "hovertext": [
          "BHM Birmingham-Shuttlesworth International",
          "MGM Montgomery Regional",
          "HSV Huntsville International-Carl T Jones Field"
         ],
         "lat": [
          33.56389,
          32.300556,
          34.637222
         ],
         "legendgroup": "68",
         "lon": [
          -86.75222,
          -86.39389,
          -86.775
         ],
         "marker": {
          "color": "#636efa",
          "size": 15,
          "symbol": "diamond"
         },
         "mode": "markers",
         "name": "68",
         "showlegend": true,
         "type": "scattergeo"
        },
        {
         "geo": "geo",
         "hovertemplate": "<b>%{hovertext}</b><br><br>Label=93<br>LATITUDE=%{lat}<br>LONGITUDE=%{lon}<extra></extra>",
         "hovertext": [
          "MOB Mobile Regional",
          "GPT Gulfport-Biloxi International"
         ],
         "lat": [
          30.69139,
          30.407223
         ],
         "legendgroup": "93",
         "lon": [
          -88.242775,
          -89.07
         ],
         "marker": {
          "color": "#636efa",
          "size": 15,
          "symbol": "square"
         },
         "mode": "markers",
         "name": "93",
         "showlegend": true,
         "type": "scattergeo"
        },
        {
         "geo": "geo",
         "hovertemplate": "<b>%{hovertext}</b><br><br>Label=94<br>LATITUDE=%{lat}<br>LONGITUDE=%{lon}<extra></extra>",
         "hovertext": [
          "DHN Dothan Regional",
          "PNS Pensacola International",
          "ECP Northwest Florida Beaches International",
          "VPS Eglin AFB Destin Fort Walton Beach"
         ],
         "lat": [
          31.321112,
          30.473333,
          30.358334,
          30.483334
         ],
         "legendgroup": "94",
         "lon": [
          -85.44945,
          -87.18667,
          -85.795555,
          -86.525276
         ],
         "marker": {
          "color": "#636efa",
          "size": 15,
          "symbol": "x"
         },
         "mode": "markers",
         "name": "94",
         "showlegend": true,
         "type": "scattergeo"
        },
        {
         "geo": "geo",
         "hovertemplate": "<b>%{hovertext}</b><br><br>Label=50<br>LATITUDE=%{lat}<br>LONGITUDE=%{lon}<extra></extra>",
         "hovertext": [
          "XNA Northwest Arkansas National",
          "FSM Fort Smith Regional",
          "JLN Joplin Regional"
         ],
         "lat": [
          36.281666,
          35.335278,
          37.153057
         ],
         "legendgroup": "50",
         "lon": [
          -94.30778,
          -94.367775,
          -94.498886
         ],
         "marker": {
          "color": "#636efa",
          "size": 15,
          "symbol": "cross"
         },
         "mode": "markers",
         "name": "50",
         "showlegend": true,
         "type": "scattergeo"
        },
        {
         "geo": "geo",
         "hovertemplate": "<b>%{hovertext}</b><br><br>Label=56<br>LATITUDE=%{lat}<br>LONGITUDE=%{lon}<extra></extra>",
         "hovertext": [
          "TXK Texarkana Regional-Webb Field",
          "SHV Shreveport Regional",
          "GGG East Texas Regional",
          "TYR Tyler Pounds Regional"
         ],
         "lat": [
          33.45361,
          32.44639,
          32.38389,
          32.35361
         ],
         "legendgroup": "56",
         "lon": [
          -93.99111,
          -93.82611,
          -94.71139,
          -95.40305
         ],
         "marker": {
          "color": "#636efa",
          "size": 15,
          "symbol": "circle"
         },
         "mode": "markers",
         "name": "56",
         "showlegend": true,
         "type": "scattergeo"
        },
        {
         "geo": "geo",
         "hovertemplate": "<b>%{hovertext}</b><br><br>Label=6<br>LATITUDE=%{lat}<br>LONGITUDE=%{lon}<extra></extra>",
         "hovertext": [
          "FLG Flagstaff Pulliam",
          "PRC Prescott Regional Ernest A Love Field"
         ],
         "lat": [
          35.140278,
          34.654724
         ],
         "legendgroup": "6",
         "lon": [
          -111.66917,
          -112.41917
         ],
         "marker": {
          "color": "#636efa",
          "size": 15,
          "symbol": "diamond"
         },
         "mode": "markers",
         "name": "6",
         "showlegend": true,
         "type": "scattergeo"
        },
        {
         "geo": "geo",
         "hovertemplate": "<b>%{hovertext}</b><br><br>Label=7<br>LATITUDE=%{lat}<br>LONGITUDE=%{lon}<extra></extra>",
         "hovertext": [
          "AZA Phoenix - Mesa Gateway",
          "PHX Phoenix Sky Harbor International"
         ],
         "lat": [
          33.307777,
          33.434166
         ],
         "legendgroup": "7",
         "lon": [
          -111.655556,
          -112.011665
         ],
         "marker": {
          "color": "#636efa",
          "size": 15,
          "symbol": "square"
         },
         "mode": "markers",
         "name": "7",
         "showlegend": true,
         "type": "scattergeo"
        },
        {
         "geo": "geo",
         "hovertemplate": "<b>%{hovertext}</b><br><br>Label=4<br>LATITUDE=%{lat}<br>LONGITUDE=%{lon}<extra></extra>",
         "hovertext": [
          "IFP Laughlin/Bullhead International",
          "LAS Harry Reid International"
         ],
         "lat": [
          35.154724,
          36.08
         ],
         "legendgroup": "4",
         "lon": [
          -114.55945,
          -115.15222
         ],
         "marker": {
          "color": "#636efa",
          "size": 15,
          "symbol": "x"
         },
         "mode": "markers",
         "name": "4",
         "showlegend": true,
         "type": "scattergeo"
        },
        {
         "geo": "geo",
         "hovertemplate": "<b>%{hovertext}</b><br><br>Label=20<br>LATITUDE=%{lat}<br>LONGITUDE=%{lon}<extra></extra>",
         "hovertext": [
          "OAK Metro Oakland International",
          "SMF Sacramento International",
          "SCK Stockton Metro",
          "SFO San Francisco International",
          "SJC Norman Y. Mineta San Jose International",
          "MRY Monterey Regional",
          "STS Charles M. Schulz - Sonoma County"
         ],
         "lat": [
          37.72111,
          38.695557,
          37.894444,
          37.61889,
          37.363056,
          36.586945,
          38.509724
         ],
         "legendgroup": "20",
         "lon": [
          -122.22111,
          -121.590836,
          -121.23861,
          -122.37556,
          -121.92861,
          -121.843056,
          -122.812775
         ],
         "marker": {
          "color": "#636efa",
          "size": 15,
          "symbol": "cross"
         },
         "mode": "markers",
         "name": "20",
         "showlegend": true,
         "type": "scattergeo"
        },
        {
         "geo": "geo",
         "hovertemplate": "<b>%{hovertext}</b><br><br>Label=26<br>LATITUDE=%{lat}<br>LONGITUDE=%{lon}<extra></extra>",
         "hovertext": [
          "SMX Santa Maria Public/Capt. G. Allan Hancock Field",
          "SBA Santa Barbara Municipal",
          "SBP San Luis County Regional",
          "BFL Meadows Field"
         ],
         "lat": [
          34.9,
          34.42611,
          35.23722,
          35.433887
         ],
         "legendgroup": "26",
         "lon": [
          -120.45805,
          -119.84139,
          -120.6425,
          -119.05778
         ],
         "marker": {
          "color": "#636efa",
          "size": 15,
          "symbol": "circle"
         },
         "mode": "markers",
         "name": "26",
         "showlegend": true,
         "type": "scattergeo"
        },
        {
         "geo": "geo",
         "hovertemplate": "<b>%{hovertext}</b><br><br>Label=27<br>LATITUDE=%{lat}<br>LONGITUDE=%{lon}<extra></extra>",
         "hovertext": [
          "BUR Bob Hope",
          "SAN San Diego International",
          "ONT Ontario International",
          "PSP Palm Springs International",
          "SNA John Wayne Airport-Orange County",
          "LGB Long Beach Airport",
          "LAX Los Angeles International"
         ],
         "lat": [
          34.200554,
          32.733612,
          34.05611,
          33.829723,
          33.675556,
          33.818054,
          33.9425
         ],
         "legendgroup": "27",
         "lon": [
          -118.35861,
          -117.18972,
          -117.60111,
          -116.50667,
          -117.86833,
          -118.15195,
          -118.40806
         ],
         "marker": {
          "color": "#636efa",
          "size": 15,
          "symbol": "diamond"
         },
         "mode": "markers",
         "name": "27",
         "showlegend": true,
         "type": "scattergeo"
        },
        {
         "geo": "geo",
         "hovertemplate": "<b>%{hovertext}</b><br><br>Label=22<br>LATITUDE=%{lat}<br>LONGITUDE=%{lon}<extra></extra>",
         "hovertext": [
          "FAT Fresno Yosemite International",
          "BIH Bishop Airport"
         ],
         "lat": [
          36.77667,
          37.373055
         ],
         "legendgroup": "22",
         "lon": [
          -119.71889,
          -118.36361
         ],
         "marker": {
          "color": "#636efa",
          "size": 15,
          "symbol": "square"
         },
         "mode": "markers",
         "name": "22",
         "showlegend": true,
         "type": "scattergeo"
        },
        {
         "geo": "geo",
         "hovertemplate": "<b>%{hovertext}</b><br><br>Label=19<br>LATITUDE=%{lat}<br>LONGITUDE=%{lon}<extra></extra>",
         "hovertext": [
          "RDD Redding Municipal",
          "ACV California Redwood Coast Humboldt County",
          "MFR Rogue Valley International - Medford",
          "PDX Portland International",
          "EUG Mahlon Sweet Field",
          "OTH Southwest Oregon Regional"
         ],
         "lat": [
          40.50889,
          40.97778,
          42.375,
          45.58861,
          44.124443,
          43.416943
         ],
         "legendgroup": "19",
         "lon": [
          -122.293335,
          -124.10833,
          -122.87334,
          -122.59695,
          -123.211945,
          -124.24695
         ],
         "marker": {
          "color": "#636efa",
          "size": 15,
          "symbol": "x"
         },
         "mode": "markers",
         "name": "19",
         "showlegend": true,
         "type": "scattergeo"
        },
        {
         "geo": "geo",
         "hovertemplate": "<b>%{hovertext}</b><br><br>Label=37<br>LATITUDE=%{lat}<br>LONGITUDE=%{lon}<extra></extra>",
         "hovertext": [
          "ASE Aspen Pitkin County Sardy Field",
          "GUC Gunnison-Crested Butte Regional",
          "HDN Yampa Valley",
          "EGE Eagle County Regional"
         ],
         "lat": [
          39.221943,
          38.534443,
          40.48111,
          39.642776
         ],
         "legendgroup": "37",
         "lon": [
          -106.86833,
          -106.93166,
          -107.21778,
          -106.91583
         ],
         "marker": {
          "color": "#636efa",
          "size": 15,
          "symbol": "cross"
         },
         "mode": "markers",
         "name": "37",
         "showlegend": true,
         "type": "scattergeo"
        },
        {
         "geo": "geo",
         "hovertemplate": "<b>%{hovertext}</b><br><br>Label=31<br>LATITUDE=%{lat}<br>LONGITUDE=%{lon}<extra></extra>",
         "hovertext": [
          "COS City of Colorado Springs Municipal",
          "DEN Denver International",
          "PUB Pueblo Memorial"
         ],
         "lat": [
          38.805832,
          39.861668,
          38.29
         ],
         "legendgroup": "31",
         "lon": [
          -104.700836,
          -104.67306,
          -104.498055
         ],
         "marker": {
          "color": "#636efa",
          "size": 15,
          "symbol": "circle"
         },
         "mode": "markers",
         "name": "31",
         "showlegend": true,
         "type": "scattergeo"
        },
        {
         "geo": "geo",
         "hovertemplate": "<b>%{hovertext}</b><br><br>Label=36<br>LATITUDE=%{lat}<br>LONGITUDE=%{lon}<extra></extra>",
         "hovertext": [
          "GJT Grand Junction Regional",
          "MTJ Montrose Regional"
         ],
         "lat": [
          39.1225,
          38.509724
         ],
         "legendgroup": "36",
         "lon": [
          -108.526665,
          -107.894165
         ],
         "marker": {
          "color": "#636efa",
          "size": 15,
          "symbol": "diamond"
         },
         "mode": "markers",
         "name": "36",
         "showlegend": true,
         "type": "scattergeo"
        },
        {
         "geo": "geo",
         "hovertemplate": "<b>%{hovertext}</b><br><br>Label=100<br>LATITUDE=%{lat}<br>LONGITUDE=%{lon}<extra></extra>",
         "hovertext": [
          "BDL Bradley International",
          "ORH Worcester Regional",
          "BOS Logan International",
          "PWM Portland International Jetport",
          "PSM Portsmouth International at Pease",
          "MHT Manchester Boston Regional",
          "PVD Rhode Island Tf Green International"
         ],
         "lat": [
          41.939167,
          42.267223,
          42.363056,
          43.645557,
          43.078056,
          42.932777,
          41.72222
         ],
         "legendgroup": "100",
         "lon": [
          -72.68445,
          -71.87556,
          -71.006386,
          -70.30861,
          -70.82333,
          -71.43584,
          -71.42778
         ],
         "marker": {
          "color": "#636efa",
          "size": 15,
          "symbol": "square"
         },
         "mode": "markers",
         "name": "100",
         "showlegend": true,
         "type": "scattergeo"
        },
        {
         "geo": "geo",
         "hovertemplate": "<b>%{hovertext}</b><br><br>Label=107<br>LATITUDE=%{lat}<br>LONGITUDE=%{lon}<extra></extra>",
         "hovertext": [
          "ILG New Castle",
          "TTN Trenton Mercer",
          "PHL Philadelphia International",
          "ABE Lehigh Valley International",
          "AVP Wilkes Barre Scranton International"
         ],
         "lat": [
          39.67861,
          40.27667,
          39.871944,
          40.6525,
          41.338333
         ],
         "legendgroup": "107",
         "lon": [
          -75.60667,
          -74.81333,
          -75.240555,
          -75.44028,
          -75.723335
         ],
         "marker": {
          "color": "#636efa",
          "size": 15,
          "symbol": "x"
         },
         "mode": "markers",
         "name": "107",
         "showlegend": true,
         "type": "scattergeo"
        },
        {
         "geo": "geo",
         "hovertemplate": "<b>%{hovertext}</b><br><br>Label=58<br>LATITUDE=%{lat}<br>LONGITUDE=%{lon}<extra></extra>",
         "hovertext": [
          "FLL Fort Lauderdale-Hollywood International",
          "MIA Miami International",
          "PBI Palm Beach International"
         ],
         "lat": [
          26.071667,
          25.795279,
          26.683056
         ],
         "legendgroup": "58",
         "lon": [
          -80.14972,
          -80.29,
          -80.09556
         ],
         "marker": {
          "color": "#636efa",
          "size": 15,
          "symbol": "cross"
         },
         "mode": "markers",
         "name": "58",
         "showlegend": true,
         "type": "scattergeo"
        },
        {
         "geo": "geo",
         "hovertemplate": "<b>%{hovertext}</b><br><br>Label=78<br>LATITUDE=%{lat}<br>LONGITUDE=%{lon}<extra></extra>",
         "hovertext": [
          "MCO Orlando International",
          "DAB Daytona Beach International",
          "MLB Melbourne Orlando International",
          "SFB Orlando Sanford International"
         ],
         "lat": [
          28.429445,
          29.18,
          28.102777,
          28.777222
         ],
         "legendgroup": "78",
         "lon": [
          -81.30889,
          -81.05805,
          -80.64528,
          -81.235
         ],
         "marker": {
          "color": "#636efa",
          "size": 15,
          "symbol": "circle"
         },
         "mode": "markers",
         "name": "78",
         "showlegend": true,
         "type": "scattergeo"
        },
        {
         "geo": "geo",
         "hovertemplate": "<b>%{hovertext}</b><br><br>Label=84<br>LATITUDE=%{lat}<br>LONGITUDE=%{lon}<extra></extra>",
         "hovertext": [
          "RSW Southwest Florida International",
          "PGD Punta Gorda Airport"
         ],
         "lat": [
          26.536112,
          26.918612
         ],
         "legendgroup": "84",
         "lon": [
          -81.75528,
          -81.99084
         ],
         "marker": {
          "color": "#636efa",
          "size": 15,
          "symbol": "diamond"
         },
         "mode": "markers",
         "name": "84",
         "showlegend": true,
         "type": "scattergeo"
        },
        {
         "geo": "geo",
         "hovertemplate": "<b>%{hovertext}</b><br><br>Label=83<br>LATITUDE=%{lat}<br>LONGITUDE=%{lon}<extra></extra>",
         "hovertext": [
          "PIE St Pete Clearwater International",
          "SRQ Sarasota/Bradenton International",
          "TPA Tampa International"
         ],
         "lat": [
          27.908611,
          27.395555,
          27.975555
         ],
         "legendgroup": "83",
         "lon": [
          -82.686386,
          -82.55444,
          -82.53333
         ],
         "marker": {
          "color": "#636efa",
          "size": 15,
          "symbol": "square"
         },
         "mode": "markers",
         "name": "83",
         "showlegend": true,
         "type": "scattergeo"
        },
        {
         "geo": "geo",
         "hovertemplate": "<b>%{hovertext}</b><br><br>Label=86<br>LATITUDE=%{lat}<br>LONGITUDE=%{lon}<extra></extra>",
         "hovertext": [
          "JAX Jacksonville International",
          "BQK Brunswick Golden Isles"
         ],
         "lat": [
          30.494167,
          31.259167
         ],
         "legendgroup": "86",
         "lon": [
          -81.687775,
          -81.46639
         ],
         "marker": {
          "color": "#636efa",
          "size": 15,
          "symbol": "x"
         },
         "mode": "markers",
         "name": "86",
         "showlegend": true,
         "type": "scattergeo"
        },
        {
         "geo": "geo",
         "hovertemplate": "<b>%{hovertext}</b><br><br>Label=82<br>LATITUDE=%{lat}<br>LONGITUDE=%{lon}<extra></extra>",
         "hovertext": [
          "TLH Tallahassee International",
          "CSG Columbus Airport",
          "ABY Southwest Georgia Regional",
          "VLD Valdosta Regional",
          "ATL Hartsfield-Jackson Atlanta International"
         ],
         "lat": [
          30.396667,
          32.516388,
          31.535555,
          30.78139,
          33.636665
         ],
         "legendgroup": "82",
         "lon": [
          -84.35083,
          -84.93889,
          -84.19444,
          -83.27611,
          -84.42778
         ],
         "marker": {
          "color": "#636efa",
          "size": 15,
          "symbol": "cross"
         },
         "mode": "markers",
         "name": "82",
         "showlegend": true,
         "type": "scattergeo"
        },
        {
         "geo": "geo",
         "hovertemplate": "<b>%{hovertext}</b><br><br>Label=87<br>LATITUDE=%{lat}<br>LONGITUDE=%{lon}<extra></extra>",
         "hovertext": [
          "SAV Savannah/Hilton Head International",
          "HHH Hilton Head Airport"
         ],
         "lat": [
          32.1275,
          32.224445
         ],
         "legendgroup": "87",
         "lon": [
          -81.202225,
          -80.6975
         ],
         "marker": {
          "color": "#636efa",
          "size": 15,
          "symbol": "circle"
         },
         "mode": "markers",
         "name": "87",
         "showlegend": true,
         "type": "scattergeo"
        },
        {
         "geo": "geo",
         "hovertemplate": "<b>%{hovertext}</b><br><br>Label=88<br>LATITUDE=%{lat}<br>LONGITUDE=%{lon}<extra></extra>",
         "hovertext": [
          "AGS Augusta Regional at Bush Field",
          "CAE Columbia Metropolitan"
         ],
         "lat": [
          33.37,
          33.93889
         ],
         "legendgroup": "88",
         "lon": [
          -81.96445,
          -81.119446
         ],
         "marker": {
          "color": "#636efa",
          "size": 15,
          "symbol": "diamond"
         },
         "mode": "markers",
         "name": "88",
         "showlegend": true,
         "type": "scattergeo"
        },
        {
         "geo": "geo",
         "hovertemplate": "<b>%{hovertext}</b><br><br>Label=0<br>LATITUDE=%{lat}<br>LONGITUDE=%{lon}<extra></extra>",
         "hovertext": [
          "OGG Kahului Airport",
          "HNL Daniel K Inouye International",
          "ITO Hilo International",
          "LIH Lihue Airport",
          "KOA Ellison Onizuka Kona International at Keahole"
         ],
         "lat": [
          20.898611,
          21.317778,
          19.720278,
          21.97611,
          19.73889
         ],
         "legendgroup": "0",
         "lon": [
          -156.43056,
          -157.92027,
          -155.04834,
          -159.33888,
          -156.04556
         ],
         "marker": {
          "color": "#636efa",
          "size": 15,
          "symbol": "square"
         },
         "mode": "markers",
         "name": "0",
         "showlegend": true,
         "type": "scattergeo"
        },
        {
         "geo": "geo",
         "hovertemplate": "<b>%{hovertext}</b><br><br>Label=70<br>LATITUDE=%{lat}<br>LONGITUDE=%{lon}<extra></extra>",
         "hovertext": [
          "MCW Mason City Municipal",
          "FOD Fort Dodge Regional"
         ],
         "lat": [
          43.157776,
          42.55111
         ],
         "legendgroup": "70",
         "lon": [
          -93.33111,
          -94.19195
         ],
         "marker": {
          "color": "#636efa",
          "size": 15,
          "symbol": "x"
         },
         "mode": "markers",
         "name": "70",
         "showlegend": true,
         "type": "scattergeo"
        },
        {
         "geo": "geo",
         "hovertemplate": "<b>%{hovertext}</b><br><br>Label=47<br>LATITUDE=%{lat}<br>LONGITUDE=%{lon}<extra></extra>",
         "hovertext": [
          "SUX Sioux Gateway Brig Gen Bud Day Field",
          "OMA Eppley Airfield",
          "LNK Lincoln Airport",
          "FSD Joe Foss Field"
         ],
         "lat": [
          42.40139,
          41.303055,
          40.850834,
          43.581944
         ],
         "legendgroup": "47",
         "lon": [
          -96.384445,
          -95.894165,
          -96.75916,
          -96.74194
         ],
         "marker": {
          "color": "#636efa",
          "size": 15,
          "symbol": "cross"
         },
         "mode": "markers",
         "name": "47",
         "showlegend": true,
         "type": "scattergeo"
        },
        {
         "geo": "geo",
         "hovertemplate": "<b>%{hovertext}</b><br><br>Label=64<br>LATITUDE=%{lat}<br>LONGITUDE=%{lon}<extra></extra>",
         "hovertext": [
          "DBQ Dubuque Regional",
          "MLI Quad Cities International"
         ],
         "lat": [
          42.401943,
          41.448334
         ],
         "legendgroup": "64",
         "lon": [
          -90.70944,
          -90.5075
         ],
         "marker": {
          "color": "#636efa",
          "size": 15,
          "symbol": "circle"
         },
         "mode": "markers",
         "name": "64",
         "showlegend": true,
         "type": "scattergeo"
        },
        {
         "geo": "geo",
         "hovertemplate": "<b>%{hovertext}</b><br><br>Label=69<br>LATITUDE=%{lat}<br>LONGITUDE=%{lon}<extra></extra>",
         "hovertext": [
          "CID The Eastern Iowa",
          "ALO Waterloo Regional"
         ],
         "lat": [
          41.884724,
          42.558334
         ],
         "legendgroup": "69",
         "lon": [
          -91.71083,
          -92.40111
         ],
         "marker": {
          "color": "#636efa",
          "size": 15,
          "symbol": "diamond"
         },
         "mode": "markers",
         "name": "69",
         "showlegend": true,
         "type": "scattergeo"
        },
        {
         "geo": "geo",
         "hovertemplate": "<b>%{hovertext}</b><br><br>Label=28<br>LATITUDE=%{lat}<br>LONGITUDE=%{lon}<extra></extra>",
         "hovertext": [
          "IDA Idaho Falls Regional",
          "PIH Pocatello Regional"
         ],
         "lat": [
          43.51361,
          42.90972
         ],
         "legendgroup": "28",
         "lon": [
          -112.07083,
          -112.59583
         ],
         "marker": {
          "color": "#636efa",
          "size": 15,
          "symbol": "square"
         },
         "mode": "markers",
         "name": "28",
         "showlegend": true,
         "type": "scattergeo"
        },
        {
         "geo": "geo",
         "hovertemplate": "<b>%{hovertext}</b><br><br>Label=13<br>LATITUDE=%{lat}<br>LONGITUDE=%{lon}<extra></extra>",
         "hovertext": [
          "LWS Lewiston Nez Perce County",
          "GEG Spokane International",
          "PUW Pullman Moscow Regional"
         ],
         "lat": [
          46.374443,
          47.619167,
          46.741665
         ],
         "legendgroup": "13",
         "lon": [
          -117.015274,
          -117.53528,
          -117.111664
         ],
         "marker": {
          "color": "#636efa",
          "size": 15,
          "symbol": "x"
         },
         "mode": "markers",
         "name": "13",
         "showlegend": true,
         "type": "scattergeo"
        },
        {
         "geo": "geo",
         "hovertemplate": "<b>%{hovertext}</b><br><br>Label=23<br>LATITUDE=%{lat}<br>LONGITUDE=%{lon}<extra></extra>",
         "hovertext": [
          "SUN Friedman Memorial",
          "TWF Joslin Field - Magic Valley Regional"
         ],
         "lat": [
          43.503887,
          42.481945
         ],
         "legendgroup": "23",
         "lon": [
          -114.295555,
          -114.48778
         ],
         "marker": {
          "color": "#636efa",
          "size": 15,
          "symbol": "cross"
         },
         "mode": "markers",
         "name": "23",
         "showlegend": true,
         "type": "scattergeo"
        },
        {
         "geo": "geo",
         "hovertemplate": "<b>%{hovertext}</b><br><br>Label=63<br>LATITUDE=%{lat}<br>LONGITUDE=%{lon}<extra></extra>",
         "hovertext": [
          "BMI Central Il Regional Airport at Bloomington",
          "SPI Abraham Lincoln Capital",
          "PIA General Downing - Peoria International",
          "CMI University of Illinois/Willard",
          "DEC Decatur Airport"
         ],
         "lat": [
          40.477222,
          39.844166,
          40.664165,
          40.038612,
          39.834446
         ],
         "legendgroup": "63",
         "lon": [
          -88.91583,
          -89.678055,
          -89.69334,
          -88.276665,
          -88.865555
         ],
         "marker": {
          "color": "#636efa",
          "size": 15,
          "symbol": "circle"
         },
         "mode": "markers",
         "name": "63",
         "showlegend": true,
         "type": "scattergeo"
        },
        {
         "geo": "geo",
         "hovertemplate": "<b>%{hovertext}</b><br><br>Label=57<br>LATITUDE=%{lat}<br>LONGITUDE=%{lon}<extra></extra>",
         "hovertext": [
          "BLV Scott AFB MidAmerica St Louis",
          "STL St Louis Lambert International"
         ],
         "lat": [
          38.545277,
          38.74861
         ],
         "legendgroup": "57",
         "lon": [
          -89.83528,
          -90.37
         ],
         "marker": {
          "color": "#636efa",
          "size": 15,
          "symbol": "diamond"
         },
         "mode": "markers",
         "name": "57",
         "showlegend": true,
         "type": "scattergeo"
        },
        {
         "geo": "geo",
         "hovertemplate": "<b>%{hovertext}</b><br><br>Label=71<br>LATITUDE=%{lat}<br>LONGITUDE=%{lon}<extra></extra>",
         "hovertext": [
          "MDW Chicago Midway International",
          "ORD Chicago O'Hare International",
          "MKE General Mitchell International"
         ],
         "lat": [
          41.78583,
          41.976944,
          42.946945
         ],
         "legendgroup": "71",
         "lon": [
          -87.7525,
          -87.90806,
          -87.89694
         ],
         "marker": {
          "color": "#636efa",
          "size": 15,
          "symbol": "square"
         },
         "mode": "markers",
         "name": "71",
         "showlegend": true,
         "type": "scattergeo"
        },
        {
         "geo": "geo",
         "hovertemplate": "<b>%{hovertext}</b><br><br>Label=72<br>LATITUDE=%{lat}<br>LONGITUDE=%{lon}<extra></extra>",
         "hovertext": [
          "RFD Chicago/Rockford International",
          "MSN Dane County Regional-Truax Field"
         ],
         "lat": [
          42.19528,
          43.14
         ],
         "legendgroup": "72",
         "lon": [
          -89.09722,
          -89.3375
         ],
         "marker": {
          "color": "#636efa",
          "size": 15,
          "symbol": "x"
         },
         "mode": "markers",
         "name": "72",
         "showlegend": true,
         "type": "scattergeo"
        },
        {
         "geo": "geo",
         "hovertemplate": "<b>%{hovertext}</b><br><br>Label=62<br>LATITUDE=%{lat}<br>LONGITUDE=%{lon}<extra></extra>",
         "hovertext": [
          "EVV Evansville Regional",
          "OWB Owensboro Daviess County Regional"
         ],
         "lat": [
          38.040833,
          37.738888
         ],
         "legendgroup": "62",
         "lon": [
          -87.52861,
          -87.16695
         ],
         "marker": {
          "color": "#636efa",
          "size": 15,
          "symbol": "cross"
         },
         "mode": "markers",
         "name": "62",
         "showlegend": true,
         "type": "scattergeo"
        },
        {
         "geo": "geo",
         "hovertemplate": "<b>%{hovertext}</b><br><br>Label=67<br>LATITUDE=%{lat}<br>LONGITUDE=%{lon}<extra></extra>",
         "hovertext": [
          "FWA Fort Wayne International",
          "SBN South Bend International",
          "MBS MBS International",
          "FNT Bishop International",
          "DTW Detroit Metro Wayne County",
          "LAN Capital Region International",
          "GRR Gerald R. Ford International",
          "AZO Kalamazoo/Battle Creek International",
          "MKG Muskegon County",
          "TOL Eugene F Kranz Toledo Express"
         ],
         "lat": [
          40.978333,
          41.708332,
          43.533054,
          42.965557,
          42.2125,
          42.77861,
          42.880833,
          42.234444,
          43.167778,
          41.586945
         ],
         "legendgroup": "67",
         "lon": [
          -85.195274,
          -86.31722,
          -84.07972,
          -83.74472,
          -83.35333,
          -84.58611,
          -85.52278,
          -85.55167,
          -86.23556,
          -83.80778
         ],
         "marker": {
          "color": "#636efa",
          "size": 15,
          "symbol": "circle"
         },
         "mode": "markers",
         "name": "67",
         "showlegend": true,
         "type": "scattergeo"
        },
        {
         "geo": "geo",
         "hovertemplate": "<b>%{hovertext}</b><br><br>Label=42<br>LATITUDE=%{lat}<br>LONGITUDE=%{lon}<extra></extra>",
         "hovertext": [
          "DDC Dodge City Regional",
          "LBL Liberal Mid-America Regional",
          "HYS Hays Regional",
          "GCK Garden City Regional"
         ],
         "lat": [
          37.763054,
          37.043888,
          38.842224,
          37.9275
         ],
         "legendgroup": "42",
         "lon": [
          -99.96555,
          -100.96,
          -99.273056,
          -100.72444
         ],
         "marker": {
          "color": "#636efa",
          "size": 15,
          "symbol": "diamond"
         },
         "mode": "markers",
         "name": "42",
         "showlegend": true,
         "type": "scattergeo"
        },
        {
         "geo": "geo",
         "hovertemplate": "<b>%{hovertext}</b><br><br>Label=45<br>LATITUDE=%{lat}<br>LONGITUDE=%{lon}<extra></extra>",
         "hovertext": [
          "ICT Wichita Dwight D Eisenhower National",
          "SLN Salina Regional",
          "MHK Manhattan Regional"
         ],
         "lat": [
          37.65,
          38.790554,
          39.14111
         ],
         "legendgroup": "45",
         "lon": [
          -97.43305,
          -97.65222,
          -96.67194
         ],
         "marker": {
          "color": "#636efa",
          "size": 15,
          "symbol": "square"
         },
         "mode": "markers",
         "name": "45",
         "showlegend": true,
         "type": "scattergeo"
        },
        {
         "geo": "geo",
         "hovertemplate": "<b>%{hovertext}</b><br><br>Label=53<br>LATITUDE=%{lat}<br>LONGITUDE=%{lon}<extra></extra>",
         "hovertext": [
          "PAH Barkley Regional",
          "CGI Cape Girardeau Regional"
         ],
         "lat": [
          37.060276,
          37.225277
         ],
         "legendgroup": "53",
         "lon": [
          -88.773056,
          -89.57083
         ],
         "marker": {
          "color": "#636efa",
          "size": 15,
          "symbol": "x"
         },
         "mode": "markers",
         "name": "53",
         "showlegend": true,
         "type": "scattergeo"
        },
        {
         "geo": "geo",
         "hovertemplate": "<b>%{hovertext}</b><br><br>Label=66<br>LATITUDE=%{lat}<br>LONGITUDE=%{lon}<extra></extra>",
         "hovertext": [
          "CVG Cincinnati/Northern Kentucky International",
          "LEX Blue Grass",
          "SDF Louisville Muhammad Ali International",
          "DAY James M Cox/Dayton International"
         ],
         "lat": [
          39.04889,
          38.036667,
          38.174168,
          39.90222
         ],
         "legendgroup": "66",
         "lon": [
          -84.66778,
          -84.60861,
          -85.73639,
          -84.219444
         ],
         "marker": {
          "color": "#636efa",
          "size": 15,
          "symbol": "cross"
         },
         "mode": "markers",
         "name": "66",
         "showlegend": true,
         "type": "scattergeo"
        },
        {
         "geo": "geo",
         "hovertemplate": "<b>%{hovertext}</b><br><br>Label=91<br>LATITUDE=%{lat}<br>LONGITUDE=%{lon}<extra></extra>",
         "hovertext": [
          "MSY Louis Armstrong New Orleans International",
          "BTR Baton Rouge Metropolitan/Ryan Field",
          "LFT Lafayette Regional Paul Fournet Field"
         ],
         "lat": [
          29.993334,
          30.533056,
          30.205
         ],
         "legendgroup": "91",
         "lon": [
          -90.25916,
          -91.15,
          -91.98778
         ],
         "marker": {
          "color": "#636efa",
          "size": 15,
          "symbol": "circle"
         },
         "mode": "markers",
         "name": "91",
         "showlegend": true,
         "type": "scattergeo"
        },
        {
         "geo": "geo",
         "hovertemplate": "<b>%{hovertext}</b><br><br>Label=90<br>LATITUDE=%{lat}<br>LONGITUDE=%{lon}<extra></extra>",
         "hovertext": [
          "LCH Lake Charles Regional",
          "BPT Jack Brooks Regional"
         ],
         "lat": [
          30.126112,
          29.950834
         ],
         "legendgroup": "90",
         "lon": [
          -93.223335,
          -94.02055
         ],
         "marker": {
          "color": "#636efa",
          "size": 15,
          "symbol": "diamond"
         },
         "mode": "markers",
         "name": "90",
         "showlegend": true,
         "type": "scattergeo"
        },
        {
         "geo": "geo",
         "hovertemplate": "<b>%{hovertext}</b><br><br>Label=101<br>LATITUDE=%{lat}<br>LONGITUDE=%{lon}<extra></extra>",
         "hovertext": [
          "HYA Cape Cod Gateway",
          "ACK Nantucket Memorial",
          "MVY Martha's Vineyard Airport"
         ],
         "lat": [
          41.669445,
          41.253056,
          41.393333
         ],
         "legendgroup": "101",
         "lon": [
          -70.28028,
          -70.06,
          -70.61389
         ],
         "marker": {
          "color": "#636efa",
          "size": 15,
          "symbol": "square"
         },
         "mode": "markers",
         "name": "101",
         "showlegend": true,
         "type": "scattergeo"
        },
        {
         "geo": "geo",
         "hovertemplate": "<b>%{hovertext}</b><br><br>Label=104<br>LATITUDE=%{lat}<br>LONGITUDE=%{lon}<extra></extra>",
         "hovertext": [
          "HGR Hagerstown Regional-Richard A. Henson Field",
          "BWI Baltimore/Washington International Thurgood Marshall",
          "MDT Harrisburg International",
          "DCA Ronald Reagan Washington National",
          "IAD Washington Dulles International"
         ],
         "lat": [
          39.70861,
          39.175835,
          40.193054,
          38.851387,
          38.9475
         ],
         "legendgroup": "104",
         "lon": [
          -77.72639,
          -76.66889,
          -76.7625,
          -77.03778,
          -77.46
         ],
         "marker": {
          "color": "#636efa",
          "size": 15,
          "symbol": "x"
         },
         "mode": "markers",
         "name": "104",
         "showlegend": true,
         "type": "scattergeo"
        },
        {
         "geo": "geo",
         "hovertemplate": "<b>%{hovertext}</b><br><br>Label=77<br>LATITUDE=%{lat}<br>LONGITUDE=%{lon}<extra></extra>",
         "hovertext": [
          "MQT Sawyer International",
          "IMT Ford",
          "ESC Delta County"
         ],
         "lat": [
          46.349167,
          45.818333,
          45.72278
         ],
         "legendgroup": "77",
         "lon": [
          -87.396385,
          -88.11444,
          -87.09361
         ],
         "marker": {
          "color": "#636efa",
          "size": 15,
          "symbol": "cross"
         },
         "mode": "markers",
         "name": "77",
         "showlegend": true,
         "type": "scattergeo"
        },
        {
         "geo": "geo",
         "hovertemplate": "<b>%{hovertext}</b><br><br>Label=40<br>LATITUDE=%{lat}<br>LONGITUDE=%{lon}<extra></extra>",
         "hovertext": [
          "PLN Pellston Regional Airport of Emmet County",
          "APN Alpena County Regional",
          "TVC Cherry Capital",
          "CIU Chippewa County International"
         ],
         "lat": [
          45.570835,
          45.078056,
          44.741665,
          46.25083
         ],
         "legendgroup": "40",
         "lon": [
          -84.79667,
          -83.56028,
          -85.58195,
          -84.4725
         ],
         "marker": {
          "color": "#636efa",
          "size": 15,
          "symbol": "circle"
         },
         "mode": "markers",
         "name": "40",
         "showlegend": true,
         "type": "scattergeo"
        },
        {
         "geo": "geo",
         "hovertemplate": "<b>%{hovertext}</b><br><br>Label=41<br>LATITUDE=%{lat}<br>LONGITUDE=%{lon}<extra></extra>",
         "hovertext": [
          "INL Falls International Einarson Field",
          "DLH Duluth International",
          "HIB Range Regional"
         ],
         "lat": [
          48.565556,
          46.841946,
          47.386665
         ],
         "legendgroup": "41",
         "lon": [
          -93.40222,
          -92.19334,
          -92.83889
         ],
         "marker": {
          "color": "#636efa",
          "size": 15,
          "symbol": "diamond"
         },
         "mode": "markers",
         "name": "41",
         "showlegend": true,
         "type": "scattergeo"
        },
        {
         "geo": "geo",
         "hovertemplate": "<b>%{hovertext}</b><br><br>Label=61<br>LATITUDE=%{lat}<br>LONGITUDE=%{lon}<extra></extra>",
         "hovertext": [
          "BRD Brainerd Lakes Regional",
          "MSP Minneapolis-St Paul International",
          "STC St. Cloud Regional"
         ],
         "lat": [
          46.404167,
          44.881943,
          45.546112
         ],
         "legendgroup": "61",
         "lon": [
          -94.13361,
          -93.221664,
          -94.05945
         ],
         "marker": {
          "color": "#636efa",
          "size": 15,
          "symbol": "square"
         },
         "mode": "markers",
         "name": "61",
         "showlegend": true,
         "type": "scattergeo"
        },
        {
         "geo": "geo",
         "hovertemplate": "<b>%{hovertext}</b><br><br>Label=46<br>LATITUDE=%{lat}<br>LONGITUDE=%{lon}<extra></extra>",
         "hovertext": [
          "COU Columbia Regional",
          "TBN Waynesville-St. Robert Regional Forney Field"
         ],
         "lat": [
          38.81778,
          37.741665
         ],
         "legendgroup": "46",
         "lon": [
          -92.21778,
          -92.14083
         ],
         "marker": {
          "color": "#636efa",
          "size": 15,
          "symbol": "x"
         },
         "mode": "markers",
         "name": "46",
         "showlegend": true,
         "type": "scattergeo"
        },
        {
         "geo": "geo",
         "hovertemplate": "<b>%{hovertext}</b><br><br>Label=51<br>LATITUDE=%{lat}<br>LONGITUDE=%{lon}<extra></extra>",
         "hovertext": [
          "BKG Branson Airport",
          "SGF Springfield-Branson National"
         ],
         "lat": [
          36.531944,
          37.245556
         ],
         "legendgroup": "51",
         "lon": [
          -93.200554,
          -93.38861
         ],
         "marker": {
          "color": "#636efa",
          "size": 15,
          "symbol": "cross"
         },
         "mode": "markers",
         "name": "51",
         "showlegend": true,
         "type": "scattergeo"
        },
        {
         "geo": "geo",
         "hovertemplate": "<b>%{hovertext}</b><br><br>Label=92<br>LATITUDE=%{lat}<br>LONGITUDE=%{lon}<extra></extra>",
         "hovertext": [
          "PIB Hattiesburg-Laurel Regional",
          "MEI Key Field"
         ],
         "lat": [
          31.467222,
          32.3325
         ],
         "legendgroup": "92",
         "lon": [
          -89.336945,
          -88.751945
         ],
         "marker": {
          "color": "#636efa",
          "size": 15,
          "symbol": "circle"
         },
         "mode": "markers",
         "name": "92",
         "showlegend": true,
         "type": "scattergeo"
        },
        {
         "geo": "geo",
         "hovertemplate": "<b>%{hovertext}</b><br><br>Label=14<br>LATITUDE=%{lat}<br>LONGITUDE=%{lon}<extra></extra>",
         "hovertext": [
          "FCA Glacier Park International",
          "MSO Missoula Montana"
         ],
         "lat": [
          48.310555,
          46.91639
         ],
         "legendgroup": "14",
         "lon": [
          -114.25611,
          -114.09055
         ],
         "marker": {
          "color": "#636efa",
          "size": 15,
          "symbol": "diamond"
         },
         "mode": "markers",
         "name": "14",
         "showlegend": true,
         "type": "scattergeo"
        },
        {
         "geo": "geo",
         "hovertemplate": "<b>%{hovertext}</b><br><br>Label=29<br>LATITUDE=%{lat}<br>LONGITUDE=%{lon}<extra></extra>",
         "hovertext": [
          "WYS Yellowstone",
          "BZN Bozeman Yellowstone International",
          "JAC Jackson Hole"
         ],
         "lat": [
          44.68833,
          45.77722,
          43.607224
         ],
         "legendgroup": "29",
         "lon": [
          -111.117775,
          -111.150276,
          -110.73778
         ],
         "marker": {
          "color": "#636efa",
          "size": 15,
          "symbol": "square"
         },
         "mode": "markers",
         "name": "29",
         "showlegend": true,
         "type": "scattergeo"
        },
        {
         "geo": "geo",
         "hovertemplate": "<b>%{hovertext}</b><br><br>Label=24<br>LATITUDE=%{lat}<br>LONGITUDE=%{lon}<extra></extra>",
         "hovertext": [
          "BIL Billings Logan International",
          "COD Yellowstone Regional",
          "RIW Central Wyoming Regional"
         ],
         "lat": [
          45.807777,
          44.52028,
          43.064167
         ],
         "legendgroup": "24",
         "lon": [
          -108.54361,
          -109.02389,
          -108.459724
         ],
         "marker": {
          "color": "#636efa",
          "size": 15,
          "symbol": "x"
         },
         "mode": "markers",
         "name": "24",
         "showlegend": true,
         "type": "scattergeo"
        },
        {
         "geo": "geo",
         "hovertemplate": "<b>%{hovertext}</b><br><br>Label=30<br>LATITUDE=%{lat}<br>LONGITUDE=%{lon}<extra></extra>",
         "hovertext": [
          "BTM Bert Mooney",
          "GTF Great Falls International",
          "HLN Helena Regional"
         ],
         "lat": [
          45.954723,
          47.482224,
          46.606667
         ],
         "legendgroup": "30",
         "lon": [
          -112.4975,
          -111.37028,
          -111.98333
         ],
         "marker": {
          "color": "#636efa",
          "size": 15,
          "symbol": "cross"
         },
         "mode": "markers",
         "name": "30",
         "showlegend": true,
         "type": "scattergeo"
        },
        {
         "geo": "geo",
         "hovertemplate": "<b>%{hovertext}</b><br><br>Label=96<br>LATITUDE=%{lat}<br>LONGITUDE=%{lon}<extra></extra>",
         "hovertext": [
          "OAJ Albert J Ellis",
          "EWN Coastal Carolina Regional",
          "PGV Pitt Greenville",
          "ILM Wilmington International"
         ],
         "lat": [
          34.829166,
          35.072777,
          35.635555,
          34.27111
         ],
         "legendgroup": "96",
         "lon": [
          -77.61222,
          -77.04305,
          -77.38416,
          -77.90278
         ],
         "marker": {
          "color": "#636efa",
          "size": 15,
          "symbol": "circle"
         },
         "mode": "markers",
         "name": "96",
         "showlegend": true,
         "type": "scattergeo"
        },
        {
         "geo": "geo",
         "hovertemplate": "<b>%{hovertext}</b><br><br>Label=103<br>LATITUDE=%{lat}<br>LONGITUDE=%{lon}<extra></extra>",
         "hovertext": [
          "RDU Raleigh-Durham International",
          "FAY Fayetteville Regional/Grannis Field"
         ],
         "lat": [
          35.877777,
          34.99111
         ],
         "legendgroup": "103",
         "lon": [
          -78.7875,
          -78.88028
         ],
         "marker": {
          "color": "#636efa",
          "size": 15,
          "symbol": "diamond"
         },
         "mode": "markers",
         "name": "103",
         "showlegend": true,
         "type": "scattergeo"
        },
        {
         "geo": "geo",
         "hovertemplate": "<b>%{hovertext}</b><br><br>Label=99<br>LATITUDE=%{lat}<br>LONGITUDE=%{lon}<extra></extra>",
         "hovertext": [
          "USA Concord Padgett Regional",
          "CLT Charlotte Douglas International",
          "GSO Piedmont Triad International"
         ],
         "lat": [
          35.38778,
          35.21361,
          36.101387
         ],
         "legendgroup": "99",
         "lon": [
          -80.70917,
          -80.949165,
          -79.94111
         ],
         "marker": {
          "color": "#636efa",
          "size": 15,
          "symbol": "square"
         },
         "mode": "markers",
         "name": "99",
         "showlegend": true,
         "type": "scattergeo"
        },
        {
         "geo": "geo",
         "hovertemplate": "<b>%{hovertext}</b><br><br>Label=76<br>LATITUDE=%{lat}<br>LONGITUDE=%{lon}<extra></extra>",
         "hovertext": [
          "AVL Asheville Regional",
          "GSP Greenville-Spartanburg International",
          "TRI Tri Cities"
         ],
         "lat": [
          35.43611,
          34.895557,
          36.475277
         ],
         "legendgroup": "76",
         "lon": [
          -82.54195,
          -82.21889,
          -82.4075
         ],
         "marker": {
          "color": "#636efa",
          "size": 15,
          "symbol": "x"
         },
         "mode": "markers",
         "name": "76",
         "showlegend": true,
         "type": "scattergeo"
        },
        {
         "geo": "geo",
         "hovertemplate": "<b>%{hovertext}</b><br><br>Label=16<br>LATITUDE=%{lat}<br>LONGITUDE=%{lon}<extra></extra>",
         "hovertext": [
          "MOT Minot International",
          "BIS Bismarck Municipal"
         ],
         "lat": [
          48.25778,
          46.772778
         ],
         "legendgroup": "16",
         "lon": [
          -101.27805,
          -100.745834
         ],
         "marker": {
          "color": "#636efa",
          "size": 15,
          "symbol": "cross"
         },
         "mode": "markers",
         "name": "16",
         "showlegend": true,
         "type": "scattergeo"
        },
        {
         "geo": "geo",
         "hovertemplate": "<b>%{hovertext}</b><br><br>Label=17<br>LATITUDE=%{lat}<br>LONGITUDE=%{lon}<extra></extra>",
         "hovertext": [
          "XWA Williston Basin International",
          "DIK Dickinson - Theodore Roosevelt Regional"
         ],
         "lat": [
          48.259724,
          46.800835
         ],
         "legendgroup": "17",
         "lon": [
          -103.75056,
          -102.80334
         ],
         "marker": {
          "color": "#636efa",
          "size": 15,
          "symbol": "circle"
         },
         "mode": "markers",
         "name": "17",
         "showlegend": true,
         "type": "scattergeo"
        },
        {
         "geo": "geo",
         "hovertemplate": "<b>%{hovertext}</b><br><br>Label=44<br>LATITUDE=%{lat}<br>LONGITUDE=%{lon}<extra></extra>",
         "hovertext": [
          "DVL Devils Lake Regional",
          "JMS Jamestown Regional"
         ],
         "lat": [
          48.116665,
          46.92972
         ],
         "legendgroup": "44",
         "lon": [
          -98.91,
          -98.678055
         ],
         "marker": {
          "color": "#636efa",
          "size": 15,
          "symbol": "diamond"
         },
         "mode": "markers",
         "name": "44",
         "showlegend": true,
         "type": "scattergeo"
        },
        {
         "geo": "geo",
         "hovertemplate": "<b>%{hovertext}</b><br><br>Label=39<br>LATITUDE=%{lat}<br>LONGITUDE=%{lon}<extra></extra>",
         "hovertext": [
          "FAR Hector International",
          "GFK Grand Forks International"
         ],
         "lat": [
          46.920555,
          47.947224
         ],
         "legendgroup": "39",
         "lon": [
          -96.815834,
          -97.17389
         ],
         "marker": {
          "color": "#636efa",
          "size": 15,
          "symbol": "square"
         },
         "mode": "markers",
         "name": "39",
         "showlegend": true,
         "type": "scattergeo"
        },
        {
         "geo": "geo",
         "hovertemplate": "<b>%{hovertext}</b><br><br>Label=43<br>LATITUDE=%{lat}<br>LONGITUDE=%{lon}<extra></extra>",
         "hovertext": [
          "EAR Kearney Regional",
          "GRI Central Nebraska Regional"
         ],
         "lat": [
          40.726944,
          40.9675
         ],
         "legendgroup": "43",
         "lon": [
          -99.00667,
          -98.30972
         ],
         "marker": {
          "color": "#636efa",
          "size": 15,
          "symbol": "x"
         },
         "mode": "markers",
         "name": "43",
         "showlegend": true,
         "type": "scattergeo"
        },
        {
         "geo": "geo",
         "hovertemplate": "<b>%{hovertext}</b><br><br>Label=108<br>LATITUDE=%{lat}<br>LONGITUDE=%{lon}<extra></extra>",
         "hovertext": [
          "EWR Newark Liberty International",
          "HPN Westchester County",
          "LGA LaGuardia",
          "SWF New York Stewart International",
          "JFK John F. Kennedy International",
          "ISP Long Island MacArthur"
         ],
         "lat": [
          40.6925,
          41.066944,
          40.77722,
          41.504166,
          40.64,
          40.796112
         ],
         "legendgroup": "108",
         "lon": [
          -74.16861,
          -73.7075,
          -73.8725,
          -74.10472,
          -73.77861,
          -73.100555
         ],
         "marker": {
          "color": "#636efa",
          "size": 15,
          "symbol": "cross"
         },
         "mode": "markers",
         "name": "108",
         "showlegend": true,
         "type": "scattergeo"
        },
        {
         "geo": "geo",
         "hovertemplate": "<b>%{hovertext}</b><br><br>Label=34<br>LATITUDE=%{lat}<br>LONGITUDE=%{lon}<extra></extra>",
         "hovertext": [
          "HOB Lea County Regional",
          "ROW Roswell Air Center",
          "MAF Midland International Air and Space Port"
         ],
         "lat": [
          32.6875,
          33.3,
          31.9425
         ],
         "legendgroup": "34",
         "lon": [
          -103.217224,
          -104.52944,
          -102.20194
         ],
         "marker": {
          "color": "#636efa",
          "size": 15,
          "symbol": "circle"
         },
         "mode": "markers",
         "name": "34",
         "showlegend": true,
         "type": "scattergeo"
        },
        {
         "geo": "geo",
         "hovertemplate": "<b>%{hovertext}</b><br><br>Label=11<br>LATITUDE=%{lat}<br>LONGITUDE=%{lon}<extra></extra>",
         "hovertext": [
          "SAF Santa Fe Municipal",
          "ABQ Albuquerque International Sunport"
         ],
         "lat": [
          35.61722,
          35.038887
         ],
         "legendgroup": "11",
         "lon": [
          -106.08945,
          -106.60833
         ],
         "marker": {
          "color": "#636efa",
          "size": 15,
          "symbol": "diamond"
         },
         "mode": "markers",
         "name": "11",
         "showlegend": true,
         "type": "scattergeo"
        },
        {
         "geo": "geo",
         "hovertemplate": "<b>%{hovertext}</b><br><br>Label=95<br>LATITUDE=%{lat}<br>LONGITUDE=%{lon}<extra></extra>",
         "hovertext": [
          "BUF Buffalo Niagara International",
          "ROC Frederick Douglass Grtr Rochester International",
          "IAG Niagara Falls International"
         ],
         "lat": [
          42.940556,
          43.119167,
          43.1075
         ],
         "legendgroup": "95",
         "lon": [
          -78.73055,
          -77.67194,
          -78.94583
         ],
         "marker": {
          "color": "#636efa",
          "size": 15,
          "symbol": "square"
         },
         "mode": "markers",
         "name": "95",
         "showlegend": true,
         "type": "scattergeo"
        },
        {
         "geo": "geo",
         "hovertemplate": "<b>%{hovertext}</b><br><br>Label=38<br>LATITUDE=%{lat}<br>LONGITUDE=%{lon}<extra></extra>",
         "hovertext": [
          "PBG Plattsburgh International",
          "BTV Burlington International"
         ],
         "lat": [
          44.650833,
          44.471943
         ],
         "legendgroup": "38",
         "lon": [
          -73.468056,
          -73.153336
         ],
         "marker": {
          "color": "#636efa",
          "size": 15,
          "symbol": "x"
         },
         "mode": "markers",
         "name": "38",
         "showlegend": true,
         "type": "scattergeo"
        },
        {
         "geo": "geo",
         "hovertemplate": "<b>%{hovertext}</b><br><br>Label=106<br>LATITUDE=%{lat}<br>LONGITUDE=%{lon}<extra></extra>",
         "hovertext": [
          "OGS Ogdensburg International",
          "BGM Greater Binghamton/Edwin A. Link Field",
          "ELM Elmira/Corning Regional",
          "ART Watertown International",
          "ITH Ithaca Tompkins International",
          "SYR Syracuse Hancock International"
         ],
         "lat": [
          44.68222,
          42.208332,
          42.15972,
          43.991943,
          42.49139,
          43.11111
         ],
         "legendgroup": "106",
         "lon": [
          -75.46333,
          -75.97972,
          -76.89167,
          -76.01945,
          -76.45861,
          -76.10639
         ],
         "marker": {
          "color": "#636efa",
          "size": 15,
          "symbol": "cross"
         },
         "mode": "markers",
         "name": "106",
         "showlegend": true,
         "type": "scattergeo"
        },
        {
         "geo": "geo",
         "hovertemplate": "<b>%{hovertext}</b><br><br>Label=65<br>LATITUDE=%{lat}<br>LONGITUDE=%{lon}<extra></extra>",
         "hovertext": [
          "CMH John Glenn Columbus International",
          "LCK Rickenbacker International"
         ],
         "lat": [
          39.996944,
          39.81389
         ],
         "legendgroup": "65",
         "lon": [
          -82.89222,
          -82.92778
         ],
         "marker": {
          "color": "#636efa",
          "size": 15,
          "symbol": "circle"
         },
         "mode": "markers",
         "name": "65",
         "showlegend": true,
         "type": "scattergeo"
        },
        {
         "geo": "geo",
         "hovertemplate": "<b>%{hovertext}</b><br><br>Label=89<br>LATITUDE=%{lat}<br>LONGITUDE=%{lon}<extra></extra>",
         "hovertext": [
          "CLE Cleveland-Hopkins International",
          "CAK Akron-Canton Regional"
         ],
         "lat": [
          41.409443,
          40.915
         ],
         "legendgroup": "89",
         "lon": [
          -81.85472,
          -81.44361
         ],
         "marker": {
          "color": "#636efa",
          "size": 15,
          "symbol": "diamond"
         },
         "mode": "markers",
         "name": "89",
         "showlegend": true,
         "type": "scattergeo"
        },
        {
         "geo": "geo",
         "hovertemplate": "<b>%{hovertext}</b><br><br>Label=54<br>LATITUDE=%{lat}<br>LONGITUDE=%{lon}<extra></extra>",
         "hovertext": [
          "SWO Stillwater Regional",
          "OKC Will Rogers World"
         ],
         "lat": [
          36.16139,
          35.393055
         ],
         "legendgroup": "54",
         "lon": [
          -97.08583,
          -97.60083
         ],
         "marker": {
          "color": "#636efa",
          "size": 15,
          "symbol": "square"
         },
         "mode": "markers",
         "name": "54",
         "showlegend": true,
         "type": "scattergeo"
        },
        {
         "geo": "geo",
         "hovertemplate": "<b>%{hovertext}</b><br><br>Label=55<br>LATITUDE=%{lat}<br>LONGITUDE=%{lon}<extra></extra>",
         "hovertext": [
          "LAW Lawton-Fort Sill Regional",
          "SPS Sheppard AFB/Wichita Falls Municipal"
         ],
         "lat": [
          34.56778,
          33.988888
         ],
         "legendgroup": "55",
         "lon": [
          -98.416664,
          -98.49194
         ],
         "marker": {
          "color": "#636efa",
          "size": 15,
          "symbol": "x"
         },
         "mode": "markers",
         "name": "55",
         "showlegend": true,
         "type": "scattergeo"
        },
        {
         "geo": "geo",
         "hovertemplate": "<b>%{hovertext}</b><br><br>Label=105<br>LATITUDE=%{lat}<br>LONGITUDE=%{lon}<extra></extra>",
         "hovertext": [
          "JST John Murtha Johnstown-Cambria County",
          "LBE Arnold Palmer Regional",
          "SCE University Park",
          "PIT Pittsburgh International"
         ],
         "lat": [
          40.315556,
          40.273056,
          40.85,
          40.49139
         ],
         "legendgroup": "105",
         "lon": [
          -78.834724,
          -79.41028,
          -77.8475,
          -80.23278
         ],
         "marker": {
          "color": "#636efa",
          "size": 15,
          "symbol": "cross"
         },
         "mode": "markers",
         "name": "105",
         "showlegend": true,
         "type": "scattergeo"
        },
        {
         "geo": "geo",
         "hovertemplate": "<b>%{hovertext}</b><br><br>Label=102<br>LATITUDE=%{lat}<br>LONGITUDE=%{lon}<extra></extra>",
         "hovertext": [
          "MYR Myrtle Beach International",
          "FLO Florence Regional"
         ],
         "lat": [
          33.67972,
          34.185276
         ],
         "legendgroup": "102",
         "lon": [
          -78.92834,
          -79.72389
         ],
         "marker": {
          "color": "#636efa",
          "size": 15,
          "symbol": "circle"
         },
         "mode": "markers",
         "name": "102",
         "showlegend": true,
         "type": "scattergeo"
        },
        {
         "geo": "geo",
         "hovertemplate": "<b>%{hovertext}</b><br><br>Label=48<br>LATITUDE=%{lat}<br>LONGITUDE=%{lon}<extra></extra>",
         "hovertext": [
          "ATY Watertown Regional",
          "ABR Aberdeen Regional"
         ],
         "lat": [
          44.913887,
          45.446667
         ],
         "legendgroup": "48",
         "lon": [
          -97.154724,
          -98.4225
         ],
         "marker": {
          "color": "#636efa",
          "size": 15,
          "symbol": "diamond"
         },
         "mode": "markers",
         "name": "48",
         "showlegend": true,
         "type": "scattergeo"
        },
        {
         "geo": "geo",
         "hovertemplate": "<b>%{hovertext}</b><br><br>Label=60<br>LATITUDE=%{lat}<br>LONGITUDE=%{lon}<extra></extra>",
         "hovertext": [
          "TYS McGhee Tyson",
          "CHA Lovell Field"
         ],
         "lat": [
          35.81111,
          35.03528
         ],
         "legendgroup": "60",
         "lon": [
          -83.99416,
          -85.20361
         ],
         "marker": {
          "color": "#636efa",
          "size": 15,
          "symbol": "square"
         },
         "mode": "markers",
         "name": "60",
         "showlegend": true,
         "type": "scattergeo"
        },
        {
         "geo": "geo",
         "hovertemplate": "<b>%{hovertext}</b><br><br>Label=52<br>LATITUDE=%{lat}<br>LONGITUDE=%{lon}<extra></extra>",
         "hovertext": [
          "CRP Corpus Christi International",
          "VCT Victoria Regional"
         ],
         "lat": [
          27.772223,
          28.854166
         ],
         "legendgroup": "52",
         "lon": [
          -97.5025,
          -96.91861
         ],
         "marker": {
          "color": "#636efa",
          "size": 15,
          "symbol": "x"
         },
         "mode": "markers",
         "name": "52",
         "showlegend": true,
         "type": "scattergeo"
        },
        {
         "geo": "geo",
         "hovertemplate": "<b>%{hovertext}</b><br><br>Label=33<br>LATITUDE=%{lat}<br>LONGITUDE=%{lon}<extra></extra>",
         "hovertext": [
          "SJT San Angelo Regional/Mathis Field",
          "ABI Abilene Regional"
         ],
         "lat": [
          31.357779,
          32.41139
         ],
         "legendgroup": "33",
         "lon": [
          -100.49639,
          -99.681946
         ],
         "marker": {
          "color": "#636efa",
          "size": 15,
          "symbol": "cross"
         },
         "mode": "markers",
         "name": "33",
         "showlegend": true,
         "type": "scattergeo"
        },
        {
         "geo": "geo",
         "hovertemplate": "<b>%{hovertext}</b><br><br>Label=74<br>LATITUDE=%{lat}<br>LONGITUDE=%{lon}<extra></extra>",
         "hovertext": [
          "GRK Robert Gray AAF",
          "SAT San Antonio International",
          "AUS Austin - Bergstrom International",
          "ACT Waco Regional"
         ],
         "lat": [
          31.067223,
          29.53389,
          30.194445,
          31.612223
         ],
         "legendgroup": "74",
         "lon": [
          -97.82889,
          -98.46917,
          -97.67,
          -97.23028
         ],
         "marker": {
          "color": "#636efa",
          "size": 15,
          "symbol": "circle"
         },
         "mode": "markers",
         "name": "74",
         "showlegend": true,
         "type": "scattergeo"
        },
        {
         "geo": "geo",
         "hovertemplate": "<b>%{hovertext}</b><br><br>Label=49<br>LATITUDE=%{lat}<br>LONGITUDE=%{lon}<extra></extra>",
         "hovertext": [
          "BRO Brownsville South Padre Island International",
          "HRL Valley International",
          "MFE McAllen Miller International"
         ],
         "lat": [
          25.90611,
          26.227222,
          26.175833
         ],
         "legendgroup": "49",
         "lon": [
          -97.42611,
          -97.65528,
          -98.23861
         ],
         "marker": {
          "color": "#636efa",
          "size": 15,
          "symbol": "diamond"
         },
         "mode": "markers",
         "name": "49",
         "showlegend": true,
         "type": "scattergeo"
        },
        {
         "geo": "geo",
         "hovertemplate": "<b>%{hovertext}</b><br><br>Label=75<br>LATITUDE=%{lat}<br>LONGITUDE=%{lon}<extra></extra>",
         "hovertext": [
          "CLL Easterwood Field",
          "HOU William P Hobby",
          "IAH George Bush Intercontinental/Houston"
         ],
         "lat": [
          30.588055,
          29.645834,
          29.984444
         ],
         "legendgroup": "75",
         "lon": [
          -96.3625,
          -95.27722,
          -95.34139
         ],
         "marker": {
          "color": "#636efa",
          "size": 15,
          "symbol": "square"
         },
         "mode": "markers",
         "name": "75",
         "showlegend": true,
         "type": "scattergeo"
        },
        {
         "geo": "geo",
         "hovertemplate": "<b>%{hovertext}</b><br><br>Label=35<br>LATITUDE=%{lat}<br>LONGITUDE=%{lon}<extra></extra>",
         "hovertext": [
          "LBB Lubbock Preston Smith International",
          "AMA Rick Husband Amarillo International"
         ],
         "lat": [
          33.663612,
          35.219444
         ],
         "legendgroup": "35",
         "lon": [
          -101.82056,
          -101.70583
         ],
         "marker": {
          "color": "#636efa",
          "size": 15,
          "symbol": "x"
         },
         "mode": "markers",
         "name": "35",
         "showlegend": true,
         "type": "scattergeo"
        },
        {
         "geo": "geo",
         "hovertemplate": "<b>%{hovertext}</b><br><br>Label=73<br>LATITUDE=%{lat}<br>LONGITUDE=%{lon}<extra></extra>",
         "hovertext": [
          "DAL Dallas Love Field",
          "DFW Dallas/Fort Worth International"
         ],
         "lat": [
          32.845833,
          32.89722
         ],
         "legendgroup": "73",
         "lon": [
          -96.85083,
          -97.03778
         ],
         "marker": {
          "color": "#636efa",
          "size": 15,
          "symbol": "cross"
         },
         "mode": "markers",
         "name": "73",
         "showlegend": true,
         "type": "scattergeo"
        },
        {
         "geo": "geo",
         "hovertemplate": "<b>%{hovertext}</b><br><br>Label=21<br>LATITUDE=%{lat}<br>LONGITUDE=%{lon}<extra></extra>",
         "hovertext": [
          "OGD Ogden-Hinckley",
          "SLC Salt Lake City International",
          "PVU Provo Municipal"
         ],
         "lat": [
          41.195,
          40.788334,
          40.219166
         ],
         "legendgroup": "21",
         "lon": [
          -112.01222,
          -111.977776,
          -111.723335
         ],
         "marker": {
          "color": "#636efa",
          "size": 15,
          "symbol": "circle"
         },
         "mode": "markers",
         "name": "21",
         "showlegend": true,
         "type": "scattergeo"
        },
        {
         "geo": "geo",
         "hovertemplate": "<b>%{hovertext}</b><br><br>Label=25<br>LATITUDE=%{lat}<br>LONGITUDE=%{lon}<extra></extra>",
         "hovertext": [
          "VEL Vernal Regional",
          "RKS Southwest Wyoming Regional"
         ],
         "lat": [
          40.43611,
          41.594166
         ],
         "legendgroup": "25",
         "lon": [
          -109.51139,
          -109.06528
         ],
         "marker": {
          "color": "#636efa",
          "size": 15,
          "symbol": "diamond"
         },
         "mode": "markers",
         "name": "25",
         "showlegend": true,
         "type": "scattergeo"
        },
        {
         "geo": "geo",
         "hovertemplate": "<b>%{hovertext}</b><br><br>Label=5<br>LATITUDE=%{lat}<br>LONGITUDE=%{lon}<extra></extra>",
         "hovertext": [
          "SGU St George Regional",
          "CDC Cedar City Regional"
         ],
         "lat": [
          37.03639,
          37.700832
         ],
         "legendgroup": "5",
         "lon": [
          -113.51028,
          -113.09889
         ],
         "marker": {
          "color": "#636efa",
          "size": 15,
          "symbol": "square"
         },
         "mode": "markers",
         "name": "5",
         "showlegend": true,
         "type": "scattergeo"
        },
        {
         "geo": "geo",
         "hovertemplate": "<b>%{hovertext}</b><br><br>Label=85<br>LATITUDE=%{lat}<br>LONGITUDE=%{lon}<extra></extra>",
         "hovertext": [
          "RIC Richmond International",
          "ORF Norfolk International",
          "PHF Newport News/Williamsburg International"
         ],
         "lat": [
          37.50528,
          36.894722,
          37.131943
         ],
         "legendgroup": "85",
         "lon": [
          -77.319725,
          -76.20111,
          -76.49306
         ],
         "marker": {
          "color": "#636efa",
          "size": 15,
          "symbol": "x"
         },
         "mode": "markers",
         "name": "85",
         "showlegend": true,
         "type": "scattergeo"
        },
        {
         "geo": "geo",
         "hovertemplate": "<b>%{hovertext}</b><br><br>Label=98<br>LATITUDE=%{lat}<br>LONGITUDE=%{lon}<extra></extra>",
         "hovertext": [
          "SHD Shenandoah Valley Regional",
          "CHO Charlottesville Albemarle"
         ],
         "lat": [
          38.26389,
          38.13972
         ],
         "legendgroup": "98",
         "lon": [
          -78.896385,
          -78.452225
         ],
         "marker": {
          "color": "#636efa",
          "size": 15,
          "symbol": "cross"
         },
         "mode": "markers",
         "name": "98",
         "showlegend": true,
         "type": "scattergeo"
        },
        {
         "geo": "geo",
         "hovertemplate": "<b>%{hovertext}</b><br><br>Label=97<br>LATITUDE=%{lat}<br>LONGITUDE=%{lon}<extra></extra>",
         "hovertext": [
          "ROA Roanoke Blacksburg Regional",
          "LYH Lynchburg Regional/Preston Glenn Field",
          "LWB Greenbrier Valley"
         ],
         "lat": [
          37.325554,
          37.32528,
          37.858334
         ],
         "legendgroup": "97",
         "lon": [
          -79.975555,
          -79.20111,
          -80.399445
         ],
         "marker": {
          "color": "#636efa",
          "size": 15,
          "symbol": "circle"
         },
         "mode": "markers",
         "name": "97",
         "showlegend": true,
         "type": "scattergeo"
        },
        {
         "geo": "geo",
         "hovertemplate": "<b>%{hovertext}</b><br><br>Label=18<br>LATITUDE=%{lat}<br>LONGITUDE=%{lon}<extra></extra>",
         "hovertext": [
          "BLI Bellingham International",
          "PAE Snohomish County",
          "SEA Seattle/Tacoma International"
         ],
         "lat": [
          48.792778,
          47.907223,
          47.45
         ],
         "legendgroup": "18",
         "lon": [
          -122.5375,
          -122.28222,
          -122.31167
         ],
         "marker": {
          "color": "#636efa",
          "size": 15,
          "symbol": "diamond"
         },
         "mode": "markers",
         "name": "18",
         "showlegend": true,
         "type": "scattergeo"
        },
        {
         "geo": "geo",
         "hovertemplate": "<b>%{hovertext}</b><br><br>Label=10<br>LATITUDE=%{lat}<br>LONGITUDE=%{lon}<extra></extra>",
         "hovertext": [
          "EAT Pangborn Memorial",
          "YKM Yakima Air Terminal/McAllister Field"
         ],
         "lat": [
          47.398888,
          46.568054
         ],
         "legendgroup": "10",
         "lon": [
          -120.20695,
          -120.54417
         ],
         "marker": {
          "color": "#636efa",
          "size": 15,
          "symbol": "square"
         },
         "mode": "markers",
         "name": "10",
         "showlegend": true,
         "type": "scattergeo"
        },
        {
         "geo": "geo",
         "hovertemplate": "<b>%{hovertext}</b><br><br>Label=12<br>LATITUDE=%{lat}<br>LONGITUDE=%{lon}<extra></extra>",
         "hovertext": [
          "PSC Tri Cities",
          "ALW Walla Walla Regional"
         ],
         "lat": [
          46.26472,
          46.0925
         ],
         "legendgroup": "12",
         "lon": [
          -119.11889,
          -118.284164
         ],
         "marker": {
          "color": "#636efa",
          "size": 15,
          "symbol": "x"
         },
         "mode": "markers",
         "name": "12",
         "showlegend": true,
         "type": "scattergeo"
        },
        {
         "geo": "geo",
         "hovertemplate": "<b>%{hovertext}</b><br><br>Label=59<br>LATITUDE=%{lat}<br>LONGITUDE=%{lon}<extra></extra>",
         "hovertext": [
          "LSE La Crosse Regional",
          "EAU Chippewa Valley Regional"
         ],
         "lat": [
          43.879166,
          44.865833
         ],
         "legendgroup": "59",
         "lon": [
          -91.25667,
          -91.48417
         ],
         "marker": {
          "color": "#636efa",
          "size": 15,
          "symbol": "cross"
         },
         "mode": "markers",
         "name": "59",
         "showlegend": true,
         "type": "scattergeo"
        },
        {
         "geo": "geo",
         "hovertemplate": "<b>%{hovertext}</b><br><br>Label=81<br>LATITUDE=%{lat}<br>LONGITUDE=%{lon}<extra></extra>",
         "hovertext": [
          "CWA Central Wisconsin",
          "RHI Rhinelander/Oneida County"
         ],
         "lat": [
          44.7775,
          45.630833
         ],
         "legendgroup": "81",
         "lon": [
          -89.666664,
          -89.46667
         ],
         "marker": {
          "color": "#636efa",
          "size": 15,
          "symbol": "circle"
         },
         "mode": "markers",
         "name": "81",
         "showlegend": true,
         "type": "scattergeo"
        },
        {
         "geo": "geo",
         "hovertemplate": "<b>%{hovertext}</b><br><br>Label=80<br>LATITUDE=%{lat}<br>LONGITUDE=%{lon}<extra></extra>",
         "hovertext": [
          "ATW Appleton International",
          "GRB Green Bay Austin Straubel International"
         ],
         "lat": [
          44.258057,
          44.484722
         ],
         "legendgroup": "80",
         "lon": [
          -88.519165,
          -88.12972
         ],
         "marker": {
          "color": "#636efa",
          "size": 15,
          "symbol": "diamond"
         },
         "mode": "markers",
         "name": "80",
         "showlegend": true,
         "type": "scattergeo"
        },
        {
         "geo": "geo",
         "hovertemplate": "<b>%{hovertext}</b><br><br>Label=79<br>LATITUDE=%{lat}<br>LONGITUDE=%{lon}<extra></extra>",
         "hovertext": [
          "CRW West Virginia International Yeager",
          "HTS Tri-State/Milton J. Ferguson Field"
         ],
         "lat": [
          38.37611,
          38.36861
         ],
         "legendgroup": "79",
         "lon": [
          -81.59278,
          -82.56028
         ],
         "marker": {
          "color": "#636efa",
          "size": 15,
          "symbol": "square"
         },
         "mode": "markers",
         "name": "79",
         "showlegend": true,
         "type": "scattergeo"
        },
        {
         "geo": "geo",
         "hovertemplate": "<b>%{hovertext}</b><br><br>Label=32<br>LATITUDE=%{lat}<br>LONGITUDE=%{lon}<extra></extra>",
         "hovertext": [
          "CYS Cheyenne Regional/Jerry Olson Field",
          "LAR Laramie Regional"
         ],
         "lat": [
          41.155556,
          41.311943
         ],
         "legendgroup": "32",
         "lon": [
          -104.810555,
          -105.675
         ],
         "marker": {
          "color": "#636efa",
          "size": 15,
          "symbol": "x"
         },
         "mode": "markers",
         "name": "32",
         "showlegend": true,
         "type": "scattergeo"
        },
        {
         "geo": "geo",
         "hovertemplate": "<b>%{hovertext}</b><br><br>Label=15<br>LATITUDE=%{lat}<br>LONGITUDE=%{lon}<extra></extra>",
         "hovertext": [
          "CPR Casper/Natrona County International",
          "GCC Northeast Wyoming Regional",
          "SHR Sheridan County"
         ],
         "lat": [
          42.905834,
          44.34889,
          44.769165
         ],
         "legendgroup": "15",
         "lon": [
          -106.46361,
          -105.539444,
          -106.98028
         ],
         "marker": {
          "color": "#636efa",
          "size": 15,
          "symbol": "cross"
         },
         "mode": "markers",
         "name": "15",
         "showlegend": true,
         "type": "scattergeo"
        }
       ],
       "layout": {
        "geo": {
         "center": {},
         "domain": {
          "x": [
           0,
           1
          ],
          "y": [
           0,
           1
          ]
         },
         "scope": "usa"
        },
        "height": 700,
        "legend": {
         "title": {
          "text": "Label"
         },
         "tracegroupgap": 0
        },
        "margin": {
         "t": 60
        },
        "template": {
         "data": {
          "bar": [
           {
            "error_x": {
             "color": "#2a3f5f"
            },
            "error_y": {
             "color": "#2a3f5f"
            },
            "marker": {
             "line": {
              "color": "#E5ECF6",
              "width": 0.5
             },
             "pattern": {
              "fillmode": "overlay",
              "size": 10,
              "solidity": 0.2
             }
            },
            "type": "bar"
           }
          ],
          "barpolar": [
           {
            "marker": {
             "line": {
              "color": "#E5ECF6",
              "width": 0.5
             },
             "pattern": {
              "fillmode": "overlay",
              "size": 10,
              "solidity": 0.2
             }
            },
            "type": "barpolar"
           }
          ],
          "carpet": [
           {
            "aaxis": {
             "endlinecolor": "#2a3f5f",
             "gridcolor": "white",
             "linecolor": "white",
             "minorgridcolor": "white",
             "startlinecolor": "#2a3f5f"
            },
            "baxis": {
             "endlinecolor": "#2a3f5f",
             "gridcolor": "white",
             "linecolor": "white",
             "minorgridcolor": "white",
             "startlinecolor": "#2a3f5f"
            },
            "type": "carpet"
           }
          ],
          "choropleth": [
           {
            "colorbar": {
             "outlinewidth": 0,
             "ticks": ""
            },
            "type": "choropleth"
           }
          ],
          "contour": [
           {
            "colorbar": {
             "outlinewidth": 0,
             "ticks": ""
            },
            "colorscale": [
             [
              0,
              "#0d0887"
             ],
             [
              0.1111111111111111,
              "#46039f"
             ],
             [
              0.2222222222222222,
              "#7201a8"
             ],
             [
              0.3333333333333333,
              "#9c179e"
             ],
             [
              0.4444444444444444,
              "#bd3786"
             ],
             [
              0.5555555555555556,
              "#d8576b"
             ],
             [
              0.6666666666666666,
              "#ed7953"
             ],
             [
              0.7777777777777778,
              "#fb9f3a"
             ],
             [
              0.8888888888888888,
              "#fdca26"
             ],
             [
              1,
              "#f0f921"
             ]
            ],
            "type": "contour"
           }
          ],
          "contourcarpet": [
           {
            "colorbar": {
             "outlinewidth": 0,
             "ticks": ""
            },
            "type": "contourcarpet"
           }
          ],
          "heatmap": [
           {
            "colorbar": {
             "outlinewidth": 0,
             "ticks": ""
            },
            "colorscale": [
             [
              0,
              "#0d0887"
             ],
             [
              0.1111111111111111,
              "#46039f"
             ],
             [
              0.2222222222222222,
              "#7201a8"
             ],
             [
              0.3333333333333333,
              "#9c179e"
             ],
             [
              0.4444444444444444,
              "#bd3786"
             ],
             [
              0.5555555555555556,
              "#d8576b"
             ],
             [
              0.6666666666666666,
              "#ed7953"
             ],
             [
              0.7777777777777778,
              "#fb9f3a"
             ],
             [
              0.8888888888888888,
              "#fdca26"
             ],
             [
              1,
              "#f0f921"
             ]
            ],
            "type": "heatmap"
           }
          ],
          "heatmapgl": [
           {
            "colorbar": {
             "outlinewidth": 0,
             "ticks": ""
            },
            "colorscale": [
             [
              0,
              "#0d0887"
             ],
             [
              0.1111111111111111,
              "#46039f"
             ],
             [
              0.2222222222222222,
              "#7201a8"
             ],
             [
              0.3333333333333333,
              "#9c179e"
             ],
             [
              0.4444444444444444,
              "#bd3786"
             ],
             [
              0.5555555555555556,
              "#d8576b"
             ],
             [
              0.6666666666666666,
              "#ed7953"
             ],
             [
              0.7777777777777778,
              "#fb9f3a"
             ],
             [
              0.8888888888888888,
              "#fdca26"
             ],
             [
              1,
              "#f0f921"
             ]
            ],
            "type": "heatmapgl"
           }
          ],
          "histogram": [
           {
            "marker": {
             "pattern": {
              "fillmode": "overlay",
              "size": 10,
              "solidity": 0.2
             }
            },
            "type": "histogram"
           }
          ],
          "histogram2d": [
           {
            "colorbar": {
             "outlinewidth": 0,
             "ticks": ""
            },
            "colorscale": [
             [
              0,
              "#0d0887"
             ],
             [
              0.1111111111111111,
              "#46039f"
             ],
             [
              0.2222222222222222,
              "#7201a8"
             ],
             [
              0.3333333333333333,
              "#9c179e"
             ],
             [
              0.4444444444444444,
              "#bd3786"
             ],
             [
              0.5555555555555556,
              "#d8576b"
             ],
             [
              0.6666666666666666,
              "#ed7953"
             ],
             [
              0.7777777777777778,
              "#fb9f3a"
             ],
             [
              0.8888888888888888,
              "#fdca26"
             ],
             [
              1,
              "#f0f921"
             ]
            ],
            "type": "histogram2d"
           }
          ],
          "histogram2dcontour": [
           {
            "colorbar": {
             "outlinewidth": 0,
             "ticks": ""
            },
            "colorscale": [
             [
              0,
              "#0d0887"
             ],
             [
              0.1111111111111111,
              "#46039f"
             ],
             [
              0.2222222222222222,
              "#7201a8"
             ],
             [
              0.3333333333333333,
              "#9c179e"
             ],
             [
              0.4444444444444444,
              "#bd3786"
             ],
             [
              0.5555555555555556,
              "#d8576b"
             ],
             [
              0.6666666666666666,
              "#ed7953"
             ],
             [
              0.7777777777777778,
              "#fb9f3a"
             ],
             [
              0.8888888888888888,
              "#fdca26"
             ],
             [
              1,
              "#f0f921"
             ]
            ],
            "type": "histogram2dcontour"
           }
          ],
          "mesh3d": [
           {
            "colorbar": {
             "outlinewidth": 0,
             "ticks": ""
            },
            "type": "mesh3d"
           }
          ],
          "parcoords": [
           {
            "line": {
             "colorbar": {
              "outlinewidth": 0,
              "ticks": ""
             }
            },
            "type": "parcoords"
           }
          ],
          "pie": [
           {
            "automargin": true,
            "type": "pie"
           }
          ],
          "scatter": [
           {
            "fillpattern": {
             "fillmode": "overlay",
             "size": 10,
             "solidity": 0.2
            },
            "type": "scatter"
           }
          ],
          "scatter3d": [
           {
            "line": {
             "colorbar": {
              "outlinewidth": 0,
              "ticks": ""
             }
            },
            "marker": {
             "colorbar": {
              "outlinewidth": 0,
              "ticks": ""
             }
            },
            "type": "scatter3d"
           }
          ],
          "scattercarpet": [
           {
            "marker": {
             "colorbar": {
              "outlinewidth": 0,
              "ticks": ""
             }
            },
            "type": "scattercarpet"
           }
          ],
          "scattergeo": [
           {
            "marker": {
             "colorbar": {
              "outlinewidth": 0,
              "ticks": ""
             }
            },
            "type": "scattergeo"
           }
          ],
          "scattergl": [
           {
            "marker": {
             "colorbar": {
              "outlinewidth": 0,
              "ticks": ""
             }
            },
            "type": "scattergl"
           }
          ],
          "scattermapbox": [
           {
            "marker": {
             "colorbar": {
              "outlinewidth": 0,
              "ticks": ""
             }
            },
            "type": "scattermapbox"
           }
          ],
          "scatterpolar": [
           {
            "marker": {
             "colorbar": {
              "outlinewidth": 0,
              "ticks": ""
             }
            },
            "type": "scatterpolar"
           }
          ],
          "scatterpolargl": [
           {
            "marker": {
             "colorbar": {
              "outlinewidth": 0,
              "ticks": ""
             }
            },
            "type": "scatterpolargl"
           }
          ],
          "scatterternary": [
           {
            "marker": {
             "colorbar": {
              "outlinewidth": 0,
              "ticks": ""
             }
            },
            "type": "scatterternary"
           }
          ],
          "surface": [
           {
            "colorbar": {
             "outlinewidth": 0,
             "ticks": ""
            },
            "colorscale": [
             [
              0,
              "#0d0887"
             ],
             [
              0.1111111111111111,
              "#46039f"
             ],
             [
              0.2222222222222222,
              "#7201a8"
             ],
             [
              0.3333333333333333,
              "#9c179e"
             ],
             [
              0.4444444444444444,
              "#bd3786"
             ],
             [
              0.5555555555555556,
              "#d8576b"
             ],
             [
              0.6666666666666666,
              "#ed7953"
             ],
             [
              0.7777777777777778,
              "#fb9f3a"
             ],
             [
              0.8888888888888888,
              "#fdca26"
             ],
             [
              1,
              "#f0f921"
             ]
            ],
            "type": "surface"
           }
          ],
          "table": [
           {
            "cells": {
             "fill": {
              "color": "#EBF0F8"
             },
             "line": {
              "color": "white"
             }
            },
            "header": {
             "fill": {
              "color": "#C8D4E3"
             },
             "line": {
              "color": "white"
             }
            },
            "type": "table"
           }
          ]
         },
         "layout": {
          "annotationdefaults": {
           "arrowcolor": "#2a3f5f",
           "arrowhead": 0,
           "arrowwidth": 1
          },
          "autotypenumbers": "strict",
          "coloraxis": {
           "colorbar": {
            "outlinewidth": 0,
            "ticks": ""
           }
          },
          "colorscale": {
           "diverging": [
            [
             0,
             "#8e0152"
            ],
            [
             0.1,
             "#c51b7d"
            ],
            [
             0.2,
             "#de77ae"
            ],
            [
             0.3,
             "#f1b6da"
            ],
            [
             0.4,
             "#fde0ef"
            ],
            [
             0.5,
             "#f7f7f7"
            ],
            [
             0.6,
             "#e6f5d0"
            ],
            [
             0.7,
             "#b8e186"
            ],
            [
             0.8,
             "#7fbc41"
            ],
            [
             0.9,
             "#4d9221"
            ],
            [
             1,
             "#276419"
            ]
           ],
           "sequential": [
            [
             0,
             "#0d0887"
            ],
            [
             0.1111111111111111,
             "#46039f"
            ],
            [
             0.2222222222222222,
             "#7201a8"
            ],
            [
             0.3333333333333333,
             "#9c179e"
            ],
            [
             0.4444444444444444,
             "#bd3786"
            ],
            [
             0.5555555555555556,
             "#d8576b"
            ],
            [
             0.6666666666666666,
             "#ed7953"
            ],
            [
             0.7777777777777778,
             "#fb9f3a"
            ],
            [
             0.8888888888888888,
             "#fdca26"
            ],
            [
             1,
             "#f0f921"
            ]
           ],
           "sequentialminus": [
            [
             0,
             "#0d0887"
            ],
            [
             0.1111111111111111,
             "#46039f"
            ],
            [
             0.2222222222222222,
             "#7201a8"
            ],
            [
             0.3333333333333333,
             "#9c179e"
            ],
            [
             0.4444444444444444,
             "#bd3786"
            ],
            [
             0.5555555555555556,
             "#d8576b"
            ],
            [
             0.6666666666666666,
             "#ed7953"
            ],
            [
             0.7777777777777778,
             "#fb9f3a"
            ],
            [
             0.8888888888888888,
             "#fdca26"
            ],
            [
             1,
             "#f0f921"
            ]
           ]
          },
          "colorway": [
           "#636efa",
           "#EF553B",
           "#00cc96",
           "#ab63fa",
           "#FFA15A",
           "#19d3f3",
           "#FF6692",
           "#B6E880",
           "#FF97FF",
           "#FECB52"
          ],
          "font": {
           "color": "#2a3f5f"
          },
          "geo": {
           "bgcolor": "white",
           "lakecolor": "white",
           "landcolor": "#E5ECF6",
           "showlakes": true,
           "showland": true,
           "subunitcolor": "white"
          },
          "hoverlabel": {
           "align": "left"
          },
          "hovermode": "closest",
          "mapbox": {
           "style": "light"
          },
          "paper_bgcolor": "white",
          "plot_bgcolor": "#E5ECF6",
          "polar": {
           "angularaxis": {
            "gridcolor": "white",
            "linecolor": "white",
            "ticks": ""
           },
           "bgcolor": "#E5ECF6",
           "radialaxis": {
            "gridcolor": "white",
            "linecolor": "white",
            "ticks": ""
           }
          },
          "scene": {
           "xaxis": {
            "backgroundcolor": "#E5ECF6",
            "gridcolor": "white",
            "gridwidth": 2,
            "linecolor": "white",
            "showbackground": true,
            "ticks": "",
            "zerolinecolor": "white"
           },
           "yaxis": {
            "backgroundcolor": "#E5ECF6",
            "gridcolor": "white",
            "gridwidth": 2,
            "linecolor": "white",
            "showbackground": true,
            "ticks": "",
            "zerolinecolor": "white"
           },
           "zaxis": {
            "backgroundcolor": "#E5ECF6",
            "gridcolor": "white",
            "gridwidth": 2,
            "linecolor": "white",
            "showbackground": true,
            "ticks": "",
            "zerolinecolor": "white"
           }
          },
          "shapedefaults": {
           "line": {
            "color": "#2a3f5f"
           }
          },
          "ternary": {
           "aaxis": {
            "gridcolor": "white",
            "linecolor": "white",
            "ticks": ""
           },
           "baxis": {
            "gridcolor": "white",
            "linecolor": "white",
            "ticks": ""
           },
           "bgcolor": "#E5ECF6",
           "caxis": {
            "gridcolor": "white",
            "linecolor": "white",
            "ticks": ""
           }
          },
          "title": {
           "x": 0.05
          },
          "xaxis": {
           "automargin": true,
           "gridcolor": "white",
           "linecolor": "white",
           "ticks": "",
           "title": {
            "standoff": 15
           },
           "zerolinecolor": "white",
           "zerolinewidth": 2
          },
          "yaxis": {
           "automargin": true,
           "gridcolor": "white",
           "linecolor": "white",
           "ticks": "",
           "title": {
            "standoff": 15
           },
           "zerolinecolor": "white",
           "zerolinewidth": 2
          }
         }
        }
       }
      }
     },
     "metadata": {},
     "output_type": "display_data"
    }
   ],
   "source": [
    "plot_clusters(model_hdb).show()"
   ]
  }
 ],
 "metadata": {
  "kernelspec": {
   "display_name": "Python 3.10.11 64-bit (microsoft store)",
   "language": "python",
   "name": "python3"
  },
  "language_info": {
   "codemirror_mode": {
    "name": "ipython",
    "version": 3
   },
   "file_extension": ".py",
   "mimetype": "text/x-python",
   "name": "python",
   "nbconvert_exporter": "python",
   "pygments_lexer": "ipython3",
   "version": "3.10.11"
  },
  "orig_nbformat": 4,
  "vscode": {
   "interpreter": {
    "hash": "d1afd38e33051f7f0b6d1bfa4c297759d67c79cde33f4b25a646a40304c8f70c"
   }
  }
 },
 "nbformat": 4,
 "nbformat_minor": 2
}

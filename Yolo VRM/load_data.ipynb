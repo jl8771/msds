{
 "cells": [
  {
   "cell_type": "code",
   "execution_count": 2,
   "metadata": {},
   "outputs": [],
   "source": [
    "import json\n",
    "import cv2\n",
    "import os\n",
    "import matplotlib.pyplot as plt\n",
    "import shutil\n",
    "\n",
    "input_path = \"./coco_dataset\"\n",
    "output_path = \"./pcbtopdown/\""
   ]
  },
  {
   "cell_type": "code",
   "execution_count": 41,
   "metadata": {},
   "outputs": [],
   "source": [
    "f = open('./coco_dataset/labels.json')\n",
    "data = json.load(f)\n",
    "f.close()"
   ]
  },
  {
   "cell_type": "code",
   "execution_count": 42,
   "metadata": {},
   "outputs": [],
   "source": [
    "def get_img_ann(image_id):\n",
    "    img_ann = []\n",
    "    isFound = False\n",
    "    for ann in data['annotations']:\n",
    "        if ann['image_id'] == image_id:\n",
    "            img_ann.append(ann)\n",
    "            isFound = True\n",
    "    if isFound:\n",
    "        return img_ann\n",
    "    else:\n",
    "        return None\n",
    "\n",
    "def get_img(filename):\n",
    "  for img in data['images']:\n",
    "    if img['file_name'] == filename:\n",
    "      return img"
   ]
  },
  {
   "cell_type": "code",
   "execution_count": 43,
   "metadata": {},
   "outputs": [
    {
     "name": "stdout",
     "output_type": "stream",
     "text": [
      "All files copied successfully\n"
     ]
    }
   ],
   "source": [
    "file_names = []\n",
    "\n",
    "def load_images_from_folder(folder):\n",
    "    count = 0\n",
    "    tracker = []\n",
    "    for filename in os.listdir(folder):\n",
    "        source = os.path.join(folder,filename)\n",
    "        destination = f\"{output_path}images/img{count}.jpg\"\n",
    "        try:\n",
    "            shutil.copy(source, destination)\n",
    "            tracker.append(1)\n",
    "        except shutil.SameFileError:\n",
    "            print(\"Source and destination represents the same file.\")\n",
    "\n",
    "        file_names.append(filename)\n",
    "        count += 1\n",
    "    if len(tracker) == len(file_names):\n",
    "        print('All files copied successfully')\n",
    "\n",
    "load_images_from_folder('./coco_dataset/images')\n"
   ]
  },
  {
   "cell_type": "code",
   "execution_count": 44,
   "metadata": {},
   "outputs": [],
   "source": [
    "count = 0\n",
    "\n",
    "for filename in file_names:\n",
    "    # Extracting image \n",
    "    img = get_img(filename)\n",
    "    img_id = img['id']\n",
    "    img_w = img['width']\n",
    "    img_h = img['height']\n",
    "\n",
    "    # Get Annotations for this image\n",
    "    img_ann = get_img_ann(img_id)\n",
    "\n",
    "    if img_ann:\n",
    "        # Opening file for current image\n",
    "        file_object = open(f\"{output_path}labels/img{count}.txt\", \"a\")\n",
    "\n",
    "        for ann in img_ann:\n",
    "            current_category = ann['category_id'] - 1 # As yolo format labels start from 0 \n",
    "            current_bbox = ann['bbox']\n",
    "            x = current_bbox[0]\n",
    "            y = current_bbox[1]\n",
    "            w = current_bbox[2]\n",
    "            h = current_bbox[3]\n",
    "            \n",
    "            # Finding midpoints\n",
    "            x_centre = (x + (x+w))/2\n",
    "            y_centre = (y + (y+h))/2\n",
    "            \n",
    "            # Normalization\n",
    "            x_centre = x_centre / img_w\n",
    "            y_centre = y_centre / img_h\n",
    "            w = w / img_w\n",
    "            h = h / img_h\n",
    "            \n",
    "            # Limiting upto fix number of decimal places\n",
    "            x_centre = format(x_centre, '.6f')\n",
    "            y_centre = format(y_centre, '.6f')\n",
    "            w = format(w, '.6f')\n",
    "            h = format(h, '.6f')\n",
    "                \n",
    "            # Writing current object \n",
    "            file_object.write(f\"{current_category} {x_centre} {y_centre} {w} {h}\\n\")\n",
    "\n",
    "        file_object.close()\n",
    "        count += 1"
   ]
  }
 ],
 "metadata": {
  "kernelspec": {
   "display_name": "Python 3.10.11 64-bit (microsoft store)",
   "language": "python",
   "name": "python3"
  },
  "language_info": {
   "codemirror_mode": {
    "name": "ipython",
    "version": 3
   },
   "file_extension": ".py",
   "mimetype": "text/x-python",
   "name": "python",
   "nbconvert_exporter": "python",
   "pygments_lexer": "ipython3",
   "version": "3.10.11"
  },
  "orig_nbformat": 4,
  "vscode": {
   "interpreter": {
    "hash": "d1afd38e33051f7f0b6d1bfa4c297759d67c79cde33f4b25a646a40304c8f70c"
   }
  }
 },
 "nbformat": 4,
 "nbformat_minor": 2
}
